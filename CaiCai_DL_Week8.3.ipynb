{
  "nbformat": 4,
  "nbformat_minor": 0,
  "metadata": {
    "colab": {
      "provenance": [],
      "authorship_tag": "ABX9TyNCKU+RfD64PiY+58B/auOd",
      "include_colab_link": true
    },
    "kernelspec": {
      "name": "python3",
      "display_name": "Python 3"
    },
    "language_info": {
      "name": "python"
    }
  },
  "cells": [
    {
      "cell_type": "markdown",
      "metadata": {
        "id": "view-in-github",
        "colab_type": "text"
      },
      "source": [
        "<a href=\"https://colab.research.google.com/github/boshuaiYu/CaiCai_DL/blob/main/CaiCai_DL_Week8.3.ipynb\" target=\"_parent\"><img src=\"https://colab.research.google.com/assets/colab-badge.svg\" alt=\"Open In Colab\"/></a>"
      ]
    },
    {
      "cell_type": "markdown",
      "source": [
        "# <font color=\"orange\">**SOTA Model(state of the art models)**"
      ],
      "metadata": {
        "id": "cjCZau1pkbYw"
      }
    },
    {
      "cell_type": "markdown",
      "source": [
        "## **1.1 GoogleNet**"
      ],
      "metadata": {
        "id": "zzCJy8Lfkzg2"
      }
    },
    {
      "cell_type": "markdown",
      "source": [
        "构建架构前要先构建几个模块：\n",
        "<font color=\"orange\">\n",
        "1. **conv+BN+ReLU --> BasicConv**\n",
        "2. **Inception**\n",
        "3. **AuxClf(辅助分类器)**\n",
        "\n"
      ],
      "metadata": {
        "id": "-TlnPjhfJymT"
      }
    },
    {
      "cell_type": "code",
      "source": [
        "import torch\n",
        "from torch import nn"
      ],
      "metadata": {
        "id": "2UhtlTSUH7El"
      },
      "execution_count": null,
      "outputs": []
    },
    {
      "cell_type": "markdown",
      "source": [
        "### &emsp;&emsp;模块一：BasicConv2d"
      ],
      "metadata": {
        "id": "lFHIS9lkLFpa"
      }
    },
    {
      "cell_type": "code",
      "source": [
        "class BasicConv2d(nn.Module):\n",
        "  def __init__(self,in_channels,out_channels,**kwargs): # **kwargs表示可以调用小模块中的所有参数\n",
        "    super(BasicConv2d,self).__init__()\n",
        "    self.conv = nn.Sequential(nn.Conv2d(in_channels,out_channels,bias=False,**kwargs)\n",
        "                  ,nn.BatchNorm2d(out_channels)\n",
        "                  ,nn.ReLU(inplace=True))\n",
        "  \n",
        "  def forward(self,x):\n",
        "    x = self.conv(x)\n",
        "    return x"
      ],
      "metadata": {
        "id": "1XStz3mEH_if"
      },
      "execution_count": null,
      "outputs": []
    },
    {
      "cell_type": "code",
      "source": [
        "BasicConv2d(2,10,kernel_size=3,padding=1,stride=1)"
      ],
      "metadata": {
        "colab": {
          "base_uri": "https://localhost:8080/"
        },
        "id": "Jmixt2OkKPrQ",
        "outputId": "b120eaf8-19c4-47d8-ea3d-6b8cfe4fb9f2"
      },
      "execution_count": null,
      "outputs": [
        {
          "output_type": "execute_result",
          "data": {
            "text/plain": [
              "BasicConv2d(\n",
              "  (conv): Sequential(\n",
              "    (0): Conv2d(2, 10, kernel_size=(3, 3), stride=(1, 1), padding=(1, 1), bias=False)\n",
              "    (1): BatchNorm2d(10, eps=1e-05, momentum=0.1, affine=True, track_running_stats=True)\n",
              "    (2): ReLU(inplace=True)\n",
              "  )\n",
              ")"
            ]
          },
          "metadata": {},
          "execution_count": 12
        }
      ]
    },
    {
      "cell_type": "markdown",
      "source": [
        "### &emsp;&emsp;模块二：Inception"
      ],
      "metadata": {
        "id": "pWDEvckBLOcY"
      }
    },
    {
      "cell_type": "code",
      "execution_count": null,
      "metadata": {
        "id": "9fKAuNe7kZPh"
      },
      "outputs": [],
      "source": [
        "class Inception(nn.Module):\n",
        "  def __init__(self\n",
        "         ,in_channels : int\n",
        "         ,ch1x1 : int\n",
        "         ,ch3x3red : int\n",
        "         ,ch3x3 : int\n",
        "         ,ch5x5red : int\n",
        "         ,ch5x5 : int\n",
        "         ,pool_proj : int\n",
        "         ):\n",
        "    super(Inception,self).__init__()\n",
        "\n",
        "    # 1x1\n",
        "    self.branch1 = BasicConv2d(in_channels,ch1x1,kernel_size=1)\n",
        "\n",
        "    # 1x1+3x3\n",
        "    self.branch2 = nn.Sequential(BasicConv2d(in_channels,ch3x3red,kernel_size=1)\n",
        "                   ,BasicConv2d(ch3x3red,ch3x3,kernel_size=3,padding=1))\n",
        "    \n",
        "    # 1x1+5x5\n",
        "    self.branch3 = nn.Sequential(BasicConv2d(in_channels,ch5x5red,kernel_size=1)\n",
        "                   ,BasicConv2d(ch5x5red,ch5x5,kernel_size=5,padding=2))\n",
        "    # pool+1x1\n",
        "    self.branch4 = nn.Sequential(nn.MaxPool2d(kernel_size=3,stride=1,padding=1,ceil_mode=True)\n",
        "                   ,BasicConv2d(in_channels,pool_proj,kernel_size=1))\n",
        "    \n",
        "  def forward(self,x):\n",
        "    branch1 = self.branch1(x) # 28x28xch1x1\n",
        "    branch2 = self.branch2(x) # 28x28xch3x3\n",
        "    branch3 = self.branch3(x) # 28x28xch5x5\n",
        "    branch4 = self.branch4(x) # 28x28xpool_proj\n",
        "    outputs = [branch1,branch2,branch3,branch4]\n",
        "    return torch.cat(outputs,1)"
      ]
    },
    {
      "cell_type": "code",
      "source": [
        "in3a = Inception(192,64,96,128,16,32,32)\n",
        "in3a"
      ],
      "metadata": {
        "colab": {
          "base_uri": "https://localhost:8080/"
        },
        "id": "9vM3xkI3Qm-u",
        "outputId": "0259bfc0-83cd-4e34-8e9f-739eddc29438"
      },
      "execution_count": null,
      "outputs": [
        {
          "output_type": "execute_result",
          "data": {
            "text/plain": [
              "Inception(\n",
              "  (branch1): BasicConv2d(\n",
              "    (conv): Sequential(\n",
              "      (0): Conv2d(192, 64, kernel_size=(1, 1), stride=(1, 1), bias=False)\n",
              "      (1): BatchNorm2d(64, eps=1e-05, momentum=0.1, affine=True, track_running_stats=True)\n",
              "      (2): ReLU(inplace=True)\n",
              "    )\n",
              "  )\n",
              "  (branch2): Sequential(\n",
              "    (0): BasicConv2d(\n",
              "      (conv): Sequential(\n",
              "        (0): Conv2d(192, 96, kernel_size=(1, 1), stride=(1, 1), bias=False)\n",
              "        (1): BatchNorm2d(96, eps=1e-05, momentum=0.1, affine=True, track_running_stats=True)\n",
              "        (2): ReLU(inplace=True)\n",
              "      )\n",
              "    )\n",
              "    (1): BasicConv2d(\n",
              "      (conv): Sequential(\n",
              "        (0): Conv2d(96, 128, kernel_size=(3, 3), stride=(1, 1), padding=(1, 1), bias=False)\n",
              "        (1): BatchNorm2d(128, eps=1e-05, momentum=0.1, affine=True, track_running_stats=True)\n",
              "        (2): ReLU(inplace=True)\n",
              "      )\n",
              "    )\n",
              "  )\n",
              "  (branch3): Sequential(\n",
              "    (0): BasicConv2d(\n",
              "      (conv): Sequential(\n",
              "        (0): Conv2d(192, 16, kernel_size=(1, 1), stride=(1, 1), bias=False)\n",
              "        (1): BatchNorm2d(16, eps=1e-05, momentum=0.1, affine=True, track_running_stats=True)\n",
              "        (2): ReLU(inplace=True)\n",
              "      )\n",
              "    )\n",
              "    (1): BasicConv2d(\n",
              "      (conv): Sequential(\n",
              "        (0): Conv2d(16, 32, kernel_size=(5, 5), stride=(1, 1), padding=(2, 2), bias=False)\n",
              "        (1): BatchNorm2d(32, eps=1e-05, momentum=0.1, affine=True, track_running_stats=True)\n",
              "        (2): ReLU(inplace=True)\n",
              "      )\n",
              "    )\n",
              "  )\n",
              "  (branch4): Sequential(\n",
              "    (0): MaxPool2d(kernel_size=3, stride=1, padding=1, dilation=1, ceil_mode=True)\n",
              "    (1): BasicConv2d(\n",
              "      (conv): Sequential(\n",
              "        (0): Conv2d(192, 32, kernel_size=(1, 1), stride=(1, 1), bias=False)\n",
              "        (1): BatchNorm2d(32, eps=1e-05, momentum=0.1, affine=True, track_running_stats=True)\n",
              "        (2): ReLU(inplace=True)\n",
              "      )\n",
              "    )\n",
              "  )\n",
              ")"
            ]
          },
          "metadata": {},
          "execution_count": 34
        }
      ]
    },
    {
      "cell_type": "code",
      "source": [
        "data = torch.ones(10,192,28,28)\n",
        "in3a(data).shape"
      ],
      "metadata": {
        "colab": {
          "base_uri": "https://localhost:8080/"
        },
        "id": "vHshLiKPQ1RS",
        "outputId": "d7997cb7-f6f0-44f4-c4a3-6b4ee75d564c"
      },
      "execution_count": null,
      "outputs": [
        {
          "output_type": "execute_result",
          "data": {
            "text/plain": [
              "torch.Size([10, 256, 28, 28])"
            ]
          },
          "metadata": {},
          "execution_count": 35
        }
      ]
    },
    {
      "cell_type": "markdown",
      "source": [
        "### &emsp;&emsp;模块三：AuxClf(辅助分类器)"
      ],
      "metadata": {
        "id": "2peohtFqQbOJ"
      }
    },
    {
      "cell_type": "code",
      "source": [
        "class AuxClf(nn.Module):\n",
        "  def __init__(self,in_channels:int,num_classes:int,**kwargs):\n",
        "    super(AuxClf,self).__init__()\n",
        "    self.features_ = nn.Sequential(nn.AvgPool2d(kernel_size=5,stride=3)\n",
        "                         ,BasicConv2d(in_channels,128,kernel_size=1))\n",
        "    self.clf_ = nn.Sequential(nn.Linear(4*4*128,1024)\n",
        "                  ,nn.ReLU(inplace=True)\n",
        "                  ,nn.Dropout(p=0.7)\n",
        "                  ,nn.Linear(1024,num_classes))\n",
        "  \n",
        "  def forward(self,x):\n",
        "    x = self.features_(x)\n",
        "    x = x.view(-1,4*4*128)\n",
        "    out = self.clf_(x)\n",
        "    return out"
      ],
      "metadata": {
        "id": "IlWtxU5hPrxf"
      },
      "execution_count": null,
      "outputs": []
    },
    {
      "cell_type": "code",
      "source": [
        "# 4a后的\n",
        "AuxClf(512,1000)"
      ],
      "metadata": {
        "colab": {
          "base_uri": "https://localhost:8080/"
        },
        "id": "wRwzGg7rUzp4",
        "outputId": "9eefff0c-5303-41bd-97c6-a8b08493b706"
      },
      "execution_count": null,
      "outputs": [
        {
          "output_type": "execute_result",
          "data": {
            "text/plain": [
              "AuxClf(\n",
              "  (features_): Sequential(\n",
              "    (0): AvgPool2d(kernel_size=5, stride=3, padding=0)\n",
              "    (1): BasicConv2d(\n",
              "      (conv): Sequential(\n",
              "        (0): Conv2d(512, 128, kernel_size=(1, 1), stride=(1, 1), bias=False)\n",
              "        (1): BatchNorm2d(128, eps=1e-05, momentum=0.1, affine=True, track_running_stats=True)\n",
              "        (2): ReLU(inplace=True)\n",
              "      )\n",
              "    )\n",
              "  )\n",
              "  (clf_): Sequential(\n",
              "    (0): Linear(in_features=2048, out_features=1024, bias=True)\n",
              "    (1): ReLU(inplace=True)\n",
              "    (2): Dropout(p=0.7, inplace=False)\n",
              "    (3): Linear(in_features=1024, out_features=1000, bias=True)\n",
              "  )\n",
              ")"
            ]
          },
          "metadata": {},
          "execution_count": 54
        }
      ]
    },
    {
      "cell_type": "markdown",
      "source": [
        "### &emsp;&emsp;模块三：完整架构"
      ],
      "metadata": {
        "id": "Wb1wNySsV5KC"
      }
    },
    {
      "cell_type": "code",
      "source": [
        "class GoogleNet(nn.Module):\n",
        "  def __init__(self,num_classes:int=1000,blocks=None):\n",
        "    super(GoogleNet,self).__init__()\n",
        "\n",
        "    if blocks is None: # 对blocks进行处理，简化后续\n",
        "      blocks = [BasicConv2d,Inception,AuxClf]\n",
        "    conv_block = blocks[0]\n",
        "    inception_block = blocks[1]\n",
        "    auxclf_block = blocks[2]\n",
        "\n",
        "    # block1\n",
        "    self.conv1 = conv_block(3,64,kernel_size=7,stride=2,padding=3)\n",
        "    self.maxpool1 = nn.MaxPool2d(kernel_size=3,stride=2,ceil_mode=True)  # 向上取整\n",
        "\n",
        "    # block2\n",
        "    self.conv2 = conv_block(64,64,kernel_size=1)\n",
        "    self.conv3 = conv_block(64,192,kernel_size=3,padding=1)\n",
        "    self.maxpool2 = nn.MaxPool2d(kernel_size=3,stride=2,ceil_mode=True)\n",
        "\n",
        "    # block3\n",
        "    self.inception3a = inception_block(192,64,96,128,16,32,32)\n",
        "    self.inception3b = inception_block(256,128,128,192,32,96,64)\n",
        "    self.maxpool3 = nn.MaxPool2d(kernel_size=3,stride=2,ceil_mode=True)\n",
        "\n",
        "    # block4\n",
        "    self.inception4a = inception_block(480,192,96,208,16,48,64)\n",
        "    self.inception4b = inception_block(512,160,112,224,24,64,64)\n",
        "    self.inception4c = inception_block(512,128,128,256,24,64,64)\n",
        "    self.inception4d = inception_block(512,112,144,288,32,64,64)\n",
        "    self.inception4e = inception_block(528,256,160,320,32,128,128)\n",
        "    self.maxpool4 = nn.MaxPool2d(kernel_size=3,stride=2,ceil_mode=True)\n",
        "\n",
        "    # block5\n",
        "    self.inception5a = inception_block(832,256,160,320,32,128,128)\n",
        "    self.inception5b = inception_block(832,384,192,384,48,128,128)\n",
        "\n",
        "    # clf\n",
        "    self.avgpool = nn.AdaptiveAvgPool2d((1,1)) # 给出需要的特征图尺寸就可以\n",
        "    self.dropout = nn.Dropout(0.4)\n",
        "    self.fc = nn.Linear(1024,num_classes)\n",
        "\n",
        "    # auxclf\n",
        "    self.aux1 = auxclf_block(512,num_classes) # 4a\n",
        "    self.aux2 = auxclf_block(528,num_classes) # 4d\n",
        "  \n",
        "  def forward(self,x):\n",
        "\n",
        "    # block1\n",
        "    x = self.maxpool1(self.conv1(x))\n",
        "\n",
        "    # block2\n",
        "    x = self.maxpool2(self.conv3(self.conv2(x)))\n",
        "\n",
        "    # block3\n",
        "    x = self.inception3a(x)\n",
        "    x = self.inception3b(x)\n",
        "    x = self.maxpool3(x)\n",
        "\n",
        "    # block4\n",
        "    x = self.inception4a(x)\n",
        "    aux1 = self.aux1(x)\n",
        "\n",
        "    x = self.inception4b(x)\n",
        "    x = self.inception4c(x)\n",
        "    x = self.inception4d(x)\n",
        "    aux2 = self.aux2(x)\n",
        "\n",
        "    x = self.inception4e(x)\n",
        "    x = self.maxpool4(x)\n",
        "\n",
        "    # block5\n",
        "    x = self.inception5a(x)\n",
        "    x = self.inception5b(x)\n",
        "\n",
        "    # clf\n",
        "    x = self.avgpool(x) # 全局平均池化之后，特征图变成1x1\n",
        "    x = torch.flatten(x,1)\n",
        "    x = self.dropout(x)\n",
        "    out = self.fc(x)\n",
        "\n",
        "    return out,aux2,aux1  "
      ],
      "metadata": {
        "id": "Gk6DdZ9ZVtjJ"
      },
      "execution_count": null,
      "outputs": []
    },
    {
      "cell_type": "code",
      "source": [
        "data = torch.ones(10,3,224,224)\n",
        "net = GoogleNet(num_classes=1000)"
      ],
      "metadata": {
        "id": "EHPYTEJhWAuC"
      },
      "execution_count": null,
      "outputs": []
    },
    {
      "cell_type": "code",
      "source": [
        "fc2,fc1,fc0 = net(data)"
      ],
      "metadata": {
        "id": "a5pLKBJ9eJVR"
      },
      "execution_count": null,
      "outputs": []
    },
    {
      "cell_type": "code",
      "source": [
        "for i in [fc2,fc1,fc0]:\n",
        "  print(i.shape)"
      ],
      "metadata": {
        "colab": {
          "base_uri": "https://localhost:8080/"
        },
        "id": "Q6K0Od9feQn6",
        "outputId": "0fa9c70b-ca76-4970-8350-cbae41480b9f"
      },
      "execution_count": null,
      "outputs": [
        {
          "output_type": "stream",
          "name": "stdout",
          "text": [
            "torch.Size([10, 1000])\n",
            "torch.Size([10, 1000])\n",
            "torch.Size([10, 1000])\n"
          ]
        }
      ]
    },
    {
      "cell_type": "code",
      "source": [
        "!pip install torchinfo"
      ],
      "metadata": {
        "colab": {
          "base_uri": "https://localhost:8080/"
        },
        "id": "K-3E2XsmiK0b",
        "outputId": "ed57748a-a8d4-468d-dbb5-950b8268b39e"
      },
      "execution_count": null,
      "outputs": [
        {
          "output_type": "stream",
          "name": "stdout",
          "text": [
            "Looking in indexes: https://pypi.org/simple, https://us-python.pkg.dev/colab-wheels/public/simple/\n",
            "Collecting torchinfo\n",
            "  Downloading torchinfo-1.7.1-py3-none-any.whl (22 kB)\n",
            "Installing collected packages: torchinfo\n",
            "Successfully installed torchinfo-1.7.1\n"
          ]
        }
      ]
    },
    {
      "cell_type": "code",
      "source": [
        "from torchinfo import summary\n",
        "summary(net,input_size=(10,3,224,224),depth=1)"
      ],
      "metadata": {
        "colab": {
          "base_uri": "https://localhost:8080/"
        },
        "id": "to7yoZf9iQ0I",
        "outputId": "cee246b3-f239-4ff4-f2b2-be071c1b2698"
      },
      "execution_count": null,
      "outputs": [
        {
          "output_type": "execute_result",
          "data": {
            "text/plain": [
              "===============================================================================================\n",
              "Layer (type:depth-idx)                        Output Shape              Param #\n",
              "===============================================================================================\n",
              "GoogleNet                                     [10, 1000]                --\n",
              "├─BasicConv2d: 1-1                            [10, 64, 112, 112]        9,536\n",
              "├─MaxPool2d: 1-2                              [10, 64, 56, 56]          --\n",
              "├─BasicConv2d: 1-3                            [10, 64, 56, 56]          4,224\n",
              "├─BasicConv2d: 1-4                            [10, 192, 56, 56]         110,976\n",
              "├─MaxPool2d: 1-5                              [10, 192, 28, 28]         --\n",
              "├─Inception: 1-6                              [10, 256, 28, 28]         164,064\n",
              "├─Inception: 1-7                              [10, 480, 28, 28]         389,376\n",
              "├─MaxPool2d: 1-8                              [10, 480, 14, 14]         --\n",
              "├─Inception: 1-9                              [10, 512, 14, 14]         376,800\n",
              "├─AuxClf: 1-10                                [10, 1000]                3,188,968\n",
              "├─Inception: 1-11                             [10, 512, 14, 14]         449,808\n",
              "├─Inception: 1-12                             [10, 512, 14, 14]         510,768\n",
              "├─Inception: 1-13                             [10, 528, 14, 14]         606,080\n",
              "├─AuxClf: 1-14                                [10, 1000]                3,191,016\n",
              "├─Inception: 1-15                             [10, 832, 14, 14]         869,376\n",
              "├─MaxPool2d: 1-16                             [10, 832, 7, 7]           --\n",
              "├─Inception: 1-17                             [10, 832, 7, 7]           1,044,480\n",
              "├─Inception: 1-18                             [10, 1024, 7, 7]          1,445,344\n",
              "├─AdaptiveAvgPool2d: 1-19                     [10, 1024, 1, 1]          --\n",
              "├─Dropout: 1-20                               [10, 1024]                --\n",
              "├─Linear: 1-21                                [10, 1000]                1,025,000\n",
              "===============================================================================================\n",
              "Total params: 13,385,816\n",
              "Trainable params: 13,385,816\n",
              "Non-trainable params: 0\n",
              "Total mult-adds (G): 15.91\n",
              "===============================================================================================\n",
              "Input size (MB): 6.02\n",
              "Forward/backward pass size (MB): 517.24\n",
              "Params size (MB): 53.54\n",
              "Estimated Total Size (MB): 576.81\n",
              "==============================================================================================="
            ]
          },
          "metadata": {},
          "execution_count": 62
        }
      ]
    },
    {
      "cell_type": "markdown",
      "source": [
        "## **1.2 ResNet**"
      ],
      "metadata": {
        "id": "_xcnn8qVc1P8"
      }
    },
    {
      "cell_type": "markdown",
      "source": [
        "### **模块一、小卷积层(3x3、1x1)**"
      ],
      "metadata": {
        "id": "V0_Y1HMHW_PZ"
      }
    },
    {
      "cell_type": "code",
      "source": [
        "import torch\n",
        "from torch import nn\n",
        "from typing import Type, Union, List, Optional"
      ],
      "metadata": {
        "id": "oD0cDfrBA6c_"
      },
      "execution_count": 3,
      "outputs": []
    },
    {
      "cell_type": "code",
      "source": [
        "# basicConv(conv3x3,conv1x1) \n",
        "# Residual unit, Bottleneck"
      ],
      "metadata": {
        "id": "43X1lxmURE-E"
      },
      "execution_count": null,
      "outputs": []
    },
    {
      "cell_type": "code",
      "source": [
        "def conv3x3(in_, out_, stride=1 ,intialzero=False): # 大多数发生的情况用默认值\n",
        "  bn = nn.BatchNorm2d(out_)\n",
        "  # 判断是否对bn层进行0初始化：只有最后一层才进行0初始化；不是最后一层不改变gamma和belta\n",
        "  if intialzero == True:\n",
        "    nn.init.constant_(bn.weight,0)\n",
        "  return nn.Sequential(nn.Conv2d(in_,out_,kernel_size=3,padding=1,stride=stride,bias=False)\n",
        "             ,bn)"
      ],
      "metadata": {
        "id": "Te5byPVHR9CN"
      },
      "execution_count": 4,
      "outputs": []
    },
    {
      "cell_type": "code",
      "source": [
        "conv3x3(2,10)"
      ],
      "metadata": {
        "colab": {
          "base_uri": "https://localhost:8080/"
        },
        "id": "1wju4U9hTSSF",
        "outputId": "a2f1b216-dc46-468b-8ab2-7178937a7ecc"
      },
      "execution_count": 5,
      "outputs": [
        {
          "output_type": "execute_result",
          "data": {
            "text/plain": [
              "Sequential(\n",
              "  (0): Conv2d(2, 10, kernel_size=(3, 3), stride=(1, 1), padding=(1, 1), bias=False)\n",
              "  (1): BatchNorm2d(10, eps=1e-05, momentum=0.1, affine=True, track_running_stats=True)\n",
              ")"
            ]
          },
          "metadata": {},
          "execution_count": 5
        }
      ]
    },
    {
      "cell_type": "code",
      "source": [
        "def conv1x1(in_, out_, stride=1 ,intialzero=False): # 大多数发生的情况用默认值\n",
        "  bn = nn.BatchNorm2d(out_)\n",
        "  # 判断是否对bn层进行0初始化：只有最后一层才进行0初始化；不是最后一层不改变gamma和belta\n",
        "  if intialzero == True:\n",
        "    nn.init.constant_(bn.weight,0)\n",
        "  return nn.Sequential(nn.Conv2d(in_,out_,kernel_size=1,padding=0,stride=stride,bias=False)\n",
        "             ,bn)"
      ],
      "metadata": {
        "id": "Q8jUQ81oV-dd"
      },
      "execution_count": 6,
      "outputs": []
    },
    {
      "cell_type": "code",
      "source": [
        "conv1x1(2,10,1,True)[1].weight # 进行了0初始化"
      ],
      "metadata": {
        "colab": {
          "base_uri": "https://localhost:8080/"
        },
        "id": "YKtr8BfcWTbS",
        "outputId": "384cf4ee-e4a2-48dd-d863-05570c29836f"
      },
      "execution_count": 7,
      "outputs": [
        {
          "output_type": "execute_result",
          "data": {
            "text/plain": [
              "Parameter containing:\n",
              "tensor([0., 0., 0., 0., 0., 0., 0., 0., 0., 0.], requires_grad=True)"
            ]
          },
          "metadata": {},
          "execution_count": 7
        }
      ]
    },
    {
      "cell_type": "markdown",
      "source": [
        "### **模块二、残差单元(Residual Unit)**"
      ],
      "metadata": {
        "id": "3cznYyOnXN8P"
      }
    },
    {
      "cell_type": "code",
      "source": [
        "class ResidualUnit(nn.Module):\n",
        "  def __init__(self,out_:int,stride1:int=1,in_:Optional[int]=None):\n",
        "    super(ResidualUnit,self).__init__()\n",
        "\n",
        "    # 判断stride1是否为2，如果为2，则特征图尺寸会发生变化，需要在跳跃连接中加上1x1卷积层\n",
        "\n",
        "    self.stride1 = stride1 # 表示stride1的属性，否则forward无法调用\n",
        "\n",
        "    # 判断特征图是否会缩小\n",
        "    # 当特征图需要缩小时，卷积层的输出特征图数 out_= 2 * in_\n",
        "    # 当特征图不需要缩小时，卷积层的输出特征图 out_ = in_\n",
        "\n",
        "    if stride1 != 1:\n",
        "      in_ = int(out_/2)\n",
        "    else:\n",
        "      in_ = out_\n",
        "\n",
        "    # 拟合部分，输出F(x)\n",
        "    self.fit_ = nn.Sequential(conv3x3(in_,out_,stride=stride1)\n",
        "                  ,nn.ReLU(inplace=True)\n",
        "                  ,conv3x3(out_,out_,intialzero=True))\n",
        "    \n",
        "    # 跳跃连接，输出x\n",
        "    self.skipconv = conv1x1(in_,out_,stride=stride1)\n",
        "\n",
        "    # 放在H(x)之后的激活函数\n",
        "    self.relu = nn.ReLU(inplace=True)\n",
        "\n",
        "  def forward(self,x):\n",
        "    fx = self.fit_(x) # 拟合结果\n",
        "    if self.stride1 != 1:\n",
        "      x = self.skipconv(x) # 跳跃连接\n",
        "    hx = self.relu(x+fx)\n",
        "    return hx"
      ],
      "metadata": {
        "id": "pFSarKcbWqWk"
      },
      "execution_count": 8,
      "outputs": []
    },
    {
      "cell_type": "code",
      "source": [
        "data = torch.ones(size=(10,64,56,56))"
      ],
      "metadata": {
        "id": "6M3LoxkB_jdl"
      },
      "execution_count": 9,
      "outputs": []
    },
    {
      "cell_type": "code",
      "source": [
        "conv3_x_18_0 = ResidualUnit(out_=128,stride1=2)"
      ],
      "metadata": {
        "id": "l-IDZiNP__1D"
      },
      "execution_count": 10,
      "outputs": []
    },
    {
      "cell_type": "code",
      "source": [
        "conv3_x_18_0(data).shape"
      ],
      "metadata": {
        "colab": {
          "base_uri": "https://localhost:8080/"
        },
        "id": "lnjJAZxhAqFt",
        "outputId": "c55077ab-4fb7-42b4-a070-6e55f99bc2fe"
      },
      "execution_count": 11,
      "outputs": [
        {
          "output_type": "execute_result",
          "data": {
            "text/plain": [
              "torch.Size([10, 128, 28, 28])"
            ]
          },
          "metadata": {},
          "execution_count": 11
        }
      ]
    },
    {
      "cell_type": "code",
      "source": [
        "conv2_x_18_0 = ResidualUnit(out_=64)\n",
        "conv2_x_18_0(data).shape"
      ],
      "metadata": {
        "colab": {
          "base_uri": "https://localhost:8080/"
        },
        "id": "AczpEU-mQgti",
        "outputId": "b9d3d29c-e142-4864-adff-16b4668601e7"
      },
      "execution_count": 12,
      "outputs": [
        {
          "output_type": "execute_result",
          "data": {
            "text/plain": [
              "torch.Size([10, 64, 56, 56])"
            ]
          },
          "metadata": {},
          "execution_count": 12
        }
      ]
    },
    {
      "cell_type": "markdown",
      "source": [
        "### **模块三、Bottleneck**"
      ],
      "metadata": {
        "id": "oEE1hlM4RZ8E"
      }
    },
    {
      "cell_type": "code",
      "source": [
        "class Bottleneck(nn.Module):\n",
        "  def __init__(self,middle_out,stride1:int=1,in_:Optional[int]=None):\n",
        "    super(Bottleneck,self).__init__()\n",
        "\n",
        "    out_ = 4 * middle_out\n",
        "\n",
        "    # 判断是否需要将特征图尺寸缩小\n",
        "    if in_ == None:\n",
        "      if stride1 != 1:\n",
        "        in_ = middle_out * 2\n",
        "      else:\n",
        "        in_ = middle_out * 4\n",
        "\n",
        "\n",
        "    self.fit_ = nn.Sequential(conv1x1(in_,middle_out,stride=stride1)\n",
        "                  ,nn.ReLU(inplace=True)\n",
        "                  ,conv3x3(middle_out,middle_out)\n",
        "                  ,nn.ReLU(inplace=True)\n",
        "                  ,conv1x1(middle_out,out_,intialzero=True))\n",
        "    \n",
        "    self.relu = nn.ReLU(inplace=True)\n",
        "\n",
        "    self.skipconv = conv1x1(in_,out_,stride=stride1)\n",
        "    \n",
        "    self.stride1 = stride1\n",
        "\n",
        "  \n",
        "  def forward(self,x):\n",
        "    fx = self.fit_(x)\n",
        "    x = self.skipconv(x)\n",
        "    hx = self.relu(x+fx)\n",
        "    return hx"
      ],
      "metadata": {
        "id": "-PO2hGQPiaPR"
      },
      "execution_count": 13,
      "outputs": []
    },
    {
      "cell_type": "code",
      "source": [
        "data1 = torch.ones(10,64,56,56)"
      ],
      "metadata": {
        "id": "6Tulk6jfXAS1"
      },
      "execution_count": 14,
      "outputs": []
    },
    {
      "cell_type": "code",
      "source": [
        "# conv1后紧跟的第一个瓶颈结构\n",
        "conv2_x_101_0 = Bottleneck(in_=64,middle_out=64)"
      ],
      "metadata": {
        "id": "0oGd4OohW5q4"
      },
      "execution_count": 15,
      "outputs": []
    },
    {
      "cell_type": "code",
      "source": [
        "conv2_x_101_0(data1).shape"
      ],
      "metadata": {
        "colab": {
          "base_uri": "https://localhost:8080/"
        },
        "id": "xnxnOUCRXVmO",
        "outputId": "53f74b80-1187-4271-fe5f-7cb33907791e"
      },
      "execution_count": 16,
      "outputs": [
        {
          "output_type": "execute_result",
          "data": {
            "text/plain": [
              "torch.Size([10, 256, 56, 56])"
            ]
          },
          "metadata": {},
          "execution_count": 16
        }
      ]
    },
    {
      "cell_type": "code",
      "source": [
        "# 不是conv1后紧跟的第一个瓶颈结构，但需要缩小特征图尺寸\n",
        "data2 = torch.ones(10,256,56,56)\n",
        "conv3_x_101_0 = Bottleneck(middle_out=128,stride1=2)\n",
        "conv3_x_101_0(data2).shape"
      ],
      "metadata": {
        "colab": {
          "base_uri": "https://localhost:8080/"
        },
        "id": "t7KCE_SVXfvG",
        "outputId": "19a3f0b2-1635-40c7-ac84-f82b1d5b2f9c"
      },
      "execution_count": 17,
      "outputs": [
        {
          "output_type": "execute_result",
          "data": {
            "text/plain": [
              "torch.Size([10, 512, 28, 28])"
            ]
          },
          "metadata": {},
          "execution_count": 17
        }
      ]
    },
    {
      "cell_type": "code",
      "source": [
        "# 不是conv1后紧跟的第一个瓶颈结构，也不需要缩小特征图尺寸\n",
        "data3 = torch.ones(10,512,28,28)\n",
        "conv3_x_101_1 = Bottleneck(middle_out=128)\n",
        "conv3_x_101_1(data3).shape # 输出翻不变，特征图尺寸不变"
      ],
      "metadata": {
        "colab": {
          "base_uri": "https://localhost:8080/"
        },
        "id": "xmJRIXNSXXsp",
        "outputId": "d25f8bb1-982a-4079-f769-26a20986fb45"
      },
      "execution_count": 18,
      "outputs": [
        {
          "output_type": "execute_result",
          "data": {
            "text/plain": [
              "torch.Size([10, 512, 28, 28])"
            ]
          },
          "metadata": {},
          "execution_count": 18
        }
      ]
    },
    {
      "cell_type": "markdown",
      "source": [
        "### **模块四、生成每一个layers**"
      ],
      "metadata": {
        "id": "TViBDgJTYy_X"
      }
    },
    {
      "cell_type": "code",
      "source": [
        "def make_layers(block: Type[Union[ResidualUnit,Bottleneck]] # 块的类型，可选Residua或Bottleneck，根据选择的架构块类型，判断残差网络的深浅\n",
        "        ,middle_out: int\n",
        "        ,num_blocks: int\n",
        "        ,afterconv1: bool=False\n",
        "        ): # 有默认值的参数应该放在无默认值后面\n",
        "  \n",
        "  layers = []\n",
        "  if afterconv1 == True:\n",
        "    layers.append(block(middle_out,in_=64))\n",
        "  else:\n",
        "    layers.append(block(middle_out,stride1=2))\n",
        "\n",
        "  for i in range(num_blocks-1):\n",
        "    layers.append(block(middle_out))\n",
        "\n",
        "  return nn.Sequential(*layers) # 星号解析列表/储存器,变为类"
      ],
      "metadata": {
        "id": "AoscZm5MYi_R"
      },
      "execution_count": 59,
      "outputs": []
    },
    {
      "cell_type": "code",
      "source": [
        "lay_4_conv4_x = make_layers(ResidualUnit,256,6,False)"
      ],
      "metadata": {
        "id": "_lrzQv9KTtkc"
      },
      "execution_count": 37,
      "outputs": []
    },
    {
      "cell_type": "code",
      "source": [
        "# 34层网络，conv2_x，紧跟在conv1后的首个架构\n",
        "# 不缩小特征图尺寸，每层的输出都是64，3个块、\n",
        "conv2_x_34 = make_layers(ResidualUnit,64,3,True)\n",
        "datashape = (10,64,56,56)"
      ],
      "metadata": {
        "id": "GSOnv-VPU5dt"
      },
      "execution_count": 49,
      "outputs": []
    },
    {
      "cell_type": "code",
      "source": [
        "!pip install torchinfo\n",
        "from torchinfo import summary"
      ],
      "metadata": {
        "colab": {
          "base_uri": "https://localhost:8080/"
        },
        "id": "Kq7F3AQeW6rz",
        "outputId": "36ccca41-272d-44e7-c813-948b9a8cd8e1"
      },
      "execution_count": 46,
      "outputs": [
        {
          "output_type": "stream",
          "name": "stdout",
          "text": [
            "Looking in indexes: https://pypi.org/simple, https://us-python.pkg.dev/colab-wheels/public/simple/\n",
            "Requirement already satisfied: torchinfo in /usr/local/lib/python3.8/dist-packages (1.7.1)\n"
          ]
        }
      ]
    },
    {
      "cell_type": "code",
      "source": [
        "summary(conv2_x_34,input_size=datashape,depth=1)"
      ],
      "metadata": {
        "colab": {
          "base_uri": "https://localhost:8080/"
        },
        "id": "Md_V-eSfW_0P",
        "outputId": "cc79bad0-cf16-488c-f182-8ac8c6a58772"
      },
      "execution_count": 50,
      "outputs": [
        {
          "output_type": "execute_result",
          "data": {
            "text/plain": [
              "==========================================================================================\n",
              "Layer (type:depth-idx)                   Output Shape              Param #\n",
              "==========================================================================================\n",
              "Sequential                               [10, 64, 56, 56]          --\n",
              "├─ResidualUnit: 1-1                      [10, 64, 56, 56]          78,208\n",
              "├─ResidualUnit: 1-2                      [10, 64, 56, 56]          78,208\n",
              "├─ResidualUnit: 1-3                      [10, 64, 56, 56]          78,208\n",
              "==========================================================================================\n",
              "Total params: 234,624\n",
              "Trainable params: 234,624\n",
              "Non-trainable params: 0\n",
              "Total mult-adds (G): 6.94\n",
              "==========================================================================================\n",
              "Input size (MB): 8.03\n",
              "Forward/backward pass size (MB): 192.68\n",
              "Params size (MB): 0.89\n",
              "Estimated Total Size (MB): 201.59\n",
              "=========================================================================================="
            ]
          },
          "metadata": {},
          "execution_count": 50
        }
      ]
    },
    {
      "cell_type": "code",
      "source": [
        "conv2_x_101 = make_layers(Bottleneck,64,3,afterconv1=True)\n",
        "summary(conv2_x_101,datashape,depth=3,device=\"cpu\")"
      ],
      "metadata": {
        "colab": {
          "base_uri": "https://localhost:8080/"
        },
        "id": "rt0gmimdVpBW",
        "outputId": "63417da4-5b30-414e-e923-92334724b1de"
      },
      "execution_count": 55,
      "outputs": [
        {
          "output_type": "execute_result",
          "data": {
            "text/plain": [
              "==========================================================================================\n",
              "Layer (type:depth-idx)                   Output Shape              Param #\n",
              "==========================================================================================\n",
              "Sequential                               [10, 256, 56, 56]         --\n",
              "├─Bottleneck: 1-1                        [10, 256, 56, 56]         --\n",
              "│    └─Sequential: 2-1                   [10, 256, 56, 56]         --\n",
              "│    │    └─Sequential: 3-1              [10, 64, 56, 56]          4,224\n",
              "│    │    └─ReLU: 3-2                    [10, 64, 56, 56]          --\n",
              "│    │    └─Sequential: 3-3              [10, 64, 56, 56]          36,992\n",
              "│    │    └─ReLU: 3-4                    [10, 64, 56, 56]          --\n",
              "│    │    └─Sequential: 3-5              [10, 256, 56, 56]         16,896\n",
              "│    └─Sequential: 2-2                   [10, 256, 56, 56]         --\n",
              "│    │    └─Conv2d: 3-6                  [10, 256, 56, 56]         16,384\n",
              "│    │    └─BatchNorm2d: 3-7             [10, 256, 56, 56]         512\n",
              "│    └─ReLU: 2-3                         [10, 256, 56, 56]         --\n",
              "├─Bottleneck: 1-2                        [10, 256, 56, 56]         --\n",
              "│    └─Sequential: 2-4                   [10, 256, 56, 56]         --\n",
              "│    │    └─Sequential: 3-8              [10, 64, 56, 56]          16,512\n",
              "│    │    └─ReLU: 3-9                    [10, 64, 56, 56]          --\n",
              "│    │    └─Sequential: 3-10             [10, 64, 56, 56]          36,992\n",
              "│    │    └─ReLU: 3-11                   [10, 64, 56, 56]          --\n",
              "│    │    └─Sequential: 3-12             [10, 256, 56, 56]         16,896\n",
              "│    └─Sequential: 2-5                   [10, 256, 56, 56]         --\n",
              "│    │    └─Conv2d: 3-13                 [10, 256, 56, 56]         65,536\n",
              "│    │    └─BatchNorm2d: 3-14            [10, 256, 56, 56]         512\n",
              "│    └─ReLU: 2-6                         [10, 256, 56, 56]         --\n",
              "├─Bottleneck: 1-3                        [10, 256, 56, 56]         --\n",
              "│    └─Sequential: 2-7                   [10, 256, 56, 56]         --\n",
              "│    │    └─Sequential: 3-15             [10, 64, 56, 56]          16,512\n",
              "│    │    └─ReLU: 3-16                   [10, 64, 56, 56]          --\n",
              "│    │    └─Sequential: 3-17             [10, 64, 56, 56]          36,992\n",
              "│    │    └─ReLU: 3-18                   [10, 64, 56, 56]          --\n",
              "│    │    └─Sequential: 3-19             [10, 256, 56, 56]         16,896\n",
              "│    └─Sequential: 2-8                   [10, 256, 56, 56]         --\n",
              "│    │    └─Conv2d: 3-20                 [10, 256, 56, 56]         65,536\n",
              "│    │    └─BatchNorm2d: 3-21            [10, 256, 56, 56]         512\n",
              "│    └─ReLU: 2-9                         [10, 256, 56, 56]         --\n",
              "==========================================================================================\n",
              "Total params: 347,904\n",
              "Trainable params: 347,904\n",
              "Non-trainable params: 0\n",
              "Total mult-adds (G): 10.79\n",
              "==========================================================================================\n",
              "Input size (MB): 8.03\n",
              "Forward/backward pass size (MB): 963.38\n",
              "Params size (MB): 1.39\n",
              "Estimated Total Size (MB): 972.80\n",
              "=========================================================================================="
            ]
          },
          "metadata": {},
          "execution_count": 55
        }
      ]
    },
    {
      "cell_type": "code",
      "source": [
        "datashape3 = (10,512,28,28)\n",
        "conv4_x_101 = make_layers(Bottleneck,256,23)\n",
        "summary(conv4_x_101,datashape3,depth=1,device=\"cpu\")"
      ],
      "metadata": {
        "colab": {
          "base_uri": "https://localhost:8080/"
        },
        "id": "Mv5HUZPfVs5E",
        "outputId": "90df18c2-e6a2-41c8-bf99-66648b26fce3"
      },
      "execution_count": 58,
      "outputs": [
        {
          "output_type": "execute_result",
          "data": {
            "text/plain": [
              "==========================================================================================\n",
              "Layer (type:depth-idx)                   Output Shape              Param #\n",
              "==========================================================================================\n",
              "Sequential                               [10, 1024, 14, 14]        --\n",
              "├─Bottleneck: 1-1                        [10, 1024, 14, 14]        1,512,448\n",
              "├─Bottleneck: 1-2                        [10, 1024, 14, 14]        2,167,808\n",
              "├─Bottleneck: 1-3                        [10, 1024, 14, 14]        2,167,808\n",
              "├─Bottleneck: 1-4                        [10, 1024, 14, 14]        2,167,808\n",
              "├─Bottleneck: 1-5                        [10, 1024, 14, 14]        2,167,808\n",
              "├─Bottleneck: 1-6                        [10, 1024, 14, 14]        2,167,808\n",
              "├─Bottleneck: 1-7                        [10, 1024, 14, 14]        2,167,808\n",
              "├─Bottleneck: 1-8                        [10, 1024, 14, 14]        2,167,808\n",
              "├─Bottleneck: 1-9                        [10, 1024, 14, 14]        2,167,808\n",
              "├─Bottleneck: 1-10                       [10, 1024, 14, 14]        2,167,808\n",
              "├─Bottleneck: 1-11                       [10, 1024, 14, 14]        2,167,808\n",
              "├─Bottleneck: 1-12                       [10, 1024, 14, 14]        2,167,808\n",
              "├─Bottleneck: 1-13                       [10, 1024, 14, 14]        2,167,808\n",
              "├─Bottleneck: 1-14                       [10, 1024, 14, 14]        2,167,808\n",
              "├─Bottleneck: 1-15                       [10, 1024, 14, 14]        2,167,808\n",
              "├─Bottleneck: 1-16                       [10, 1024, 14, 14]        2,167,808\n",
              "├─Bottleneck: 1-17                       [10, 1024, 14, 14]        2,167,808\n",
              "├─Bottleneck: 1-18                       [10, 1024, 14, 14]        2,167,808\n",
              "├─Bottleneck: 1-19                       [10, 1024, 14, 14]        2,167,808\n",
              "├─Bottleneck: 1-20                       [10, 1024, 14, 14]        2,167,808\n",
              "├─Bottleneck: 1-21                       [10, 1024, 14, 14]        2,167,808\n",
              "├─Bottleneck: 1-22                       [10, 1024, 14, 14]        2,167,808\n",
              "├─Bottleneck: 1-23                       [10, 1024, 14, 14]        2,167,808\n",
              "==========================================================================================\n",
              "Total params: 49,204,224\n",
              "Trainable params: 49,204,224\n",
              "Non-trainable params: 0\n",
              "Total mult-adds (G): 96.21\n",
              "==========================================================================================\n",
              "Input size (MB): 16.06\n",
              "Forward/backward pass size (MB): 1846.48\n",
              "Params size (MB): 196.82\n",
              "Estimated Total Size (MB): 2059.35\n",
              "=========================================================================================="
            ]
          },
          "metadata": {},
          "execution_count": 58
        }
      ]
    },
    {
      "cell_type": "markdown",
      "source": [
        "### **模块五、完整架构**"
      ],
      "metadata": {
        "id": "xlZ0IlQqY7bv"
      }
    },
    {
      "cell_type": "code",
      "source": [
        "class ResNet(nn.Module):\n",
        "  def __init__(self,block:Type[Union[ResidualUnit,Bottleneck]],layers:List[int],num_classes:int=1000):\n",
        "    super(ResNet,self).__init__()\n",
        "\n",
        "    # layer1:卷积+池化\n",
        "    self.layer1 = nn.Sequential(nn.Conv2d(3,64,kernel_size=7,stride=2,padding=3,bias=False)\n",
        "                   ,nn.BatchNorm2d(64)\n",
        "                   ,nn.ReLU(inplace=True)\n",
        "                   ,nn.MaxPool2d(kernel_size=3,stride=2,ceil_mode=True))\n",
        "    # layer2-5:残差块/瓶颈结构\n",
        "    self.layer2_x = make_layers(block,64,layers[0],afterconv1=True)\n",
        "    self.layer3_x = make_layers(block,128,layers[1])\n",
        "    self.layer4_x = make_layers(block,256,layers[2])\n",
        "    self.layer5_x = make_layers(block,512,layers[3])\n",
        "\n",
        "    # 全局平均池化\n",
        "    self.avgpool = nn.AdaptiveAvgPool2d((1,1))\n",
        "\n",
        "    if block == ResidualUnit:\n",
        "      self.fc = nn.Linear(512,num_classes)\n",
        "    else:\n",
        "      self.fc = nn.Linear(2048,num_classes)\n",
        "  \n",
        "  def forward(self,x):\n",
        "    x = self.layer1(x)\n",
        "    x = self.layer5_x(self.layer4_x(self.layer3_x(self.layer2_x(x))))\n",
        "    x = self.avgpool(x) # 特征图尺寸1x1(n_samples,fc,1,1)\n",
        "    x = torch.flatten(x,1)\n",
        "    x = self.fc(x)"
      ],
      "metadata": {
        "id": "K_tE5plaYiuL"
      },
      "execution_count": 69,
      "outputs": []
    },
    {
      "cell_type": "code",
      "source": [
        "datashape = (10,3,224,224)"
      ],
      "metadata": {
        "id": "d30D58wLc-m1"
      },
      "execution_count": 67,
      "outputs": []
    },
    {
      "cell_type": "code",
      "source": [
        "resnet34 = ResNet(ResidualUnit,layers=[3,4,6,3],num_classes=1000)\n",
        "summary(resnet34,datashape,depth=2,device=\"cpu\")"
      ],
      "metadata": {
        "colab": {
          "base_uri": "https://localhost:8080/"
        },
        "id": "vJl1_KgWdBwl",
        "outputId": "1fa391f9-d601-4e3d-8b61-9bbab37e74e2"
      },
      "execution_count": 72,
      "outputs": [
        {
          "output_type": "execute_result",
          "data": {
            "text/plain": [
              "===============================================================================================\n",
              "Layer (type:depth-idx)                        Output Shape              Param #\n",
              "===============================================================================================\n",
              "ResNet                                        --                        --\n",
              "├─Sequential: 1-1                             [10, 64, 56, 56]          --\n",
              "│    └─Conv2d: 2-1                            [10, 64, 112, 112]        9,408\n",
              "│    └─BatchNorm2d: 2-2                       [10, 64, 112, 112]        128\n",
              "│    └─ReLU: 2-3                              [10, 64, 112, 112]        --\n",
              "│    └─MaxPool2d: 2-4                         [10, 64, 56, 56]          --\n",
              "├─Sequential: 1-2                             [10, 64, 56, 56]          --\n",
              "│    └─ResidualUnit: 2-5                      [10, 64, 56, 56]          78,208\n",
              "│    └─ResidualUnit: 2-6                      [10, 64, 56, 56]          78,208\n",
              "│    └─ResidualUnit: 2-7                      [10, 64, 56, 56]          78,208\n",
              "├─Sequential: 1-3                             [10, 128, 28, 28]         --\n",
              "│    └─ResidualUnit: 2-8                      [10, 128, 28, 28]         230,144\n",
              "│    └─ResidualUnit: 2-9                      [10, 128, 28, 28]         312,064\n",
              "│    └─ResidualUnit: 2-10                     [10, 128, 28, 28]         312,064\n",
              "│    └─ResidualUnit: 2-11                     [10, 128, 28, 28]         312,064\n",
              "├─Sequential: 1-4                             [10, 256, 14, 14]         --\n",
              "│    └─ResidualUnit: 2-12                     [10, 256, 14, 14]         919,040\n",
              "│    └─ResidualUnit: 2-13                     [10, 256, 14, 14]         1,246,720\n",
              "│    └─ResidualUnit: 2-14                     [10, 256, 14, 14]         1,246,720\n",
              "│    └─ResidualUnit: 2-15                     [10, 256, 14, 14]         1,246,720\n",
              "│    └─ResidualUnit: 2-16                     [10, 256, 14, 14]         1,246,720\n",
              "│    └─ResidualUnit: 2-17                     [10, 256, 14, 14]         1,246,720\n",
              "├─Sequential: 1-5                             [10, 512, 7, 7]           --\n",
              "│    └─ResidualUnit: 2-18                     [10, 512, 7, 7]           3,673,088\n",
              "│    └─ResidualUnit: 2-19                     [10, 512, 7, 7]           4,983,808\n",
              "│    └─ResidualUnit: 2-20                     [10, 512, 7, 7]           4,983,808\n",
              "├─AdaptiveAvgPool2d: 1-6                      [10, 512, 1, 1]           --\n",
              "├─Linear: 1-7                                 [10, 1000]                513,000\n",
              "===============================================================================================\n",
              "Total params: 22,716,840\n",
              "Trainable params: 22,716,840\n",
              "Non-trainable params: 0\n",
              "Total mult-adds (G): 36.64\n",
              "===============================================================================================\n",
              "Input size (MB): 6.02\n",
              "Forward/backward pass size (MB): 598.18\n",
              "Params size (MB): 87.19\n",
              "Estimated Total Size (MB): 691.39\n",
              "==============================================================================================="
            ]
          },
          "metadata": {},
          "execution_count": 72
        }
      ]
    },
    {
      "cell_type": "code",
      "source": [
        "resnet101 = ResNet(Bottleneck,layers=[3,4,23,3],num_classes=1000)\n",
        "summary(resnet101,datashape,depth=2,device=\"cpu\")"
      ],
      "metadata": {
        "colab": {
          "base_uri": "https://localhost:8080/"
        },
        "id": "XIxzkKZedRSH",
        "outputId": "bdd283bb-a8d8-483e-9962-8c0d40d8dd21"
      },
      "execution_count": 74,
      "outputs": [
        {
          "output_type": "execute_result",
          "data": {
            "text/plain": [
              "===============================================================================================\n",
              "Layer (type:depth-idx)                        Output Shape              Param #\n",
              "===============================================================================================\n",
              "ResNet                                        --                        --\n",
              "├─Sequential: 1-1                             [10, 64, 56, 56]          --\n",
              "│    └─Conv2d: 2-1                            [10, 64, 112, 112]        9,408\n",
              "│    └─BatchNorm2d: 2-2                       [10, 64, 112, 112]        128\n",
              "│    └─ReLU: 2-3                              [10, 64, 112, 112]        --\n",
              "│    └─MaxPool2d: 2-4                         [10, 64, 56, 56]          --\n",
              "├─Sequential: 1-2                             [10, 256, 56, 56]         --\n",
              "│    └─Bottleneck: 2-5                        [10, 256, 56, 56]         75,008\n",
              "│    └─Bottleneck: 2-6                        [10, 256, 56, 56]         136,448\n",
              "│    └─Bottleneck: 2-7                        [10, 256, 56, 56]         136,448\n",
              "├─Sequential: 1-3                             [10, 512, 28, 28]         --\n",
              "│    └─Bottleneck: 2-8                        [10, 512, 28, 28]         379,392\n",
              "│    └─Bottleneck: 2-9                        [10, 512, 28, 28]         543,232\n",
              "│    └─Bottleneck: 2-10                       [10, 512, 28, 28]         543,232\n",
              "│    └─Bottleneck: 2-11                       [10, 512, 28, 28]         543,232\n",
              "├─Sequential: 1-4                             [10, 1024, 14, 14]        --\n",
              "│    └─Bottleneck: 2-12                       [10, 1024, 14, 14]        1,512,448\n",
              "│    └─Bottleneck: 2-13                       [10, 1024, 14, 14]        2,167,808\n",
              "│    └─Bottleneck: 2-14                       [10, 1024, 14, 14]        2,167,808\n",
              "│    └─Bottleneck: 2-15                       [10, 1024, 14, 14]        2,167,808\n",
              "│    └─Bottleneck: 2-16                       [10, 1024, 14, 14]        2,167,808\n",
              "│    └─Bottleneck: 2-17                       [10, 1024, 14, 14]        2,167,808\n",
              "│    └─Bottleneck: 2-18                       [10, 1024, 14, 14]        2,167,808\n",
              "│    └─Bottleneck: 2-19                       [10, 1024, 14, 14]        2,167,808\n",
              "│    └─Bottleneck: 2-20                       [10, 1024, 14, 14]        2,167,808\n",
              "│    └─Bottleneck: 2-21                       [10, 1024, 14, 14]        2,167,808\n",
              "│    └─Bottleneck: 2-22                       [10, 1024, 14, 14]        2,167,808\n",
              "│    └─Bottleneck: 2-23                       [10, 1024, 14, 14]        2,167,808\n",
              "│    └─Bottleneck: 2-24                       [10, 1024, 14, 14]        2,167,808\n",
              "│    └─Bottleneck: 2-25                       [10, 1024, 14, 14]        2,167,808\n",
              "│    └─Bottleneck: 2-26                       [10, 1024, 14, 14]        2,167,808\n",
              "│    └─Bottleneck: 2-27                       [10, 1024, 14, 14]        2,167,808\n",
              "│    └─Bottleneck: 2-28                       [10, 1024, 14, 14]        2,167,808\n",
              "│    └─Bottleneck: 2-29                       [10, 1024, 14, 14]        2,167,808\n",
              "│    └─Bottleneck: 2-30                       [10, 1024, 14, 14]        2,167,808\n",
              "│    └─Bottleneck: 2-31                       [10, 1024, 14, 14]        2,167,808\n",
              "│    └─Bottleneck: 2-32                       [10, 1024, 14, 14]        2,167,808\n",
              "│    └─Bottleneck: 2-33                       [10, 1024, 14, 14]        2,167,808\n",
              "│    └─Bottleneck: 2-34                       [10, 1024, 14, 14]        2,167,808\n",
              "├─Sequential: 1-5                             [10, 2048, 7, 7]          --\n",
              "│    └─Bottleneck: 2-35                       [10, 2048, 7, 7]          6,039,552\n",
              "│    └─Bottleneck: 2-36                       [10, 2048, 7, 7]          8,660,992\n",
              "│    └─Bottleneck: 2-37                       [10, 2048, 7, 7]          8,660,992\n",
              "├─AdaptiveAvgPool2d: 1-6                      [10, 2048, 1, 1]          --\n",
              "├─Linear: 1-7                                 [10, 1000]                2,049,000\n",
              "===============================================================================================\n",
              "Total params: 76,981,288\n",
              "Trainable params: 76,981,288\n",
              "Non-trainable params: 0\n",
              "Total mult-adds (G): 135.30\n",
              "===============================================================================================\n",
              "Input size (MB): 6.02\n",
              "Forward/backward pass size (MB): 3701.06\n",
              "Params size (MB): 307.93\n",
              "Estimated Total Size (MB): 4015.01\n",
              "==============================================================================================="
            ]
          },
          "metadata": {},
          "execution_count": 74
        }
      ]
    }
  ]
}