{
  "nbformat": 4,
  "nbformat_minor": 0,
  "metadata": {
    "colab": {
      "provenance": [],
      "authorship_tag": "ABX9TyOcp4JZ5clD3C25mDqUvUeC",
      "include_colab_link": true
    },
    "kernelspec": {
      "name": "python3",
      "display_name": "Python 3"
    },
    "language_info": {
      "name": "python"
    },
    "accelerator": "GPU",
    "gpuClass": "standard"
  },
  "cells": [
    {
      "cell_type": "markdown",
      "metadata": {
        "id": "view-in-github",
        "colab_type": "text"
      },
      "source": [
        "<a href=\"https://colab.research.google.com/github/boshuaiYu/CaiCai_DL/blob/main/CaiCai_DL_week3_1.ipynb\" target=\"_parent\"><img src=\"https://colab.research.google.com/assets/colab-badge.svg\" alt=\"Open In Colab\"/></a>"
      ]
    },
    {
      "cell_type": "markdown",
      "source": [
        "## 深度神经网络理解"
      ],
      "metadata": {
        "id": "UZidQOmEnG41"
      }
    },
    {
      "cell_type": "markdown",
      "source": [
        "一. 异或门问题"
      ],
      "metadata": {
        "id": "YnywPivExjV_"
      }
    },
    {
      "cell_type": "code",
      "source": [
        "import torch\n",
        "import matplotlib.pyplot as plt\n",
        "import seaborn as sns"
      ],
      "metadata": {
        "id": "ZMxg82Dpxi3V"
      },
      "execution_count": null,
      "outputs": []
    },
    {
      "cell_type": "code",
      "execution_count": null,
      "metadata": {
        "id": "6lkpf_lGl_TS"
      },
      "outputs": [],
      "source": [
        "X = torch.tensor([[1,0,0],[1,1,0],[1,0,1],[1,1,1]],dtype=torch.float32)"
      ]
    },
    {
      "cell_type": "code",
      "source": [
        "andgate = torch.tensor([0,0,0,1],dtype=torch.float32)"
      ],
      "metadata": {
        "id": "g4QywlmQz6Ns"
      },
      "execution_count": null,
      "outputs": []
    },
    {
      "cell_type": "code",
      "source": [
        "# 与门决策边界\n",
        "plt.figure(figsize=(5,3))\n",
        "plt.scatter(X[:,1],\n",
        "      X[:,2],\n",
        "      c=andgate, # 颜色=真实标签的类别\n",
        "      cmap=\"rainbow\")\n",
        "plt.xlim(-1,3)\n",
        "plt.ylim(-1,3)\n",
        "import numpy as np\n",
        "x = np.arange(-1,3,0.5)\n",
        "plt.plot(x,(0.23-0.15*x)/0.15,color=\"k\",linestyle=\"--\")\n",
        "plt.title('AndGate')"
      ],
      "metadata": {
        "colab": {
          "base_uri": "https://localhost:8080/",
          "height": 245
        },
        "id": "kc9J8h2rzi-m",
        "outputId": "cb79d3e4-de70-40ca-fd7c-1dc79b54327b"
      },
      "execution_count": null,
      "outputs": [
        {
          "output_type": "execute_result",
          "data": {
            "text/plain": [
              "Text(0.5, 1.0, 'AndGate')"
            ]
          },
          "metadata": {},
          "execution_count": 4
        },
        {
          "output_type": "display_data",
          "data": {
            "text/plain": [
              "<Figure size 360x216 with 1 Axes>"
            ],
            "image/png": "[encoded data removed]"
          },
          "metadata": {
            "needs_background": "light"
          }
        }
      ]
    },
    {
      "cell_type": "code",
      "source": [
        "# 或门决策边界\n",
        "orgate = torch.tensor([0,1,1,1],dtype=torch.float32)\n",
        "plt.figure(figsize=(5,3))\n",
        "plt.scatter(X[:,1],\n",
        "      X[:,2],\n",
        "      c=orgate, # 颜色=真实标签的类别\n",
        "      cmap=\"rainbow\")\n",
        "x = np.arange(-1,3,0.5)\n",
        "plt.plot(x,(0.08-0.15*x)/0.15,color=\"k\",linestyle=\"--\")\n",
        "plt.xlim(-1,3)\n",
        "plt.ylim(-1,3)\n",
        "plt.title('ORGate')"
      ],
      "metadata": {
        "colab": {
          "base_uri": "https://localhost:8080/",
          "height": 245
        },
        "id": "d76UKoNMz1B1",
        "outputId": "5eba214a-fe38-4a56-dc4b-d1a04b1a0c45"
      },
      "execution_count": null,
      "outputs": [
        {
          "output_type": "execute_result",
          "data": {
            "text/plain": [
              "Text(0.5, 1.0, 'ORGate')"
            ]
          },
          "metadata": {},
          "execution_count": 5
        },
        {
          "output_type": "display_data",
          "data": {
            "text/plain": [
              "<Figure size 360x216 with 1 Axes>"
            ],
            "image/png": "[encoded data removed]"
          },
          "metadata": {
            "needs_background": "light"
          }
        }
      ]
    },
    {
      "cell_type": "code",
      "source": [
        "# 与非门决策边界\n",
        "NAND = torch.tensor([1,1,1,0],dtype=torch.float32)\n",
        "plt.figure(figsize=(5,3))\n",
        "plt.scatter(X[:,1],\n",
        "      X[:,2],\n",
        "      c=NAND, # 颜色=真实标签的类别\n",
        "      cmap=\"rainbow\")\n",
        "x = np.arange(-1,3,0.5)\n",
        "plt.plot(x,(0.23-0.15*x)/0.15,color=\"k\",linestyle=\"--\")\n",
        "plt.xlim(-1,3)\n",
        "plt.ylim(-1,3)\n",
        "plt.title('NAND GATE')"
      ],
      "metadata": {
        "colab": {
          "base_uri": "https://localhost:8080/",
          "height": 245
        },
        "id": "iSc0qeww2woY",
        "outputId": "c11e8582-3d38-4d30-8e6c-9d85dc4fe629"
      },
      "execution_count": null,
      "outputs": [
        {
          "output_type": "execute_result",
          "data": {
            "text/plain": [
              "Text(0.5, 1.0, 'NAND GATE')"
            ]
          },
          "metadata": {},
          "execution_count": 6
        },
        {
          "output_type": "display_data",
          "data": {
            "text/plain": [
              "<Figure size 360x216 with 1 Axes>"
            ],
            "image/png": "[encoded data removed]"
          },
          "metadata": {
            "needs_background": "light"
          }
        }
      ]
    },
    {
      "cell_type": "markdown",
      "source": [
        "异或门实现"
      ],
      "metadata": {
        "id": "2wiY7TEgAIFA"
      }
    },
    {
      "cell_type": "code",
      "source": [
        "def NAND(X):\n",
        "  w = torch.tensor([0.23,-0.15,-0.15],dtype=torch.float32)\n",
        "  zhat = torch.mv(X,w)\n",
        "  yhat = torch.tensor([int(x) for x in zhat>=0],dtype=torch.float32)\n",
        "  return yhat\n",
        "\n",
        "def OR(X):\n",
        "  w = torch.tensor([-0.08,0.15,0.15],dtype=torch.float32)\n",
        "  zhat = torch.mv(X,w)\n",
        "  yhat = torch.tensor([int(x) for x in zhat >=0],dtype=torch.float32)\n",
        "  return yhat\n",
        "  \n",
        "def AND(X):\n",
        "  w = torch.tensor([-0.2,0.15,0.15],dtype=torch.float32)\n",
        "  zhat = torch.mv(X,w)\n",
        "  yhat = torch.tensor([int(x) for x in zhat >=0],dtype=torch.float32)\n",
        "  return yhat"
      ],
      "metadata": {
        "id": "DWr5YM1-4xuu"
      },
      "execution_count": null,
      "outputs": []
    },
    {
      "cell_type": "code",
      "source": [
        "def XOR(X):\n",
        "  x1 = NAND(X).reshape(-1,1)\n",
        "  x2 = OR(X).reshape(-1,1)\n",
        "  x0 = torch.tensor([1,1,1,1],dtype=torch.float32).reshape(-1,1)\n",
        "  input = torch.cat((x0,x1,x2),dim=1)\n",
        "  output = AND(input)\n",
        "  return output"
      ],
      "metadata": {
        "id": "AVEbefqX-sMX"
      },
      "execution_count": null,
      "outputs": []
    },
    {
      "cell_type": "code",
      "source": [
        "XOR(X)"
      ],
      "metadata": {
        "colab": {
          "base_uri": "https://localhost:8080/"
        },
        "id": "Vi1UzVhC_kx_",
        "outputId": "d2f0d6db-0d6e-494c-d4d3-ef981f8404cc"
      },
      "execution_count": null,
      "outputs": [
        {
          "output_type": "execute_result",
          "data": {
            "text/plain": [
              "tensor([0., 1., 1., 0.])"
            ]
          },
          "metadata": {},
          "execution_count": 9
        }
      ]
    },
    {
      "cell_type": "markdown",
      "source": [
        "隐藏层的激活函数影响结果，而输出层的激活函数对结果无影响(只是对判断的阈值有影响）"
      ],
      "metadata": {
        "id": "kmhVinljdiAc"
      }
    },
    {
      "cell_type": "code",
      "source": [
        "from torch._C import dtype\n",
        "def NAND(X):\n",
        "  w = torch.tensor([0.23,-0.15,-0.15],dtype=torch.float32)\n",
        "  zhat = torch.mv(X,w)\n",
        "  yhat = torch.tensor([int(x) for x in zhat>=0],dtype=torch.float32)\n",
        "  return yhat\n",
        "\n",
        "def OR(X):\n",
        "  w = torch.tensor([-0.08,0.15,0.15],dtype=torch.float32)\n",
        "  zhat = torch.mv(X,w)\n",
        "  yhat = torch.tensor([int(x) for x in zhat >=0],dtype=torch.float32)\n",
        "  return yhat\n",
        "  \n",
        "def AND(X):\n",
        "  w = torch.tensor([-0.2,0.15,0.15],dtype=torch.float32)\n",
        "  zhat = torch.mv(X,w)\n",
        "  yhat = torch.sigmoid(zhat)\n",
        "  andhat = torch.tensor([int(x) for x in yhat >= 0.5],dtype=torch.float32)\n",
        "  return andhat"
      ],
      "metadata": {
        "id": "gROB6MXyAlYQ"
      },
      "execution_count": null,
      "outputs": []
    },
    {
      "cell_type": "code",
      "source": [
        "def XOR(X):\n",
        "  x1 = NAND(X).reshape(-1,1)\n",
        "  x2 = OR(X).reshape(-1,1)\n",
        "  x0 = torch.tensor([1,1,1,1],dtype=torch.float32).reshape(-1,1)\n",
        "  input = torch.cat((x0,x1,x2),dim=1)\n",
        "  output = AND(input)\n",
        "  return output"
      ],
      "metadata": {
        "id": "e_S0YtAddE1Q"
      },
      "execution_count": null,
      "outputs": []
    },
    {
      "cell_type": "code",
      "source": [
        "XOR(X)"
      ],
      "metadata": {
        "colab": {
          "base_uri": "https://localhost:8080/"
        },
        "id": "raI3Ad1cdGO4",
        "outputId": "02323937-87b0-42e2-8b00-3dc53f5576c6"
      },
      "execution_count": null,
      "outputs": [
        {
          "output_type": "execute_result",
          "data": {
            "text/plain": [
              "tensor([0., 1., 1., 0.])"
            ]
          },
          "metadata": {},
          "execution_count": 37
        }
      ]
    },
    {
      "cell_type": "markdown",
      "source": [
        "# 实现深度神经网络的正向传播"
      ],
      "metadata": {
        "id": "YUppoo_IeSxl"
      }
    },
    {
      "cell_type": "markdown",
      "source": [
        "假设有500个样本，20个特征，3分类\n",
        "\n",
        "三层神经网络：第一层13个神经元(relu)；第二层八个神经元(sigmoid)；第三层输出层"
      ],
      "metadata": {
        "id": "_EWfeJ8Oefpw"
      }
    },
    {
      "cell_type": "code",
      "source": [
        "import torch\n",
        "import torch.nn as nn"
      ],
      "metadata": {
        "id": "Pdr4hKjYefKe"
      },
      "execution_count": null,
      "outputs": []
    },
    {
      "cell_type": "code",
      "source": [
        "# 创建数据\n",
        "torch.random.manual_seed(420)\n",
        "X = torch.rand((500,20),dtype=torch.float32)\n",
        "y = torch.randint(low=0,high=3,size=(500,1),dtype=torch.float32) # 前开后必 0，1，2三分类"
      ],
      "metadata": {
        "id": "r5u5kBzcdIgF"
      },
      "execution_count": null,
      "outputs": []
    },
    {
      "cell_type": "code",
      "source": [
        "# 继承nn.Module类定义神经网络架构\n",
        "\n",
        "class Model(nn.Module):\n",
        "  # init: 定义类本身，__init__函数是在类被实例化的瞬间就会执行的函数\n",
        "  def __init__(self,in_features=10,out_features=2):\n",
        "    # in_features: 输入神经网络的特征数目\n",
        "    # out_features: 输出层上的神经网络的数目\n",
        "    super(Model,self).__init__() # super(请查找这个类的父类，请使用找到的父类替换现在的类)\n",
        "    self.linear1 = nn.Linear(in_features,13,bias=True)\n",
        "    self.linear2 = nn.Linear(13,8,bias=True)\n",
        "    self.output = nn.Linear(8,out_features,bias=True)\n",
        "  \n",
        "  def forward(self,x):\n",
        "    z1 = self.linear1(x)\n",
        "    sigma1 = torch.relu(z1)\n",
        "    z2 = self.linear2(sigma1)\n",
        "    sigma2 = torch.sigmoid(z2)\n",
        "    z3 = self.output(sigma2)\n",
        "    sigma3 = torch.softmax(z3,dim=1)\n",
        "    return sigma3\n",
        "\n",
        "input_ = X.shape[1]\n",
        "output_ = len(y.unique()) # unique()函数返回列表中独一无二的值(适用于多分类)"
      ],
      "metadata": {
        "id": "iN6RJEs4fPze"
      },
      "execution_count": null,
      "outputs": []
    },
    {
      "cell_type": "code",
      "source": [
        "torch.random.manual_seed(420)\n",
        "net = Model(in_features=input_,out_features=output_)"
      ],
      "metadata": {
        "id": "X7zv0ex6hv52"
      },
      "execution_count": null,
      "outputs": []
    },
    {
      "cell_type": "code",
      "source": [
        "net.forward(X)"
      ],
      "metadata": {
        "colab": {
          "base_uri": "https://localhost:8080/"
        },
        "id": "-5dDRW3wlTTj",
        "outputId": "d7a6afc1-58d9-48eb-e918-6b86da9d6cdd"
      },
      "execution_count": null,
      "outputs": [
        {
          "output_type": "execute_result",
          "data": {
            "text/plain": [
              "tensor([[0.4140, 0.3496, 0.2365],\n",
              "        [0.4210, 0.3454, 0.2336],\n",
              "        [0.4011, 0.3635, 0.2355],\n",
              "        ...,\n",
              "        [0.4196, 0.3452, 0.2352],\n",
              "        [0.4153, 0.3455, 0.2392],\n",
              "        [0.4153, 0.3442, 0.2405]], grad_fn=<SoftmaxBackward0>)"
            ]
          },
          "metadata": {},
          "execution_count": 7
        }
      ]
    },
    {
      "cell_type": "markdown",
      "source": [
        "输入层：X(500,20)\n",
        "\n",
        "第一层：w(13,20)*(20,500)—>(13,500)\n",
        "\n",
        "第二层：w(8,13)*(13,500)—>(8,500)\n",
        "\n",
        "输出层：w(3,8)*(8,500)—>(3,500)—>(500,3)"
      ],
      "metadata": {
        "id": "pqEtxjwxnbGo"
      }
    },
    {
      "cell_type": "code",
      "source": [
        "net.linear1.weight.shape # X(500,20)—>w(20,500)"
      ],
      "metadata": {
        "colab": {
          "base_uri": "https://localhost:8080/"
        },
        "id": "Af7iicd9lUgG",
        "outputId": "de0bffdf-bb68-43d8-bab7-9178c9684e03"
      },
      "execution_count": null,
      "outputs": [
        {
          "output_type": "execute_result",
          "data": {
            "text/plain": [
              "torch.Size([13, 20])"
            ]
          },
          "metadata": {},
          "execution_count": 8
        }
      ]
    },
    {
      "cell_type": "code",
      "source": [
        "net.linear2.weight.shape # w()"
      ],
      "metadata": {
        "colab": {
          "base_uri": "https://localhost:8080/"
        },
        "id": "Jq7Y_FJll9UG",
        "outputId": "45f032ea-208e-438c-8864-921e515ba929"
      },
      "execution_count": null,
      "outputs": [
        {
          "output_type": "execute_result",
          "data": {
            "text/plain": [
              "torch.Size([8, 13])"
            ]
          },
          "metadata": {},
          "execution_count": 9
        }
      ]
    },
    {
      "cell_type": "code",
      "source": [
        "net.output.weight.shape"
      ],
      "metadata": {
        "colab": {
          "base_uri": "https://localhost:8080/"
        },
        "id": "02EKNkPOmBOu",
        "outputId": "ce63c54b-c65a-4f43-ee06-d3054a24db26"
      },
      "execution_count": null,
      "outputs": [
        {
          "output_type": "execute_result",
          "data": {
            "text/plain": [
              "torch.Size([3, 8])"
            ]
          },
          "metadata": {},
          "execution_count": 10
        }
      ]
    },
    {
      "cell_type": "markdown",
      "source": [
        "# 子类、父类与super()函数"
      ],
      "metadata": {
        "id": "Ds1bxTCIqJey"
      }
    },
    {
      "cell_type": "code",
      "source": [
        "# 创建一个父类\n",
        "class FooParent(object):\n",
        "  # __init__函数类实例化后会瞬间执行\n",
        "  def __init__(self):\n",
        "    self.parent = \"PARENT!!\" # 表示FooParent类的一个属性\n",
        "    print(\"Running__init__,I am parent\")\n",
        "  def bar(self,message):\n",
        "    self.bar = \"This is a bar\"\n",
        "    print(\"%s from Parent\" % message)"
      ],
      "metadata": {
        "id": "Z0Nv0PQgmHp2"
      },
      "execution_count": null,
      "outputs": []
    },
    {
      "cell_type": "code",
      "source": [
        "FooParent() # 父类实例化瞬间，运行自己的__init__"
      ],
      "metadata": {
        "colab": {
          "base_uri": "https://localhost:8080/"
        },
        "id": "G8L95PaBrwB3",
        "outputId": "eb50a8ba-7d21-43b5-ff71-aaed07464976"
      },
      "execution_count": null,
      "outputs": [
        {
          "output_type": "stream",
          "name": "stdout",
          "text": [
            "Running__init__,I am parent\n"
          ]
        },
        {
          "output_type": "execute_result",
          "data": {
            "text/plain": [
              "<__main__.FooParent at 0x7fc1af826ac0>"
            ]
          },
          "metadata": {},
          "execution_count": 75
        }
      ]
    },
    {
      "cell_type": "code",
      "source": [
        "FooParent().parent # 调用父类定义的属性，同时实例化的也同时执行"
      ],
      "metadata": {
        "colab": {
          "base_uri": "https://localhost:8080/",
          "height": 53
        },
        "id": "A4VkU2_yq_NG",
        "outputId": "c1bd1970-4dab-4ab7-c76c-1ea719666f05"
      },
      "execution_count": null,
      "outputs": [
        {
          "output_type": "stream",
          "name": "stdout",
          "text": [
            "Running__init__,I am parent\n"
          ]
        },
        {
          "output_type": "execute_result",
          "data": {
            "text/plain": [
              "'PARENT!!'"
            ],
            "application/vnd.google.colaboratory.intrinsic+json": {
              "type": "string"
            }
          },
          "metadata": {},
          "execution_count": 73
        }
      ]
    },
    {
      "cell_type": "code",
      "source": [
        "# 建立一个子类，并通过类名调用让子类继承父类的方法和属性\n",
        "class FooChild(FooParent):\n",
        "  def __init__(self):\n",
        "    print(\"Running__init__, I am child\")"
      ],
      "metadata": {
        "id": "j35HfGxLrR4e"
      },
      "execution_count": null,
      "outputs": []
    },
    {
      "cell_type": "code",
      "source": [
        "FooChild()"
      ],
      "metadata": {
        "colab": {
          "base_uri": "https://localhost:8080/"
        },
        "id": "H_J1yclkrdev",
        "outputId": "fa70d006-db3c-4b50-9589-9032986e7d7e"
      },
      "execution_count": null,
      "outputs": [
        {
          "output_type": "stream",
          "name": "stdout",
          "text": [
            "Running__init__, I am child\n"
          ]
        },
        {
          "output_type": "execute_result",
          "data": {
            "text/plain": [
              "<__main__.FooChild at 0x7fc1af826eb0>"
            ]
          },
          "metadata": {},
          "execution_count": 88
        }
      ]
    },
    {
      "cell_type": "code",
      "source": [
        " FooChild().bar(\"hahahaha\") # 子类继承了父类bar方法"
      ],
      "metadata": {
        "colab": {
          "base_uri": "https://localhost:8080/"
        },
        "id": "AOO_9Fz0si8Q",
        "outputId": "78b08e9f-560d-42ce-9eeb-75da11d3b502"
      },
      "execution_count": null,
      "outputs": [
        {
          "output_type": "stream",
          "name": "stdout",
          "text": [
            "Running__init__, I am child\n",
            "hahahaha from Parent\n"
          ]
        }
      ]
    },
    {
      "cell_type": "code",
      "source": [
        "FooChild().parent # 但子类并不继承父类的__init__函数"
      ],
      "metadata": {
        "colab": {
          "base_uri": "https://localhost:8080/",
          "height": 190
        },
        "id": "9SBBUPbnss3H",
        "outputId": "57c81cc6-d486-4eb0-a0fb-4c971938460a"
      },
      "execution_count": null,
      "outputs": [
        {
          "output_type": "stream",
          "name": "stdout",
          "text": [
            "Running__init__, I am child\n"
          ]
        },
        {
          "output_type": "error",
          "ename": "AttributeError",
          "evalue": "ignored",
          "traceback": [
            "\u001b[0;31m---------------------------------------------------------------------------\u001b[0m",
            "\u001b[0;31mAttributeError\u001b[0m                            Traceback (most recent call last)",
            "\u001b[0;32m<ipython-input-82-bba5d9ecb75c>\u001b[0m in \u001b[0;36m<module>\u001b[0;34m\u001b[0m\n\u001b[0;32m----> 1\u001b[0;31m \u001b[0mFooChild\u001b[0m\u001b[0;34m(\u001b[0m\u001b[0;34m)\u001b[0m\u001b[0;34m.\u001b[0m\u001b[0mparent\u001b[0m\u001b[0;34m\u001b[0m\u001b[0;34m\u001b[0m\u001b[0m\n\u001b[0m",
            "\u001b[0;31mAttributeError\u001b[0m: 'FooChild' object has no attribute 'parent'"
          ]
        }
      ]
    },
    {
      "cell_type": "markdown",
      "source": [
        "<font color = \"red\">单纯的类名调用中，子类只能继承父类中‘__init__’方法以外的方法，无法调用父类中的‘__init__’方法(上例中的parent属性无法调用）</font>"
      ],
      "metadata": {
        "id": "Irve8XmvtQHY"
      }
    },
    {
      "cell_type": "code",
      "source": [
        "# 新建一个带super()函数的子类\n",
        "class FooChild1(FooParent):\n",
        "  def __init__(self):\n",
        "    super(FooChild1,self).__init__() # 找到父类中的__init__方法中并复制给FooChild类\n",
        "    print(\"child\")\n",
        "    print(\"I am running the __init__\")"
      ],
      "metadata": {
        "id": "qsqIQRvptHu3"
      },
      "execution_count": null,
      "outputs": []
    },
    {
      "cell_type": "code",
      "source": [
        "FooChild1() # 实例化执行父类和子类的__init__函数"
      ],
      "metadata": {
        "colab": {
          "base_uri": "https://localhost:8080/"
        },
        "id": "JIE9MpO2t4mR",
        "outputId": "afb9f175-dfc8-4613-96b1-0f66b66659e4"
      },
      "execution_count": null,
      "outputs": [
        {
          "output_type": "stream",
          "name": "stdout",
          "text": [
            "Running__init__,I am parent\n",
            "child\n",
            "I am running the __init__\n"
          ]
        },
        {
          "output_type": "execute_result",
          "data": {
            "text/plain": [
              "<__main__.FooChild1 at 0x7fc1af844d90>"
            ]
          },
          "metadata": {},
          "execution_count": 85
        }
      ]
    },
    {
      "cell_type": "code",
      "source": [
        "FooChild1().parent # 继承了父类中的__init__函数"
      ],
      "metadata": {
        "colab": {
          "base_uri": "https://localhost:8080/",
          "height": 89
        },
        "id": "HLghesiDuJSo",
        "outputId": "289ed72c-9e49-417b-bc0d-286f304fc6a6"
      },
      "execution_count": null,
      "outputs": [
        {
          "output_type": "stream",
          "name": "stdout",
          "text": [
            "Running__init__,I am parent\n",
            "child\n",
            "I am running the __init__\n"
          ]
        },
        {
          "output_type": "execute_result",
          "data": {
            "text/plain": [
              "'PARENT!!'"
            ],
            "application/vnd.google.colaboratory.intrinsic+json": {
              "type": "string"
            }
          },
          "metadata": {},
          "execution_count": 87
        }
      ]
    },
    {
      "cell_type": "code",
      "source": [
        "net.cuda()"
      ],
      "metadata": {
        "colab": {
          "base_uri": "https://localhost:8080/"
        },
        "id": "VU3YpwO4uOro",
        "outputId": "a2160848-b921-4040-a9a7-4cda856b52aa"
      },
      "execution_count": null,
      "outputs": [
        {
          "output_type": "execute_result",
          "data": {
            "text/plain": [
              "Model(\n",
              "  (linear1): Linear(in_features=20, out_features=13, bias=True)\n",
              "  (linear2): Linear(in_features=13, out_features=8, bias=True)\n",
              "  (output): Linear(in_features=8, out_features=3, bias=True)\n",
              ")"
            ]
          },
          "metadata": {},
          "execution_count": 13
        }
      ]
    },
    {
      "cell_type": "code",
      "source": [
        "net.linear1.weight"
      ],
      "metadata": {
        "colab": {
          "base_uri": "https://localhost:8080/"
        },
        "id": "qImZHqz6yYK3",
        "outputId": "dbcd63ba-0434-4798-fb48-f65d2b2e7a4c"
      },
      "execution_count": 21,
      "outputs": [
        {
          "output_type": "execute_result",
          "data": {
            "text/plain": [
              "Parameter containing:\n",
              "tensor([[0., 0., 0., 0., 0., 0., 0., 0., 0., 0., 0., 0., 0., 0., 0., 0., 0., 0., 0., 0.],\n",
              "        [0., 0., 0., 0., 0., 0., 0., 0., 0., 0., 0., 0., 0., 0., 0., 0., 0., 0., 0., 0.],\n",
              "        [0., 0., 0., 0., 0., 0., 0., 0., 0., 0., 0., 0., 0., 0., 0., 0., 0., 0., 0., 0.],\n",
              "        [0., 0., 0., 0., 0., 0., 0., 0., 0., 0., 0., 0., 0., 0., 0., 0., 0., 0., 0., 0.],\n",
              "        [0., 0., 0., 0., 0., 0., 0., 0., 0., 0., 0., 0., 0., 0., 0., 0., 0., 0., 0., 0.],\n",
              "        [0., 0., 0., 0., 0., 0., 0., 0., 0., 0., 0., 0., 0., 0., 0., 0., 0., 0., 0., 0.],\n",
              "        [0., 0., 0., 0., 0., 0., 0., 0., 0., 0., 0., 0., 0., 0., 0., 0., 0., 0., 0., 0.],\n",
              "        [0., 0., 0., 0., 0., 0., 0., 0., 0., 0., 0., 0., 0., 0., 0., 0., 0., 0., 0., 0.],\n",
              "        [0., 0., 0., 0., 0., 0., 0., 0., 0., 0., 0., 0., 0., 0., 0., 0., 0., 0., 0., 0.],\n",
              "        [0., 0., 0., 0., 0., 0., 0., 0., 0., 0., 0., 0., 0., 0., 0., 0., 0., 0., 0., 0.],\n",
              "        [0., 0., 0., 0., 0., 0., 0., 0., 0., 0., 0., 0., 0., 0., 0., 0., 0., 0., 0., 0.],\n",
              "        [0., 0., 0., 0., 0., 0., 0., 0., 0., 0., 0., 0., 0., 0., 0., 0., 0., 0., 0., 0.],\n",
              "        [0., 0., 0., 0., 0., 0., 0., 0., 0., 0., 0., 0., 0., 0., 0., 0., 0., 0., 0., 0.]],\n",
              "       device='cuda:0', requires_grad=True)"
            ]
          },
          "metadata": {},
          "execution_count": 21
        }
      ]
    },
    {
      "cell_type": "code",
      "source": [
        "def initial_0(m):\n",
        "  print(m)\n",
        "  if type(m) == nn.Linear:\n",
        "    m.weight.data.fill_(0)\n",
        "    print(weight)"
      ],
      "metadata": {
        "id": "mJLeUBvFyHWk"
      },
      "execution_count": 18,
      "outputs": []
    },
    {
      "cell_type": "code",
      "source": [
        "net.apply(initial_0) # 对神经网络中所有层，init函数中所有对象都执行同样操作(批量处理)\n",
        "# 对三层同时应用"
      ],
      "metadata": {
        "id": "AUSUlztMwxfR",
        "colab": {
          "base_uri": "https://localhost:8080/"
        },
        "outputId": "dc035202-a1de-4353-e3ab-7063244ada7b"
      },
      "execution_count": 19,
      "outputs": [
        {
          "output_type": "stream",
          "name": "stdout",
          "text": [
            "Linear(in_features=20, out_features=13, bias=True)\n",
            "Parameter containing:\n",
            "tensor([[0., 0., 0., 0., 0., 0., 0., 0., 0., 0., 0., 0., 0., 0., 0., 0., 0., 0., 0., 0.],\n",
            "        [0., 0., 0., 0., 0., 0., 0., 0., 0., 0., 0., 0., 0., 0., 0., 0., 0., 0., 0., 0.],\n",
            "        [0., 0., 0., 0., 0., 0., 0., 0., 0., 0., 0., 0., 0., 0., 0., 0., 0., 0., 0., 0.],\n",
            "        [0., 0., 0., 0., 0., 0., 0., 0., 0., 0., 0., 0., 0., 0., 0., 0., 0., 0., 0., 0.],\n",
            "        [0., 0., 0., 0., 0., 0., 0., 0., 0., 0., 0., 0., 0., 0., 0., 0., 0., 0., 0., 0.],\n",
            "        [0., 0., 0., 0., 0., 0., 0., 0., 0., 0., 0., 0., 0., 0., 0., 0., 0., 0., 0., 0.],\n",
            "        [0., 0., 0., 0., 0., 0., 0., 0., 0., 0., 0., 0., 0., 0., 0., 0., 0., 0., 0., 0.],\n",
            "        [0., 0., 0., 0., 0., 0., 0., 0., 0., 0., 0., 0., 0., 0., 0., 0., 0., 0., 0., 0.],\n",
            "        [0., 0., 0., 0., 0., 0., 0., 0., 0., 0., 0., 0., 0., 0., 0., 0., 0., 0., 0., 0.],\n",
            "        [0., 0., 0., 0., 0., 0., 0., 0., 0., 0., 0., 0., 0., 0., 0., 0., 0., 0., 0., 0.],\n",
            "        [0., 0., 0., 0., 0., 0., 0., 0., 0., 0., 0., 0., 0., 0., 0., 0., 0., 0., 0., 0.],\n",
            "        [0., 0., 0., 0., 0., 0., 0., 0., 0., 0., 0., 0., 0., 0., 0., 0., 0., 0., 0., 0.],\n",
            "        [0., 0., 0., 0., 0., 0., 0., 0., 0., 0., 0., 0., 0., 0., 0., 0., 0., 0., 0., 0.]],\n",
            "       device='cuda:0', requires_grad=True)\n",
            "Linear(in_features=13, out_features=8, bias=True)\n",
            "Parameter containing:\n",
            "tensor([[0., 0., 0., 0., 0., 0., 0., 0., 0., 0., 0., 0., 0.],\n",
            "        [0., 0., 0., 0., 0., 0., 0., 0., 0., 0., 0., 0., 0.],\n",
            "        [0., 0., 0., 0., 0., 0., 0., 0., 0., 0., 0., 0., 0.],\n",
            "        [0., 0., 0., 0., 0., 0., 0., 0., 0., 0., 0., 0., 0.],\n",
            "        [0., 0., 0., 0., 0., 0., 0., 0., 0., 0., 0., 0., 0.],\n",
            "        [0., 0., 0., 0., 0., 0., 0., 0., 0., 0., 0., 0., 0.],\n",
            "        [0., 0., 0., 0., 0., 0., 0., 0., 0., 0., 0., 0., 0.],\n",
            "        [0., 0., 0., 0., 0., 0., 0., 0., 0., 0., 0., 0., 0.]], device='cuda:0',\n",
            "       requires_grad=True)\n",
            "Linear(in_features=8, out_features=3, bias=True)\n",
            "Parameter containing:\n",
            "tensor([[0., 0., 0., 0., 0., 0., 0., 0.],\n",
            "        [0., 0., 0., 0., 0., 0., 0., 0.],\n",
            "        [0., 0., 0., 0., 0., 0., 0., 0.]], device='cuda:0', requires_grad=True)\n",
            "Model(\n",
            "  (linear1): Linear(in_features=20, out_features=13, bias=True)\n",
            "  (linear2): Linear(in_features=13, out_features=8, bias=True)\n",
            "  (output): Linear(in_features=8, out_features=3, bias=True)\n",
            ")\n"
          ]
        },
        {
          "output_type": "execute_result",
          "data": {
            "text/plain": [
              "Model(\n",
              "  (linear1): Linear(in_features=20, out_features=13, bias=True)\n",
              "  (linear2): Linear(in_features=13, out_features=8, bias=True)\n",
              "  (output): Linear(in_features=8, out_features=3, bias=True)\n",
              ")"
            ]
          },
          "metadata": {},
          "execution_count": 19
        }
      ]
    },
    {
      "cell_type": "code",
      "source": [
        "for param in net.parameters():\n",
        "  print(param)\n",
        "# 包括神经层中的所有参数(权重和偏置)"
      ],
      "metadata": {
        "colab": {
          "base_uri": "https://localhost:8080/"
        },
        "id": "S8AI-vRNynAI",
        "outputId": "e079583b-072f-476e-b44d-536a1880b8f9"
      },
      "execution_count": 20,
      "outputs": [
        {
          "output_type": "stream",
          "name": "stdout",
          "text": [
            "Parameter containing:\n",
            "tensor([[0., 0., 0., 0., 0., 0., 0., 0., 0., 0., 0., 0., 0., 0., 0., 0., 0., 0., 0., 0.],\n",
            "        [0., 0., 0., 0., 0., 0., 0., 0., 0., 0., 0., 0., 0., 0., 0., 0., 0., 0., 0., 0.],\n",
            "        [0., 0., 0., 0., 0., 0., 0., 0., 0., 0., 0., 0., 0., 0., 0., 0., 0., 0., 0., 0.],\n",
            "        [0., 0., 0., 0., 0., 0., 0., 0., 0., 0., 0., 0., 0., 0., 0., 0., 0., 0., 0., 0.],\n",
            "        [0., 0., 0., 0., 0., 0., 0., 0., 0., 0., 0., 0., 0., 0., 0., 0., 0., 0., 0., 0.],\n",
            "        [0., 0., 0., 0., 0., 0., 0., 0., 0., 0., 0., 0., 0., 0., 0., 0., 0., 0., 0., 0.],\n",
            "        [0., 0., 0., 0., 0., 0., 0., 0., 0., 0., 0., 0., 0., 0., 0., 0., 0., 0., 0., 0.],\n",
            "        [0., 0., 0., 0., 0., 0., 0., 0., 0., 0., 0., 0., 0., 0., 0., 0., 0., 0., 0., 0.],\n",
            "        [0., 0., 0., 0., 0., 0., 0., 0., 0., 0., 0., 0., 0., 0., 0., 0., 0., 0., 0., 0.],\n",
            "        [0., 0., 0., 0., 0., 0., 0., 0., 0., 0., 0., 0., 0., 0., 0., 0., 0., 0., 0., 0.],\n",
            "        [0., 0., 0., 0., 0., 0., 0., 0., 0., 0., 0., 0., 0., 0., 0., 0., 0., 0., 0., 0.],\n",
            "        [0., 0., 0., 0., 0., 0., 0., 0., 0., 0., 0., 0., 0., 0., 0., 0., 0., 0., 0., 0.],\n",
            "        [0., 0., 0., 0., 0., 0., 0., 0., 0., 0., 0., 0., 0., 0., 0., 0., 0., 0., 0., 0.]],\n",
            "       device='cuda:0', requires_grad=True)\n",
            "Parameter containing:\n",
            "tensor([ 1.3508e-01,  1.5439e-01, -1.9350e-01, -6.8777e-02,  1.3787e-01,\n",
            "        -1.8474e-01,  1.2763e-01,  1.8031e-01,  9.5152e-02, -1.2660e-01,\n",
            "         1.4317e-01, -1.4945e-01,  3.4253e-05], device='cuda:0',\n",
            "       requires_grad=True)\n",
            "Parameter containing:\n",
            "tensor([[0., 0., 0., 0., 0., 0., 0., 0., 0., 0., 0., 0., 0.],\n",
            "        [0., 0., 0., 0., 0., 0., 0., 0., 0., 0., 0., 0., 0.],\n",
            "        [0., 0., 0., 0., 0., 0., 0., 0., 0., 0., 0., 0., 0.],\n",
            "        [0., 0., 0., 0., 0., 0., 0., 0., 0., 0., 0., 0., 0.],\n",
            "        [0., 0., 0., 0., 0., 0., 0., 0., 0., 0., 0., 0., 0.],\n",
            "        [0., 0., 0., 0., 0., 0., 0., 0., 0., 0., 0., 0., 0.],\n",
            "        [0., 0., 0., 0., 0., 0., 0., 0., 0., 0., 0., 0., 0.],\n",
            "        [0., 0., 0., 0., 0., 0., 0., 0., 0., 0., 0., 0., 0.]], device='cuda:0',\n",
            "       requires_grad=True)\n",
            "Parameter containing:\n",
            "tensor([ 0.0900, -0.0597,  0.0268, -0.0173,  0.0065,  0.0228, -0.1408,  0.1188],\n",
            "       device='cuda:0', requires_grad=True)\n",
            "Parameter containing:\n",
            "tensor([[0., 0., 0., 0., 0., 0., 0., 0.],\n",
            "        [0., 0., 0., 0., 0., 0., 0., 0.],\n",
            "        [0., 0., 0., 0., 0., 0., 0., 0.]], device='cuda:0', requires_grad=True)\n",
            "Parameter containing:\n",
            "tensor([-0.0156, -0.0730, -0.2637], device='cuda:0', requires_grad=True)\n"
          ]
        }
      ]
    },
    {
      "cell_type": "code",
      "source": [],
      "metadata": {
        "id": "IIADhMpZzAvJ"
      },
      "execution_count": null,
      "outputs": []
    }
  ]
}