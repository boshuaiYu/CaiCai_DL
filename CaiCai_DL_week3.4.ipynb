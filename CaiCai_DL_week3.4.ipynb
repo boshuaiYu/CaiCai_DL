{
  "nbformat": 4,
  "nbformat_minor": 0,
  "metadata": {
    "colab": {
      "provenance": [],
      "authorship_tag": "ABX9TyOP+eD7i4qxCk3hYtdxrLE1",
      "include_colab_link": true
    },
    "kernelspec": {
      "name": "python3",
      "display_name": "Python 3"
    },
    "language_info": {
      "name": "python"
    }
  },
  "cells": [
    {
      "cell_type": "markdown",
      "metadata": {
        "id": "view-in-github",
        "colab_type": "text"
      },
      "source": [
        "<a href=\"https://colab.research.google.com/github/boshuaiYu/CaiCai_DL/blob/main/CaiCai_DL_week3.4.ipynb\" target=\"_parent\"><img src=\"https://colab.research.google.com/assets/colab-badge.svg\" alt=\"Open In Colab\"/></a>"
      ]
    },
    {
      "cell_type": "markdown",
      "source": [
        "##<font color=\"orange\">**在MINST-FASHION上实现神经网络**"
      ],
      "metadata": {
        "id": "wKl2j-M9_sqc"
      }
    },
    {
      "cell_type": "code",
      "execution_count": 1,
      "metadata": {
        "id": "ORbPufI7_L4F"
      },
      "outputs": [],
      "source": [
        "import torch\n",
        "import torch.nn as nn\n",
        "from torch import optim\n",
        "from torch.utils.data import TensorDataset\n",
        "from torch.utils.data import DataLoader"
      ]
    },
    {
      "cell_type": "code",
      "source": [
        "lr = 0.15\n",
        "gamma = 0\n",
        "epochs = 10\n",
        "bs = 128"
      ],
      "metadata": {
        "id": "YcLSnR9zAiwL"
      },
      "execution_count": 53,
      "outputs": []
    },
    {
      "cell_type": "markdown",
      "source": [
        "**导入minst-fashion**"
      ],
      "metadata": {
        "id": "sVP0B8s8Ay13"
      }
    },
    {
      "cell_type": "code",
      "source": [
        "import torchvision\n",
        "import torchvision.transforms as transforms"
      ],
      "metadata": {
        "id": "tOPYyKqpAsCS"
      },
      "execution_count": 3,
      "outputs": []
    },
    {
      "cell_type": "markdown",
      "source": [
        "**<font color=\"orange\">\n",
        "Dataloader,TensorDataset主要是对数据、归纳形式进行变换**\n",
        "\n",
        "**<font color=\"yellow\">\n",
        "torchvision.transforms是对数据集的数字本身进行修改的**"
      ],
      "metadata": {
        "id": "923huvrpBNai"
      }
    },
    {
      "cell_type": "code",
      "source": [
        "mnist = torchvision.datasets.FashionMNIST(\n",
        "    root=r\"/content/sample_data\" # 根目录\n",
        "    ,train=True # 是否用于训练\n",
        "    ,download=True\n",
        "    ,transform=transforms.ToTensor() # 将数据集处理成tensor\n",
        ")"
      ],
      "metadata": {
        "id": "Xrzkqs2rBKUK"
      },
      "execution_count": null,
      "outputs": []
    },
    {
      "cell_type": "code",
      "source": [
        "mnist"
      ],
      "metadata": {
        "colab": {
          "base_uri": "https://localhost:8080/"
        },
        "id": "m9KRBRzPEV84",
        "outputId": "ddce434c-42ca-4581-c78a-0f80b5049fd8"
      },
      "execution_count": 6,
      "outputs": [
        {
          "output_type": "execute_result",
          "data": {
            "text/plain": [
              "Dataset FashionMNIST\n",
              "    Number of datapoints: 60000\n",
              "    Root location: /content/sample_data\n",
              "    Split: Train\n",
              "    StandardTransform\n",
              "Transform: ToTensor()"
            ]
          },
          "metadata": {},
          "execution_count": 6
        }
      ]
    },
    {
      "cell_type": "code",
      "source": [
        "len(mnist)"
      ],
      "metadata": {
        "colab": {
          "base_uri": "https://localhost:8080/"
        },
        "id": "CeWHT0zuDWuh",
        "outputId": "fc7321c6-8ac0-410a-ee58-1a3fa9e03ad6"
      },
      "execution_count": 7,
      "outputs": [
        {
          "output_type": "execute_result",
          "data": {
            "text/plain": [
              "60000"
            ]
          },
          "metadata": {},
          "execution_count": 7
        }
      ]
    },
    {
      "cell_type": "code",
      "source": [
        "mnist.data.shape # (sample_size, H-height, W-width, C-channel)"
      ],
      "metadata": {
        "colab": {
          "base_uri": "https://localhost:8080/"
        },
        "id": "NB5CwIAmDcGZ",
        "outputId": "b2b54466-3ae2-4151-c57a-0c08d40997a5"
      },
      "execution_count": 8,
      "outputs": [
        {
          "output_type": "execute_result",
          "data": {
            "text/plain": [
              "torch.Size([60000, 28, 28])"
            ]
          },
          "metadata": {},
          "execution_count": 8
        }
      ]
    },
    {
      "cell_type": "code",
      "source": [
        "mnist.targets.unique().shape # 类别数"
      ],
      "metadata": {
        "colab": {
          "base_uri": "https://localhost:8080/"
        },
        "id": "Btn3ADefEa2C",
        "outputId": "83c682c5-3f57-4c25-be8a-2d8f5ffa2f59"
      },
      "execution_count": 9,
      "outputs": [
        {
          "output_type": "execute_result",
          "data": {
            "text/plain": [
              "torch.Size([10])"
            ]
          },
          "metadata": {},
          "execution_count": 9
        }
      ]
    },
    {
      "cell_type": "code",
      "source": [
        "mnist.classes # 标签的类别"
      ],
      "metadata": {
        "colab": {
          "base_uri": "https://localhost:8080/"
        },
        "id": "FtpsfyxZFKpq",
        "outputId": "b026a932-03fd-490a-f793-8940a29de77c"
      },
      "execution_count": 13,
      "outputs": [
        {
          "output_type": "execute_result",
          "data": {
            "text/plain": [
              "['T-shirt/top',\n",
              " 'Trouser',\n",
              " 'Pullover',\n",
              " 'Dress',\n",
              " 'Coat',\n",
              " 'Sandal',\n",
              " 'Shirt',\n",
              " 'Sneaker',\n",
              " 'Bag',\n",
              " 'Ankle boot']"
            ]
          },
          "metadata": {},
          "execution_count": 13
        }
      ]
    },
    {
      "cell_type": "code",
      "source": [
        "import matplotlib.pyplot as plt\n",
        "import numpy as np"
      ],
      "metadata": {
        "id": "L_tRySAXFR9a"
      },
      "execution_count": 10,
      "outputs": []
    },
    {
      "cell_type": "code",
      "source": [
        "plt.imshow(mnist[59556][0].view(28,28).numpy()); # imageshow"
      ],
      "metadata": {
        "colab": {
          "base_uri": "https://localhost:8080/",
          "height": 265
        },
        "id": "TlRRvgbSFewT",
        "outputId": "052c5fe9-e71c-4c6b-c6d0-2f48046deeb2"
      },
      "execution_count": 11,
      "outputs": [
        {
          "output_type": "display_data",
          "data": {
            "text/plain": [
              "<Figure size 432x288 with 1 Axes>"
            ],
            "image/png": "[encoded data removed]"
          },
          "metadata": {
            "needs_background": "light"
          }
        }
      ]
    },
    {
      "cell_type": "code",
      "source": [
        "# 直接进行小批量划分\n",
        "batchdata = DataLoader(mnist,batch_size=bs,shuffle=True)\n",
        "len(batchdata)"
      ],
      "metadata": {
        "colab": {
          "base_uri": "https://localhost:8080/"
        },
        "id": "0sU2aD69FwJC",
        "outputId": "2c999c42-ffaf-4523-e53c-0bbcd4b5de4b"
      },
      "execution_count": 23,
      "outputs": [
        {
          "output_type": "execute_result",
          "data": {
            "text/plain": [
              "469"
            ]
          },
          "metadata": {},
          "execution_count": 23
        }
      ]
    },
    {
      "cell_type": "code",
      "source": [
        "for x,y in batchdata:\n",
        "  print(x.shape)\n",
        "  print(y.shape)\n",
        "  break"
      ],
      "metadata": {
        "colab": {
          "base_uri": "https://localhost:8080/"
        },
        "id": "uroRtBIbsX31",
        "outputId": "d325c407-b202-4265-ed6a-2ee5e509355b"
      },
      "execution_count": 15,
      "outputs": [
        {
          "output_type": "stream",
          "name": "stdout",
          "text": [
            "torch.Size([128, 1, 28, 28])\n",
            "torch.Size([128])\n"
          ]
        }
      ]
    },
    {
      "cell_type": "code",
      "source": [
        "# x(四维)—>二维(个数，其他)\n",
        "input_ = mnist.data[0].numel() # 特征的个数，除第一维以后所有的维数的乘积\n",
        "output_ = len(mnist.targets.unique())\n",
        "input_, output_"
      ],
      "metadata": {
        "colab": {
          "base_uri": "https://localhost:8080/"
        },
        "id": "GOT0w07bHZ3b",
        "outputId": "bc8f74b8-9cd4-40ad-ca47-1f5663795f1e"
      },
      "execution_count": 26,
      "outputs": [
        {
          "output_type": "execute_result",
          "data": {
            "text/plain": [
              "(784, 10)"
            ]
          },
          "metadata": {},
          "execution_count": 26
        }
      ]
    },
    {
      "cell_type": "code",
      "source": [
        "# 模型架构定义\n",
        "class Model(nn.Module):\n",
        "  def __init__(self,in_features,out_features):\n",
        "    super(Model,self).__init__()\n",
        "    self.normalize = nn.BatchNorm2d(num_features=1)\n",
        "    self.linear1 = nn.Linear(in_features,128,bias=True)\n",
        "    self.output = nn.Linear(128,out_features,bias=True)\n",
        "\n",
        "  def forward(self,x):\n",
        "    x = self.normalize(x)\n",
        "    x = x.reshape(-1,28*28)\n",
        "    z1 = self.linear1(x)\n",
        "    sigma1 = torch.relu(z1)\n",
        "    z2 = self.output(sigma1)\n",
        "    sigma2 = torch.log_softmax(z2,dim=1) # 要检测准确率\n",
        "    return sigma2"
      ],
      "metadata": {
        "id": "3sL_MpVuHxyD"
      },
      "execution_count": 55,
      "outputs": []
    },
    {
      "cell_type": "code",
      "source": [
        "# 定义训练函数(损失函数+优化算法+反向传播)\n",
        "def fit(net,batchdata,lr,epochs,gamma):\n",
        "  criterion = nn.NLLLoss()\n",
        "  opt = optim.SGD(net.parameters(),lr=lr,momentum=gamma)\n",
        "\n",
        "  correct = 0\n",
        "  samples = 0\n",
        "  for epoch in range(epochs):\n",
        "    for batch_idx, (x,y) in enumerate(batchdata):\n",
        "      y = y.view(x.shape[0]) # 将y变成1维\n",
        "      sigma = net.forward(x)\n",
        "      loss = criterion(sigma,y)\n",
        "      loss.backward()\n",
        "      opt.step()\n",
        "      opt.zero_grad()\n",
        "\n",
        "      # 求解准确率\n",
        "      yhat = torch.max(sigma,1)[1] # 索引代表类别，第二个结果中索引1的部分\n",
        "      correct += torch.sum(yhat==y)\n",
        "\n",
        "      # 每训练一个batch的数据，数据见过的就增加x.shape[0]个\n",
        "      samples += x.shape[0]\n",
        "\n",
        "      if(batch_idx+1) % 125 ==0 or batch_idx == len(batchdata)-1:\n",
        "        print(\"Epoch{}:[{}/{}({:.0f}%)]\\tLoss:{:.6f}\\tAccuracy:{:.3f}%\".format(\n",
        "                       epoch+1\n",
        "                       ,samples\n",
        "                       ,len(batchdata.dataset)*epochs\n",
        "                       ,100*samples/(len(batchdata.dataset)*epochs)\n",
        "                       ,loss.data.item()\n",
        "                       ,float((correct*100)/samples)))\n",
        "    # 分子代表：已经查看过的数据有多少\n",
        "    # 分母代表：在现有的epochs中，模型共有多少数据"
      ],
      "metadata": {
        "id": "T3I5LnOrISRi"
      },
      "execution_count": 56,
      "outputs": []
    },
    {
      "cell_type": "code",
      "source": [
        "torch.random.manual_seed(420)\n",
        "net = Model(in_features=input_, out_features=output_)\n",
        "fit(net,batchdata,lr=lr,epochs=epochs,gamma=gamma)"
      ],
      "metadata": {
        "colab": {
          "base_uri": "https://localhost:8080/"
        },
        "id": "NcJUlBeN14Yh",
        "outputId": "5483a845-605f-4e67-c73e-5d2111433c12"
      },
      "execution_count": 57,
      "outputs": [
        {
          "output_type": "stream",
          "name": "stdout",
          "text": [
            "Epoch1:[16000/600000(3%)]\tLoss:0.557164\tAccuracy:73.500%\n",
            "Epoch1:[32000/600000(5%)]\tLoss:0.402450\tAccuracy:77.297%\n",
            "Epoch1:[48000/600000(8%)]\tLoss:0.444356\tAccuracy:79.527%\n",
            "Epoch1:[60000/600000(10%)]\tLoss:0.237584\tAccuracy:80.622%\n",
            "Epoch2:[76000/600000(13%)]\tLoss:0.316223\tAccuracy:81.667%\n",
            "Epoch2:[92000/600000(15%)]\tLoss:0.369680\tAccuracy:82.435%\n",
            "Epoch2:[108000/600000(18%)]\tLoss:0.255088\tAccuracy:83.064%\n",
            "Epoch2:[120000/600000(20%)]\tLoss:0.245632\tAccuracy:83.454%\n",
            "Epoch3:[136000/600000(23%)]\tLoss:0.242432\tAccuracy:83.940%\n",
            "Epoch3:[152000/600000(25%)]\tLoss:0.277982\tAccuracy:84.313%\n",
            "Epoch3:[168000/600000(28%)]\tLoss:0.510769\tAccuracy:84.628%\n",
            "Epoch3:[180000/600000(30%)]\tLoss:0.296304\tAccuracy:84.897%\n",
            "Epoch4:[196000/600000(33%)]\tLoss:0.338607\tAccuracy:85.189%\n",
            "Epoch4:[212000/600000(35%)]\tLoss:0.241895\tAccuracy:85.470%\n",
            "Epoch4:[228000/600000(38%)]\tLoss:0.322951\tAccuracy:85.693%\n",
            "Epoch4:[240000/600000(40%)]\tLoss:0.376987\tAccuracy:85.825%\n",
            "Epoch5:[256000/600000(43%)]\tLoss:0.303666\tAccuracy:86.048%\n",
            "Epoch5:[272000/600000(45%)]\tLoss:0.308336\tAccuracy:86.232%\n",
            "Epoch5:[288000/600000(48%)]\tLoss:0.414397\tAccuracy:86.399%\n",
            "Epoch5:[300000/600000(50%)]\tLoss:0.338241\tAccuracy:86.502%\n",
            "Epoch6:[316000/600000(53%)]\tLoss:0.477064\tAccuracy:86.664%\n",
            "Epoch6:[332000/600000(55%)]\tLoss:0.324402\tAccuracy:86.805%\n",
            "Epoch6:[348000/600000(58%)]\tLoss:0.152310\tAccuracy:86.948%\n",
            "Epoch6:[360000/600000(60%)]\tLoss:0.208823\tAccuracy:87.043%\n",
            "Epoch7:[376000/600000(63%)]\tLoss:0.339743\tAccuracy:87.182%\n",
            "Epoch7:[392000/600000(65%)]\tLoss:0.215575\tAccuracy:87.319%\n",
            "Epoch7:[408000/600000(68%)]\tLoss:0.254309\tAccuracy:87.420%\n",
            "Epoch7:[420000/600000(70%)]\tLoss:0.324929\tAccuracy:87.503%\n",
            "Epoch8:[436000/600000(73%)]\tLoss:0.194459\tAccuracy:87.625%\n",
            "Epoch8:[452000/600000(75%)]\tLoss:0.239170\tAccuracy:87.741%\n",
            "Epoch8:[468000/600000(78%)]\tLoss:0.261620\tAccuracy:87.844%\n",
            "Epoch8:[480000/600000(80%)]\tLoss:0.335545\tAccuracy:87.905%\n",
            "Epoch9:[496000/600000(83%)]\tLoss:0.254402\tAccuracy:88.012%\n",
            "Epoch9:[512000/600000(85%)]\tLoss:0.252187\tAccuracy:88.106%\n",
            "Epoch9:[528000/600000(88%)]\tLoss:0.195556\tAccuracy:88.192%\n",
            "Epoch9:[540000/600000(90%)]\tLoss:0.106236\tAccuracy:88.255%\n",
            "Epoch10:[556000/600000(93%)]\tLoss:0.179391\tAccuracy:88.363%\n",
            "Epoch10:[572000/600000(95%)]\tLoss:0.299742\tAccuracy:88.447%\n",
            "Epoch10:[588000/600000(98%)]\tLoss:0.237086\tAccuracy:88.531%\n",
            "Epoch10:[600000/600000(100%)]\tLoss:0.202993\tAccuracy:88.583%\n"
          ]
        }
      ]
    },
    {
      "cell_type": "code",
      "source": [
        "list = [\"A\",\"B\",\"C\"]\n",
        "for x in enumerate(list): # 调用enumerate可以把数据和索引对应起来\n",
        "  print(x)"
      ],
      "metadata": {
        "colab": {
          "base_uri": "https://localhost:8080/"
        },
        "id": "854WE7lGvaox",
        "outputId": "471f9685-bd56-4d23-d124-60b3d66904f4"
      },
      "execution_count": 21,
      "outputs": [
        {
          "output_type": "stream",
          "name": "stdout",
          "text": [
            "(0, 'A')\n",
            "(1, 'B')\n",
            "(2, 'C')\n"
          ]
        }
      ]
    }
  ]
}