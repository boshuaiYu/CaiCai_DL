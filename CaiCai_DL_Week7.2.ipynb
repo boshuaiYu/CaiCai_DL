{
  "nbformat": 4,
  "nbformat_minor": 0,
  "metadata": {
    "colab": {
      "provenance": [],
      "mount_file_id": "1NnIEUmQI4KHD3uoCfk_nTLXsxVCo9IV0",
      "authorship_tag": "ABX9TyP5s1yCradehqa8JCO7u6so",
      "include_colab_link": true
    },
    "kernelspec": {
      "name": "python3",
      "display_name": "Python 3"
    },
    "language_info": {
      "name": "python"
    }
  },
  "cells": [
    {
      "cell_type": "markdown",
      "metadata": {
        "id": "view-in-github",
        "colab_type": "text"
      },
      "source": [
        "<a href=\"https://colab.research.google.com/github/boshuaiYu/CaiCai_DL/blob/main/CaiCai_DL_Week7.2.ipynb\" target=\"_parent\"><img src=\"https://colab.research.google.com/assets/colab-badge.svg\" alt=\"Open In Colab\"/></a>"
      ]
    },
    {
      "cell_type": "code",
      "execution_count": 1,
      "metadata": {
        "id": "QCnIKuXEFwcs"
      },
      "outputs": [],
      "source": [
        "import torch\n",
        "from torch import nn,optim\n",
        "import sys\n",
        "sys.path.append(\"/content/drive/MyDrive/Colab Notebooks/week4_function\")\n",
        "from torchLearning import *"
      ]
    },
    {
      "cell_type": "code",
      "source": [
        "from torch.optim import lr_scheduler"
      ],
      "metadata": {
        "id": "6oKD100gF9f2"
      },
      "execution_count": 2,
      "outputs": []
    },
    {
      "cell_type": "markdown",
      "source": [
        "#**一、优化器与状态字典(state_dict)**"
      ],
      "metadata": {
        "id": "YNpscKwjYiXN"
      }
    },
    {
      "cell_type": "code",
      "source": [
        "torch.manual_seed(420)\n",
        "\n",
        "features, labels = tensorGenReg(w=[2,-1,3,1,2],bias=False,deg=2)\n",
        "\n",
        "train_loader, test_loader = split_loader(features,labels,batch_size=50)"
      ],
      "metadata": {
        "id": "fXw3MvI5YYWp"
      },
      "execution_count": 3,
      "outputs": []
    },
    {
      "cell_type": "code",
      "source": [
        "torch.manual_seed(24)\n",
        "\n",
        "tanh_model1 = net_class2(act_fun=torch.tanh,in_features=5,BN_model=\"pre\")"
      ],
      "metadata": {
        "id": "ttUQOYVbZE06"
      },
      "execution_count": 4,
      "outputs": []
    },
    {
      "cell_type": "code",
      "source": [
        "optimizer = optim.SGD(tanh_model1.parameters(),lr=0.05)"
      ],
      "metadata": {
        "id": "lx-cIMxfZad5"
      },
      "execution_count": 5,
      "outputs": []
    },
    {
      "cell_type": "code",
      "source": [
        "len(list(tanh_model1.parameters()))"
      ],
      "metadata": {
        "colab": {
          "base_uri": "https://localhost:8080/"
        },
        "id": "RccmimiAaUR0",
        "outputId": "b39a5b29-1ef4-4369-8435-55f7024dcc47"
      },
      "execution_count": 7,
      "outputs": [
        {
          "output_type": "execute_result",
          "data": {
            "text/plain": [
              "10"
            ]
          },
          "metadata": {},
          "execution_count": 7
        }
      ]
    },
    {
      "cell_type": "code",
      "source": [
        "optimizer.state_dict()"
      ],
      "metadata": {
        "colab": {
          "base_uri": "https://localhost:8080/"
        },
        "id": "ywo8yjV7Zg6I",
        "outputId": "194ad7b3-1585-4a82-d370-0ecf8e73c4fe"
      },
      "execution_count": 6,
      "outputs": [
        {
          "output_type": "execute_result",
          "data": {
            "text/plain": [
              "{'state': {},\n",
              " 'param_groups': [{'lr': 0.05,\n",
              "   'momentum': 0,\n",
              "   'dampening': 0,\n",
              "   'weight_decay': 0,\n",
              "   'nesterov': False,\n",
              "   'maximize': False,\n",
              "   'foreach': None,\n",
              "   'differentiable': False,\n",
              "   'params': [0, 1, 2, 3, 4, 5, 6, 7, 8, 9]}]}"
            ]
          },
          "metadata": {},
          "execution_count": 6
        }
      ]
    },
    {
      "cell_type": "code",
      "source": [
        "optimizer.state_dict()[\"param_groups\"]"
      ],
      "metadata": {
        "colab": {
          "base_uri": "https://localhost:8080/"
        },
        "id": "QBkr_8UCZj74",
        "outputId": "95c1ad59-0379-4946-db31-35da785a7264"
      },
      "execution_count": 9,
      "outputs": [
        {
          "output_type": "execute_result",
          "data": {
            "text/plain": [
              "[{'lr': 0.05,\n",
              "  'momentum': 0,\n",
              "  'dampening': 0,\n",
              "  'weight_decay': 0,\n",
              "  'nesterov': False,\n",
              "  'maximize': False,\n",
              "  'foreach': None,\n",
              "  'differentiable': False,\n",
              "  'params': [0, 1, 2, 3, 4, 5, 6, 7, 8, 9]}]"
            ]
          },
          "metadata": {},
          "execution_count": 9
        }
      ]
    },
    {
      "cell_type": "code",
      "source": [
        "optimizer.state_dict()[\"param_groups\"][0]"
      ],
      "metadata": {
        "colab": {
          "base_uri": "https://localhost:8080/"
        },
        "id": "6kRuPKSfapoh",
        "outputId": "dc8f0a8a-7453-47bc-8659-c76c3e51d077"
      },
      "execution_count": 10,
      "outputs": [
        {
          "output_type": "execute_result",
          "data": {
            "text/plain": [
              "{'lr': 0.05,\n",
              " 'momentum': 0,\n",
              " 'dampening': 0,\n",
              " 'weight_decay': 0,\n",
              " 'nesterov': False,\n",
              " 'maximize': False,\n",
              " 'foreach': None,\n",
              " 'differentiable': False,\n",
              " 'params': [0, 1, 2, 3, 4, 5, 6, 7, 8, 9]}"
            ]
          },
          "metadata": {},
          "execution_count": 10
        }
      ]
    },
    {
      "cell_type": "code",
      "source": [
        "optimizer.state_dict()[\"param_groups\"][0][\"lr\"] # 进行下一轮迭代时学习率"
      ],
      "metadata": {
        "colab": {
          "base_uri": "https://localhost:8080/"
        },
        "id": "hAYI3cguavGY",
        "outputId": "d12bd339-b2bb-418d-ae98-d352d7c69d76"
      },
      "execution_count": 11,
      "outputs": [
        {
          "output_type": "execute_result",
          "data": {
            "text/plain": [
              "0.05"
            ]
          },
          "metadata": {},
          "execution_count": 11
        }
      ]
    },
    {
      "cell_type": "code",
      "source": [
        "tanh_model1.state_dict()"
      ],
      "metadata": {
        "colab": {
          "base_uri": "https://localhost:8080/"
        },
        "id": "DB65hRwOaySQ",
        "outputId": "d810504e-8619-4a31-dd65-23c389ba72b4"
      },
      "execution_count": 16,
      "outputs": [
        {
          "output_type": "execute_result",
          "data": {
            "text/plain": [
              "OrderedDict([('linear1.weight',\n",
              "              tensor([[ 0.2365, -0.1118, -0.3801,  0.0275,  0.4168],\n",
              "                      [-0.1995, -0.1456,  0.3497, -0.0622, -0.1708],\n",
              "                      [-0.0901,  0.0164, -0.3643, -0.1278,  0.4336],\n",
              "                      [-0.0959,  0.4073, -0.1746, -0.1799, -0.1333]])),\n",
              "             ('linear1.bias', tensor([-0.3999, -0.2694,  0.2703, -0.3355])),\n",
              "             ('normalize1.weight', tensor([1., 1., 1., 1.])),\n",
              "             ('normalize1.bias', tensor([0., 0., 0., 0.])),\n",
              "             ('normalize1.running_mean', tensor([0., 0., 0., 0.])),\n",
              "             ('normalize1.running_var', tensor([1., 1., 1., 1.])),\n",
              "             ('normalize1.num_batches_tracked', tensor(0)),\n",
              "             ('linear2.weight', tensor([[ 0.1708,  0.4704, -0.0635,  0.2187],\n",
              "                      [ 0.2336, -0.3569, -0.1928, -0.1566],\n",
              "                      [ 0.4825, -0.4463,  0.3027,  0.4696],\n",
              "                      [ 0.3953,  0.2131,  0.2226, -0.0267]])),\n",
              "             ('linear2.bias', tensor([ 0.2516,  0.4558, -0.1608,  0.4831])),\n",
              "             ('normalize2.weight', tensor([1., 1., 1., 1.])),\n",
              "             ('normalize2.bias', tensor([0., 0., 0., 0.])),\n",
              "             ('normalize2.running_mean', tensor([0., 0., 0., 0.])),\n",
              "             ('normalize2.running_var', tensor([1., 1., 1., 1.])),\n",
              "             ('normalize2.num_batches_tracked', tensor(0)),\n",
              "             ('linear3.weight',\n",
              "              tensor([[ 0.0795, -0.3507, -0.3589,  0.1764]])),\n",
              "             ('linear3.bias', tensor([-0.0705]))])"
            ]
          },
          "metadata": {},
          "execution_count": 16
        }
      ]
    },
    {
      "cell_type": "code",
      "source": [
        "t1 = tanh_model1.state_dict()\n",
        "torch.save(t1,\"tanh1.pt\")"
      ],
      "metadata": {
        "id": "A-ZDOdkUdbN6"
      },
      "execution_count": 18,
      "outputs": []
    },
    {
      "cell_type": "code",
      "source": [
        "criterion = nn.MSELoss()\n",
        "for X,y in train_loader:\n",
        "  yhat = tanh_model1.forward(X)\n",
        "  loss = criterion(yhat,y)\n",
        "  optimizer.zero_grad()\n",
        "  loss.backward()\n",
        "  optimizer.step()"
      ],
      "metadata": {
        "id": "hi_Ri73Zdc1x"
      },
      "execution_count": 19,
      "outputs": []
    },
    {
      "cell_type": "code",
      "source": [
        "tanh_model1.state_dict()"
      ],
      "metadata": {
        "colab": {
          "base_uri": "https://localhost:8080/"
        },
        "id": "meiN7s6ueiXy",
        "outputId": "f8bdaee0-929f-45c4-d38e-41be3e8adcea"
      },
      "execution_count": 20,
      "outputs": [
        {
          "output_type": "execute_result",
          "data": {
            "text/plain": [
              "OrderedDict([('linear1.weight',\n",
              "              tensor([[ 0.1837, -0.2990, -0.3235,  0.0331,  0.4835],\n",
              "                      [-0.2971, -0.1304,  0.2700,  0.0287, -0.3070],\n",
              "                      [ 0.1294,  0.1729, -0.2994, -0.2714,  0.4283],\n",
              "                      [-0.1686,  0.4945, -0.1437, -0.1727, -0.0758]])),\n",
              "             ('linear1.bias', tensor([-0.3999, -0.2694,  0.2703, -0.3355])),\n",
              "             ('normalize1.weight', tensor([1.0653, 0.9840, 1.0446, 1.0984])),\n",
              "             ('normalize1.bias', tensor([ 0.2773, -0.0783, -0.2868,  0.0459])),\n",
              "             ('normalize1.running_mean',\n",
              "              tensor([-0.2842, -0.2179,  0.2145, -0.2602])),\n",
              "             ('normalize1.running_var',\n",
              "              tensor([0.5320, 0.4225, 0.5139, 0.4278])),\n",
              "             ('normalize1.num_batches_tracked', tensor(14)),\n",
              "             ('linear2.weight', tensor([[ 0.2558,  0.5226, -0.1346,  0.3224],\n",
              "                      [ 0.1675, -0.0388, -0.4682, -0.3733],\n",
              "                      [ 0.4295, -0.3640,  0.2876,  0.5929],\n",
              "                      [ 0.3966,  0.1340,  0.2331, -0.2661]])),\n",
              "             ('linear2.bias', tensor([ 0.2516,  0.4558, -0.1608,  0.4831])),\n",
              "             ('normalize2.weight', tensor([0.9332, 0.5389, 0.4492, 0.5618])),\n",
              "             ('normalize2.bias', tensor([-0.2817, -1.0855, -0.9489,  0.9486])),\n",
              "             ('normalize2.running_mean',\n",
              "              tensor([ 0.2056,  0.3976, -0.1045,  0.3742])),\n",
              "             ('normalize2.running_var',\n",
              "              tensor([0.2695, 0.3321, 0.7060, 0.3226])),\n",
              "             ('normalize2.num_batches_tracked', tensor(14)),\n",
              "             ('linear3.weight',\n",
              "              tensor([[-0.3553, -1.0624, -0.8517,  1.0427]])),\n",
              "             ('linear3.bias', tensor([4.9259]))])"
            ]
          },
          "metadata": {},
          "execution_count": 20
        }
      ]
    },
    {
      "cell_type": "code",
      "source": [
        "tanh_model1.load_state_dict(torch.load(\"tanh1.pt\"))"
      ],
      "metadata": {
        "colab": {
          "base_uri": "https://localhost:8080/"
        },
        "id": "apvffvPlelXa",
        "outputId": "cac251d6-e318-425d-e1af-ddf5175981f0"
      },
      "execution_count": 21,
      "outputs": [
        {
          "output_type": "execute_result",
          "data": {
            "text/plain": [
              "<All keys matched successfully>"
            ]
          },
          "metadata": {},
          "execution_count": 21
        }
      ]
    },
    {
      "cell_type": "code",
      "source": [
        "tanh_model1.state_dict()"
      ],
      "metadata": {
        "colab": {
          "base_uri": "https://localhost:8080/"
        },
        "id": "xF7IipyUe6YS",
        "outputId": "6eb831ac-df37-43fa-9aa8-e70e37cf1515"
      },
      "execution_count": 22,
      "outputs": [
        {
          "output_type": "execute_result",
          "data": {
            "text/plain": [
              "OrderedDict([('linear1.weight',\n",
              "              tensor([[ 0.2365, -0.1118, -0.3801,  0.0275,  0.4168],\n",
              "                      [-0.1995, -0.1456,  0.3497, -0.0622, -0.1708],\n",
              "                      [-0.0901,  0.0164, -0.3643, -0.1278,  0.4336],\n",
              "                      [-0.0959,  0.4073, -0.1746, -0.1799, -0.1333]])),\n",
              "             ('linear1.bias', tensor([-0.3999, -0.2694,  0.2703, -0.3355])),\n",
              "             ('normalize1.weight', tensor([1., 1., 1., 1.])),\n",
              "             ('normalize1.bias', tensor([0., 0., 0., 0.])),\n",
              "             ('normalize1.running_mean', tensor([0., 0., 0., 0.])),\n",
              "             ('normalize1.running_var', tensor([1., 1., 1., 1.])),\n",
              "             ('normalize1.num_batches_tracked', tensor(0)),\n",
              "             ('linear2.weight', tensor([[ 0.1708,  0.4704, -0.0635,  0.2187],\n",
              "                      [ 0.2336, -0.3569, -0.1928, -0.1566],\n",
              "                      [ 0.4825, -0.4463,  0.3027,  0.4696],\n",
              "                      [ 0.3953,  0.2131,  0.2226, -0.0267]])),\n",
              "             ('linear2.bias', tensor([ 0.2516,  0.4558, -0.1608,  0.4831])),\n",
              "             ('normalize2.weight', tensor([1., 1., 1., 1.])),\n",
              "             ('normalize2.bias', tensor([0., 0., 0., 0.])),\n",
              "             ('normalize2.running_mean', tensor([0., 0., 0., 0.])),\n",
              "             ('normalize2.running_var', tensor([1., 1., 1., 1.])),\n",
              "             ('normalize2.num_batches_tracked', tensor(0)),\n",
              "             ('linear3.weight',\n",
              "              tensor([[ 0.0795, -0.3507, -0.3589,  0.1764]])),\n",
              "             ('linear3.bias', tensor([-0.0705]))])"
            ]
          },
          "metadata": {},
          "execution_count": 22
        }
      ]
    },
    {
      "cell_type": "markdown",
      "source": [
        "#**二、LambdaLR基本使用方法**"
      ],
      "metadata": {
        "id": "SDYIWBtafita"
      }
    },
    {
      "cell_type": "code",
      "source": [
        "lr_lambda = lambda epoch: 0.5 ** epoch"
      ],
      "metadata": {
        "id": "gnk2d3UYfAtC"
      },
      "execution_count": 51,
      "outputs": []
    },
    {
      "cell_type": "code",
      "source": [
        "torch.manual_seed(24)\n",
        "\n",
        "tanh_model1 = net_class2(act_fun=torch.tanh,in_features=5,BN_model=\"pre\")"
      ],
      "metadata": {
        "id": "2yg-JH6EgBvR"
      },
      "execution_count": 52,
      "outputs": []
    },
    {
      "cell_type": "code",
      "source": [
        "optimizer = optim.SGD(tanh_model1.parameters(),lr=0.05)"
      ],
      "metadata": {
        "id": "6Xt0ti6cgcji"
      },
      "execution_count": 53,
      "outputs": []
    },
    {
      "cell_type": "code",
      "source": [
        "scheduler = lr_scheduler.LambdaLR(optimizer,lr_lambda)"
      ],
      "metadata": {
        "id": "q1u8OjbagniS"
      },
      "execution_count": 54,
      "outputs": []
    },
    {
      "cell_type": "code",
      "source": [
        "optimizer.state_dict()"
      ],
      "metadata": {
        "colab": {
          "base_uri": "https://localhost:8080/"
        },
        "id": "VhoXldlKhNcL",
        "outputId": "5666ffb4-0ba4-4a8c-e027-059f547d3713"
      },
      "execution_count": 55,
      "outputs": [
        {
          "output_type": "execute_result",
          "data": {
            "text/plain": [
              "{'state': {},\n",
              " 'param_groups': [{'lr': 0.05,\n",
              "   'momentum': 0,\n",
              "   'dampening': 0,\n",
              "   'weight_decay': 0,\n",
              "   'nesterov': False,\n",
              "   'maximize': False,\n",
              "   'foreach': None,\n",
              "   'differentiable': False,\n",
              "   'initial_lr': 0.05,\n",
              "   'params': [0, 1, 2, 3, 4, 5, 6, 7, 8, 9]}]}"
            ]
          },
          "metadata": {},
          "execution_count": 55
        }
      ]
    },
    {
      "cell_type": "code",
      "source": [
        "for X,y in train_loader:\n",
        "  yhat = tanh_model1.forward(X)\n",
        "  loss = criterion(yhat,y)\n",
        "  optimizer.zero_grad()\n",
        "  loss.backward()\n",
        "  optimizer.step()\n",
        "scheduler.step() # epoch数值会加1"
      ],
      "metadata": {
        "id": "NVytfBBrhROC"
      },
      "execution_count": 56,
      "outputs": []
    },
    {
      "cell_type": "code",
      "source": [
        "optimizer.state_dict()"
      ],
      "metadata": {
        "colab": {
          "base_uri": "https://localhost:8080/"
        },
        "id": "bARkpVtijsAz",
        "outputId": "c53fd4b5-e871-419e-a901-36df45c94ba6"
      },
      "execution_count": 57,
      "outputs": [
        {
          "output_type": "execute_result",
          "data": {
            "text/plain": [
              "{'state': {0: {'momentum_buffer': None},\n",
              "  1: {'momentum_buffer': None},\n",
              "  2: {'momentum_buffer': None},\n",
              "  3: {'momentum_buffer': None},\n",
              "  4: {'momentum_buffer': None},\n",
              "  5: {'momentum_buffer': None},\n",
              "  6: {'momentum_buffer': None},\n",
              "  7: {'momentum_buffer': None},\n",
              "  8: {'momentum_buffer': None},\n",
              "  9: {'momentum_buffer': None}},\n",
              " 'param_groups': [{'lr': 0.025,\n",
              "   'momentum': 0,\n",
              "   'dampening': 0,\n",
              "   'weight_decay': 0,\n",
              "   'nesterov': False,\n",
              "   'maximize': False,\n",
              "   'foreach': None,\n",
              "   'differentiable': False,\n",
              "   'initial_lr': 0.05,\n",
              "   'params': [0, 1, 2, 3, 4, 5, 6, 7, 8, 9]}]}"
            ]
          },
          "metadata": {},
          "execution_count": 57
        }
      ]
    },
    {
      "cell_type": "markdown",
      "source": [
        "&emsp;&emsp;至此，知道了scheduler.step()的真实作用——令匿名函数的自变量+1，然后令匿名函数的输出结果与initial_lr相乘，并把计算结果传给优化器，作为下一次优化器计算时的学习率。"
      ],
      "metadata": {
        "id": "8QHxe4jVkoKC"
      }
    },
    {
      "cell_type": "code",
      "source": [
        "scheduler.state_dict()"
      ],
      "metadata": {
        "colab": {
          "base_uri": "https://localhost:8080/"
        },
        "id": "bJgLaG3kju9r",
        "outputId": "13e47518-b649-4c86-c91d-2b30100605d4"
      },
      "execution_count": 69,
      "outputs": [
        {
          "output_type": "execute_result",
          "data": {
            "text/plain": [
              "{'base_lrs': [0.05],\n",
              " 'last_epoch': 3,\n",
              " 'verbose': False,\n",
              " '_step_count': 4,\n",
              " '_get_lr_called_within_step': False,\n",
              " '_last_lr': [0.00625],\n",
              " 'lr_lambdas': [None]}"
            ]
          },
          "metadata": {},
          "execution_count": 69
        }
      ]
    },
    {
      "cell_type": "markdown",
      "source": [
        "#**三、LambdaLR学习率调度实验**"
      ],
      "metadata": {
        "id": "iGnzhKgRnUgD"
      }
    },
    {
      "cell_type": "code",
      "source": [
        "def fit_rec_sc(\n",
        "    net,\n",
        "    criterion,\n",
        "    optimizer,\n",
        "    train_data,\n",
        "    test_data,\n",
        "    scheduler,\n",
        "    epochs=3,\n",
        "    cla=False,\n",
        "    eva=mse_cal,\n",
        "):\n",
        "  \"\"\"加入学习率调度后的模型训练函数（记录每一次遍历后模型评估指标）\n",
        "\n",
        "  :param net：待训练的模型 \n",
        "  :param criterion: 损失函数\n",
        "  :param optimizer：优化算法\n",
        "  :param train_data：训练数据\n",
        "  :param test_data: 测试数据 \n",
        "  :param scheduler: 学习率调度器\n",
        "  :param epochs: 遍历数据次数\n",
        "  :param cla: 是否是分类问题\n",
        "  :param eva: 模型评估方法\n",
        "  :return：模型评估结果\n",
        "  \"\"\"\n",
        "  train_l = []\n",
        "  test_l = []\n",
        "  for epoch  in range(epochs):\n",
        "      net.train()\n",
        "      for X, y in train_data:\n",
        "          if cla == True:\n",
        "              y = y.flatten().long()          # 如果是分类问题，需要对y进行整数转化\n",
        "          yhat = net.forward(X)\n",
        "          loss = criterion(yhat, y)\n",
        "          optimizer.zero_grad()\n",
        "          loss.backward()\n",
        "          optimizer.step()\n",
        "      scheduler.step()  \n",
        "      net.eval()\n",
        "      train_l.append(eva(train_data, net).detach())\n",
        "      test_l.append(eva(test_data, net).detach())\n",
        "  return train_l, test_l\n"
      ],
      "metadata": {
        "id": "2h7TWZX3k5qq"
      },
      "execution_count": 81,
      "outputs": []
    },
    {
      "cell_type": "code",
      "source": [
        "lr_lambda = lambda epoch: 0.95 ** epoch"
      ],
      "metadata": {
        "id": "8RqMniEpk_Ci"
      },
      "execution_count": 82,
      "outputs": []
    },
    {
      "cell_type": "code",
      "source": [
        "torch.manual_seed(24)\n",
        "\n",
        "tanh_model1 = net_class2(act_fun=torch.tanh,in_features=5,BN_model=\"pre\")"
      ],
      "metadata": {
        "id": "eDDvfePKoUDM"
      },
      "execution_count": 100,
      "outputs": []
    },
    {
      "cell_type": "code",
      "source": [
        "optimizer = optim.SGD(tanh_model1.parameters(),lr=0.05)\n",
        "scheduler = lr_scheduler.LambdaLR(optimizer,lr_lambda)"
      ],
      "metadata": {
        "id": "dSLBEirjonf7"
      },
      "execution_count": 101,
      "outputs": []
    },
    {
      "cell_type": "code",
      "source": [
        "train_l, test_l = fit_rec_sc(net = tanh_model1, \n",
        "                             criterion = nn.MSELoss(), \n",
        "                             optimizer = optimizer, \n",
        "                             train_data = train_loader,\n",
        "                             test_data = test_loader,\n",
        "                             scheduler = scheduler,\n",
        "                             epochs = 60, \n",
        "                             cla = False, \n",
        "                             eva = mse_cal)"
      ],
      "metadata": {
        "id": "Ybx1iFMbo1Kz"
      },
      "execution_count": 102,
      "outputs": []
    },
    {
      "cell_type": "code",
      "source": [
        "plt.plot(train_l, label='train_mse')\n",
        "plt.xlabel('epochs')\n",
        "plt.ylabel('MSE')\n",
        "plt.legend(loc = 1)"
      ],
      "metadata": {
        "colab": {
          "base_uri": "https://localhost:8080/",
          "height": 301
        },
        "id": "n3Imk_9Do-QS",
        "outputId": "419fab82-7a8a-436e-802f-4d0881cc5503"
      },
      "execution_count": 103,
      "outputs": [
        {
          "output_type": "execute_result",
          "data": {
            "text/plain": [
              "<matplotlib.legend.Legend at 0x7fbe2009e370>"
            ]
          },
          "metadata": {},
          "execution_count": 103
        },
        {
          "output_type": "display_data",
          "data": {
            "text/plain": [
              "<Figure size 432x288 with 1 Axes>"
            ],
            "image/png": "[encoded data removed]"
          },
          "metadata": {
            "needs_background": "light"
          }
        }
      ]
    },
    {
      "cell_type": "code",
      "source": [
        "optimizer.state_dict()"
      ],
      "metadata": {
        "colab": {
          "base_uri": "https://localhost:8080/"
        },
        "id": "hoExOR81pL07",
        "outputId": "3eb8784c-732d-470b-81b4-f16e9163e761"
      },
      "execution_count": 104,
      "outputs": [
        {
          "output_type": "execute_result",
          "data": {
            "text/plain": [
              "{'state': {0: {'momentum_buffer': None},\n",
              "  1: {'momentum_buffer': None},\n",
              "  2: {'momentum_buffer': None},\n",
              "  3: {'momentum_buffer': None},\n",
              "  4: {'momentum_buffer': None},\n",
              "  5: {'momentum_buffer': None},\n",
              "  6: {'momentum_buffer': None},\n",
              "  7: {'momentum_buffer': None},\n",
              "  8: {'momentum_buffer': None},\n",
              "  9: {'momentum_buffer': None}},\n",
              " 'param_groups': [{'lr': 0.002303489949347597,\n",
              "   'momentum': 0,\n",
              "   'dampening': 0,\n",
              "   'weight_decay': 0,\n",
              "   'nesterov': False,\n",
              "   'maximize': False,\n",
              "   'foreach': None,\n",
              "   'differentiable': False,\n",
              "   'initial_lr': 0.05,\n",
              "   'params': [0, 1, 2, 3, 4, 5, 6, 7, 8, 9]}]}"
            ]
          },
          "metadata": {},
          "execution_count": 104
        }
      ]
    },
    {
      "cell_type": "code",
      "source": [
        "lr_lambda(60)*0.05"
      ],
      "metadata": {
        "colab": {
          "base_uri": "https://localhost:8080/"
        },
        "id": "VocSxbvWpZJr",
        "outputId": "0a11be7f-61e3-4db1-956a-322851314d5a"
      },
      "execution_count": 105,
      "outputs": [
        {
          "output_type": "execute_result",
          "data": {
            "text/plain": [
              "0.002303489949347597"
            ]
          },
          "metadata": {},
          "execution_count": 105
        }
      ]
    },
    {
      "cell_type": "code",
      "source": [
        "torch.manual_seed(24)\n",
        "\n",
        "tanh_model1 = net_class2(act_fun=torch.tanh,in_features=5,BN_model=\"pre\")"
      ],
      "metadata": {
        "id": "2RxBEXwipgJq"
      },
      "execution_count": 106,
      "outputs": []
    },
    {
      "cell_type": "code",
      "source": [
        "train_l2, test_l2 = fit_rec(net = tanh_model1, \n",
        "                             criterion = nn.MSELoss(), \n",
        "                             optimizer = optim.SGD(tanh_model1.parameters(),lr=0.03), \n",
        "                             train_data = train_loader,\n",
        "                             test_data = test_loader,\n",
        "                             epochs = 60, \n",
        "                             cla = False, \n",
        "                             eva = mse_cal)"
      ],
      "metadata": {
        "id": "an8VP9Icp_8T"
      },
      "execution_count": 107,
      "outputs": []
    },
    {
      "cell_type": "code",
      "source": [
        "plt.plot(train_l, label='train_l')\n",
        "plt.plot(train_l2, label='train_l2')\n",
        "plt.xlabel('epochs')\n",
        "plt.ylabel('MSE')\n",
        "plt.legend(loc = 1)"
      ],
      "metadata": {
        "colab": {
          "base_uri": "https://localhost:8080/",
          "height": 297
        },
        "id": "Atoe9E8cqRYF",
        "outputId": "12101034-3f4c-4a3b-83ec-d9aa767aa195"
      },
      "execution_count": 108,
      "outputs": [
        {
          "output_type": "execute_result",
          "data": {
            "text/plain": [
              "<matplotlib.legend.Legend at 0x7fbe2000beb0>"
            ]
          },
          "metadata": {},
          "execution_count": 108
        },
        {
          "output_type": "display_data",
          "data": {
            "text/plain": [
              "<Figure size 432x288 with 1 Axes>"
            ],
            "image/png": "[encoded data removed]"
          },
          "metadata": {
            "needs_background": "light"
          }
        }
      ]
    },
    {
      "cell_type": "code",
      "source": [
        "torch.manual_seed(24)\n",
        "\n",
        "tanh_model1 = net_class2(act_fun=torch.tanh,in_features=5,BN_model=\"pre\")\n",
        "train_l3, test_l3 = fit_rec(net = tanh_model1, \n",
        "                             criterion = nn.MSELoss(), \n",
        "                             optimizer = optim.SGD(tanh_model1.parameters(),lr=0.01), \n",
        "                             train_data = train_loader,\n",
        "                             test_data = test_loader,\n",
        "                             epochs = 60, \n",
        "                             cla = False, \n",
        "                             eva = mse_cal)"
      ],
      "metadata": {
        "id": "hsy8bCXTqV-j"
      },
      "execution_count": 109,
      "outputs": []
    },
    {
      "cell_type": "code",
      "source": [
        "plt.plot(train_l, label='train_l')\n",
        "plt.plot(train_l2, label='train_l2_0.03')\n",
        "plt.plot(train_l3, label='train_l3_0.01')\n",
        "plt.xlabel('epochs')\n",
        "plt.ylabel('MSE')\n",
        "plt.legend(loc = 1)"
      ],
      "metadata": {
        "colab": {
          "base_uri": "https://localhost:8080/",
          "height": 297
        },
        "id": "4ndcUK_HqfYj",
        "outputId": "1fe66cb2-785c-4d0e-8c63-98abfaf30280"
      },
      "execution_count": 110,
      "outputs": [
        {
          "output_type": "execute_result",
          "data": {
            "text/plain": [
              "<matplotlib.legend.Legend at 0x7fbe1ffdd430>"
            ]
          },
          "metadata": {},
          "execution_count": 110
        },
        {
          "output_type": "display_data",
          "data": {
            "text/plain": [
              "<Figure size 432x288 with 1 Axes>"
            ],
            "image/png": "[encoded data removed]"
          },
          "metadata": {
            "needs_background": "light"
          }
        }
      ]
    },
    {
      "cell_type": "code",
      "source": [
        "torch.manual_seed(24)\n",
        "\n",
        "tanh_model1 = net_class2(act_fun=torch.tanh,in_features=5,BN_model=\"pre\")"
      ],
      "metadata": {
        "id": "H9PDCeqCqvwF"
      },
      "execution_count": 111,
      "outputs": []
    },
    {
      "cell_type": "code",
      "source": [
        "torch.manual_seed(24)\n",
        "\n",
        "tanh_model1 = net_class2(act_fun=torch.tanh,in_features=5,BN_model=\"pre\")\n",
        "train_l4, test_l4 = fit_rec(net = tanh_model1, \n",
        "                             criterion = nn.MSELoss(), \n",
        "                             optimizer = optim.SGD(tanh_model1.parameters(),lr=0.005), \n",
        "                             train_data = train_loader,\n",
        "                             test_data = test_loader,\n",
        "                             epochs = 60, \n",
        "                             cla = False, \n",
        "                             eva = mse_cal)"
      ],
      "metadata": {
        "id": "ckLIKs2-qkX0"
      },
      "execution_count": 112,
      "outputs": []
    },
    {
      "cell_type": "code",
      "source": [
        "plt.plot(train_l, label='train_l')\n",
        "plt.plot(train_l2, label='train_l2_0.03')\n",
        "plt.plot(train_l3, label='train_l3_0.01')\n",
        "plt.plot(train_l4, label='train_l4_0.005')\n",
        "plt.xlabel('epochs')\n",
        "plt.ylabel('MSE')\n",
        "plt.legend(loc = 1)"
      ],
      "metadata": {
        "colab": {
          "base_uri": "https://localhost:8080/",
          "height": 297
        },
        "id": "POWvtRmsq2zs",
        "outputId": "2bc6f7be-0978-45df-eaf2-8f068b218d11"
      },
      "execution_count": 113,
      "outputs": [
        {
          "output_type": "execute_result",
          "data": {
            "text/plain": [
              "<matplotlib.legend.Legend at 0x7fbe1febee50>"
            ]
          },
          "metadata": {},
          "execution_count": 113
        },
        {
          "output_type": "display_data",
          "data": {
            "text/plain": [
              "<Figure size 432x288 with 1 Axes>"
            ],
            "image/png": "[encoded data removed]"
          },
          "metadata": {
            "needs_background": "light"
          }
        }
      ]
    },
    {
      "cell_type": "code",
      "source": [
        "torch.manual_seed(24)  \n",
        "\n",
        "# 实例化模型  \n",
        "tanh_model1 = net_class2(act_fun=torch.tanh, in_features=5, BN_model='pre')"
      ],
      "metadata": {
        "id": "oJo4nZhJq7kk"
      },
      "execution_count": 132,
      "outputs": []
    },
    {
      "cell_type": "code",
      "source": [
        "# 创建用于保存记录结果的空列表容器\n",
        "train_mse = []\n",
        "test_mse = []\n",
        "\n",
        "# 创建可以捕捉手动输入数据的模型训练流程\n",
        "while input(\"Do you want to continue the iteration? [y/n]\") == \"y\":    # 询问是否继续迭代\n",
        "  epochs = int(input(\"Number of epochs:\"))                           # 下一轮迭代遍历几次数据\n",
        "  lr = float(input(\"Update learning rate：\"))                        # 设置下一轮迭代的学习率\n",
        "  train_l5, test_l5 = fit_rec(net = tanh_model1, \n",
        "                criterion = nn.MSELoss(), \n",
        "                optimizer = optim.SGD(tanh_model1.parameters(), lr = lr), \n",
        "                train_data = train_loader,\n",
        "                test_data = test_loader,\n",
        "                epochs = epochs, \n",
        "                cla = False, \n",
        "                eva = mse_cal)\n",
        "  train_mse.extend(train_l5)\n",
        "  test_mse.extend(test_l5)"
      ],
      "metadata": {
        "colab": {
          "base_uri": "https://localhost:8080/"
        },
        "id": "OzcZMMEVrFaD",
        "outputId": "b7a77a38-38cf-4b25-f4d4-55ef871c7710"
      },
      "execution_count": 133,
      "outputs": [
        {
          "name": "stdout",
          "output_type": "stream",
          "text": [
            "Do you want to continue the iteration? [y/n]y\n",
            "Number of epochs:30\n",
            "Update learning rate：0.03\n",
            "Do you want to continue the iteration? [y/n]y\n",
            "Number of epochs:30\n",
            "Update learning rate：0.01\n",
            "Do you want to continue the iteration? [y/n]n\n"
          ]
        }
      ]
    },
    {
      "cell_type": "code",
      "source": [
        "plt.plot(train_l, label='train_l')\n",
        "plt.plot(train_l5, label='train_l5_0.03_0.01')\n",
        "plt.xlabel('epochs')\n",
        "plt.ylabel('MSE')\n",
        "plt.legend(loc = 1)"
      ],
      "metadata": {
        "colab": {
          "base_uri": "https://localhost:8080/",
          "height": 301
        },
        "id": "8T_HZjnarI-8",
        "outputId": "eb4355ee-d524-4e30-d233-d2fc88070069"
      },
      "execution_count": 134,
      "outputs": [
        {
          "output_type": "execute_result",
          "data": {
            "text/plain": [
              "<matplotlib.legend.Legend at 0x7fbe1fce40d0>"
            ]
          },
          "metadata": {},
          "execution_count": 134
        },
        {
          "output_type": "display_data",
          "data": {
            "text/plain": [
              "<Figure size 432x288 with 1 Axes>"
            ],
            "image/png": "[encoded data removed]"
          },
          "metadata": {
            "needs_background": "light"
          }
        }
      ]
    }
  ]
}