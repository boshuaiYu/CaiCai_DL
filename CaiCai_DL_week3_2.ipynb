{
  "nbformat": 4,
  "nbformat_minor": 0,
  "metadata": {
    "colab": {
      "provenance": [],
      "authorship_tag": "ABX9TyOQhvsf71KxatJtogi1Km1Q",
      "include_colab_link": true
    },
    "kernelspec": {
      "name": "python3",
      "display_name": "Python 3"
    },
    "language_info": {
      "name": "python"
    }
  },
  "cells": [
    {
      "cell_type": "markdown",
      "metadata": {
        "id": "view-in-github",
        "colab_type": "text"
      },
      "source": [
        "<a href=\"https://colab.research.google.com/github/boshuaiYu/CaiCai_DL/blob/main/CaiCai_DL_week3_2.ipynb\" target=\"_parent\"><img src=\"https://colab.research.google.com/assets/colab-badge.svg\" alt=\"Open In Colab\"/></a>"
      ]
    },
    {
      "cell_type": "markdown",
      "source": [
        "# 神经网络的损失函数"
      ],
      "metadata": {
        "id": "F_s_UyiRaY6P"
      }
    },
    {
      "cell_type": "code",
      "execution_count": 2,
      "metadata": {
        "id": "QH1XxXrHzwF1"
      },
      "outputs": [],
      "source": [
        "import torch\n",
        "from torch.nn import MSELoss"
      ]
    },
    {
      "cell_type": "code",
      "source": [
        "torch.random.manual_seed(420)\n",
        "yhat = torch.randn((50,),dtype=torch.float32)\n",
        "y = torch.randn((50,),dtype=torch.float32)"
      ],
      "metadata": {
        "id": "L-8ONcNRYW8r"
      },
      "execution_count": 7,
      "outputs": []
    },
    {
      "cell_type": "code",
      "source": [
        "criterion = MSELoss()\n",
        "loss = criterion(yhat,y)\n",
        "loss"
      ],
      "metadata": {
        "colab": {
          "base_uri": "https://localhost:8080/"
        },
        "id": "KNNQuQVRYiuL",
        "outputId": "e2e36b88-896d-4c8b-8521-d41ae2435006"
      },
      "execution_count": 8,
      "outputs": [
        {
          "output_type": "execute_result",
          "data": {
            "text/plain": [
              "tensor(2.4869)"
            ]
          },
          "metadata": {},
          "execution_count": 8
        }
      ]
    },
    {
      "cell_type": "markdown",
      "source": [
        "<font color = \"red\">MSELoss()函数中只有一个reduction参数\n",
        "\n",
        "<font color = \"yellow\">reduction=mean，输出MSE</font>\n",
        "\n",
        "<font color = \"green\">reduction=sum，输出SSE</font>"
      ],
      "metadata": {
        "id": "0UyEmzXDZJrq"
      }
    },
    {
      "cell_type": "code",
      "source": [
        "criterion = MSELoss(reduction=\"mean\")\n",
        "loss = criterion(yhat,y)\n",
        "loss"
      ],
      "metadata": {
        "colab": {
          "base_uri": "https://localhost:8080/"
        },
        "id": "K7Ust6kAZIML",
        "outputId": "c375699a-61eb-42e0-fe77-bd003a4fd1ea"
      },
      "execution_count": 11,
      "outputs": [
        {
          "output_type": "execute_result",
          "data": {
            "text/plain": [
              "tensor(2.4869)"
            ]
          },
          "metadata": {},
          "execution_count": 11
        }
      ]
    },
    {
      "cell_type": "code",
      "source": [
        "criterion = MSELoss(reduction=\"sum\")\n",
        "loss = criterion(yhat,y)\n",
        "loss"
      ],
      "metadata": {
        "colab": {
          "base_uri": "https://localhost:8080/"
        },
        "id": "PK4Yd2ZlYxwT",
        "outputId": "b345533f-d821-443f-a5ef-1bc2ac2201d2"
      },
      "execution_count": 12,
      "outputs": [
        {
          "output_type": "execute_result",
          "data": {
            "text/plain": [
              "tensor(124.3458)"
            ]
          },
          "metadata": {},
          "execution_count": 12
        }
      ]
    },
    {
      "cell_type": "markdown",
      "source": [
        "**tensor实现二分类交叉熵函数**"
      ],
      "metadata": {
        "id": "8qHc2UNSggIy"
      }
    },
    {
      "cell_type": "code",
      "source": [
        "import torch\n",
        "import time"
      ],
      "metadata": {
        "id": "y4HJ5jlDaQm1"
      },
      "execution_count": 13,
      "outputs": []
    },
    {
      "cell_type": "code",
      "source": [
        "N = 3*pow(10,6)\n",
        "torch.random.manual_seed(420)\n",
        "X = torch.rand((N,4),dtype=torch.float32)\n",
        "w = torch.rand((4,1),dtype=torch.float32)\n",
        "y = torch.randint(low=0,high=2,size=(N,1),dtype=torch.float32)\n",
        "\n",
        "zhat = torch.mm(X,w)\n",
        "sigma = torch.sigmoid(zhat)"
      ],
      "metadata": {
        "id": "-WR3x9bIhY3c"
      },
      "execution_count": 26,
      "outputs": []
    },
    {
      "cell_type": "code",
      "source": [
        "Loss = -(y*torch.log(sigma)+(1-y)*torch.log(1-sigma))\n",
        "Loss.shape,Loss.max(axis=0)"
      ],
      "metadata": {
        "colab": {
          "base_uri": "https://localhost:8080/"
        },
        "id": "JJSj4zisi4p7",
        "outputId": "d66a575e-14e2-4578-9702-a03dae064612"
      },
      "execution_count": 27,
      "outputs": [
        {
          "output_type": "execute_result",
          "data": {
            "text/plain": [
              "(torch.Size([3000000, 1]), torch.return_types.max(\n",
              " values=tensor([2.4099]),\n",
              " indices=tensor([1657067])))"
            ]
          },
          "metadata": {},
          "execution_count": 27
        }
      ]
    },
    {
      "cell_type": "code",
      "source": [
        "start = time.time()\n",
        "Loss = -(1/N)*torch.sum(y*torch.log(sigma)+(1-y)*torch.log(1-sigma)) # 张量运行的速度特别快\n",
        "end = time.time()\n",
        "print(\"Loss is %.8f，time is %.8f s\" % (Loss,end-start))"
      ],
      "metadata": {
        "colab": {
          "base_uri": "https://localhost:8080/"
        },
        "id": "amVdyl2Ei9Wa",
        "outputId": "9615eb86-6a67-468d-d5f1-f241c15edad6"
      },
      "execution_count": 38,
      "outputs": [
        {
          "output_type": "stream",
          "name": "stdout",
          "text": [
            "Loss is 0.86853886，time is 0.03792000 s\n"
          ]
        }
      ]
    },
    {
      "cell_type": "code",
      "source": [
        "start = time.time()\n",
        "Loss = -(1/N)*sum(y*torch.log(sigma)+(1-y)*torch.log(1-sigma))\n",
        "end = time.time()\n",
        "print(\"Loss is %.8f，time is %.8f s\" % (Loss,end-start))"
      ],
      "metadata": {
        "colab": {
          "base_uri": "https://localhost:8080/"
        },
        "id": "TJqw9CyUisMT",
        "outputId": "25f67786-1251-40da-8271-d8e3cd2eade4"
      },
      "execution_count": 36,
      "outputs": [
        {
          "output_type": "stream",
          "name": "stdout",
          "text": [
            "Loss is 0.86916202，time is 39.66135931 s\n"
          ]
        }
      ]
    },
    {
      "cell_type": "markdown",
      "source": [
        "**Pytorch中的类实现二分类交叉熵函数**"
      ],
      "metadata": {
        "id": "g8mw9QXuknJz"
      }
    },
    {
      "cell_type": "markdown",
      "source": [
        "**<font color=\"yellow\">方法一： nn提供了两个类：BCEWithLogitsLoss以及BCELoss。虽然PyTorch官方没有直接明确，但实际上两个函数所需要输入的参数不同。</font>**\n",
        "\n",
        "**<font color=\"red\">BCEWithLogitsLoss内置了sigmoid函数与交叉熵函数，它会自动计算输入值的sigmoid值，因此需要输入zhat与真实标签，且顺序不能变化，zhat必须在前。</font>**\n",
        "\n",
        "**<font color=\"red\">BCELoss中只有交叉熵函数，没有sigmoid层，因此需要输入sigma与真实标签，且顺序不能变化。</font>**\n",
        "\n",
        "**<font color=\"yellow\">同时，这两个函数都要求真实值在后面且预测值与真实标签的数据类型以及结构必须相同</font>**"
      ],
      "metadata": {
        "id": "X-XlboQ7lRvl"
      }
    },
    {
      "cell_type": "code",
      "source": [
        "import torch.nn as nn\n",
        "criterion = nn.BCELoss()\n",
        "loss = criterion(sigma,y)\n",
        "loss"
      ],
      "metadata": {
        "colab": {
          "base_uri": "https://localhost:8080/"
        },
        "id": "UEL9tfSQkP-b",
        "outputId": "c207c3f6-8ca0-41bb-c001-8df0ad2ea7a8"
      },
      "execution_count": 39,
      "outputs": [
        {
          "output_type": "execute_result",
          "data": {
            "text/plain": [
              "tensor(0.8685)"
            ]
          },
          "metadata": {},
          "execution_count": 39
        }
      ]
    },
    {
      "cell_type": "code",
      "source": [
        "criterion = nn.BCEWithLogitsLoss()\n",
        "loss = criterion(zhat,y)\n",
        "loss"
      ],
      "metadata": {
        "colab": {
          "base_uri": "https://localhost:8080/"
        },
        "id": "8Hf9Q1IwnEtj",
        "outputId": "1f4cc37e-be15-4a51-c116-e148121230f6"
      },
      "execution_count": 40,
      "outputs": [
        {
          "output_type": "execute_result",
          "data": {
            "text/plain": [
              "tensor(0.8685)"
            ]
          },
          "metadata": {},
          "execution_count": 40
        }
      ]
    },
    {
      "cell_type": "markdown",
      "source": [
        "**<font color=\"yellow\">方法二： functional库中的计算函数</font>**\n"
      ],
      "metadata": {
        "id": "Aun19qT6oMuj"
      }
    },
    {
      "cell_type": "markdown",
      "source": [
        "**F.binary_cross_entropy_with_logits**\n",
        "\n",
        "**F.binary_cross_entropy**"
      ],
      "metadata": {
        "id": "-WLZFv6LoZ-I"
      }
    },
    {
      "cell_type": "markdown",
      "source": [
        "**多分类交叉熵损失函数**"
      ],
      "metadata": {
        "id": "OKu6QJXuoqZq"
      }
    },
    {
      "cell_type": "markdown",
      "source": [
        "**<font color = \"yellow\">方法一: 使用LogSoftmax()和NLLLoss()函数**"
      ],
      "metadata": {
        "id": "XEklVUtp9jo9"
      }
    },
    {
      "cell_type": "code",
      "source": [
        "import torch\n",
        "import torch.nn as nn"
      ],
      "metadata": {
        "id": "tVqseD9ooZru"
      },
      "execution_count": 41,
      "outputs": []
    },
    {
      "cell_type": "code",
      "source": [
        "N = 3*pow(10,6)\n",
        "torch.random.manual_seed(420)\n",
        "X = torch.rand((N,4),dtype=torch.float32)\n",
        "w = torch.rand((4,3),dtype=torch.float32)\n",
        "y = torch.randint(low=0,high=3,size=(N,1),dtype=torch.float32)\n",
        "\n",
        "zhat = torch.mm(X,w)"
      ],
      "metadata": {
        "id": "2LMw1udUnTuF"
      },
      "execution_count": 44,
      "outputs": []
    },
    {
      "cell_type": "code",
      "source": [
        "logsm = nn.LogSoftmax(dim=1)\n",
        "logsigma = logsm(zhat)\n",
        "logsigma"
      ],
      "metadata": {
        "colab": {
          "base_uri": "https://localhost:8080/"
        },
        "id": "sCnLwmUf8o27",
        "outputId": "e7efb135-02d3-4197-e221-1a46e0ea92a7"
      },
      "execution_count": 52,
      "outputs": [
        {
          "output_type": "execute_result",
          "data": {
            "text/plain": [
              "tensor([[-0.4011, -1.7739, -1.8281],\n",
              "        [-0.6282, -1.4567, -1.4548],\n",
              "        [-0.9008, -1.1484, -1.2853],\n",
              "        ...,\n",
              "        [-0.5346, -1.4548, -1.7111],\n",
              "        [-0.4832, -1.4721, -1.8725],\n",
              "        [-0.4189, -1.6581, -1.8855]])"
            ]
          },
          "metadata": {},
          "execution_count": 52
        }
      ]
    },
    {
      "cell_type": "code",
      "source": [
        "criterion = nn.NLLLoss()\n",
        "criterion(logsigma,y.flatten().long()) # 调用NLLLoss计算需要输入标签为1维并且为整型 "
      ],
      "metadata": {
        "colab": {
          "base_uri": "https://localhost:8080/"
        },
        "id": "KRmFz5kc83KC",
        "outputId": "ba64180d-db8c-4764-bba4-6f6f07b77654"
      },
      "execution_count": 48,
      "outputs": [
        {
          "output_type": "execute_result",
          "data": {
            "text/plain": [
              "tensor(1.2305)"
            ]
          },
          "metadata": {},
          "execution_count": 48
        }
      ]
    },
    {
      "cell_type": "markdown",
      "source": [
        "**<font color = \"yellow\">方法2： 直接调用CrossEntropyLoss函数**"
      ],
      "metadata": {
        "id": "IHPtuviP9m70"
      }
    },
    {
      "cell_type": "code",
      "source": [
        "criterion = nn.CrossEntropyLoss()\n",
        "criterion(zhat,y.flatten().long())"
      ],
      "metadata": {
        "colab": {
          "base_uri": "https://localhost:8080/"
        },
        "id": "3Tc4s9nA9H59",
        "outputId": "9b2b4f77-9cde-47eb-b02f-16fd8ec2b1bc"
      },
      "execution_count": 50,
      "outputs": [
        {
          "output_type": "execute_result",
          "data": {
            "text/plain": [
              "tensor(1.2305)"
            ]
          },
          "metadata": {},
          "execution_count": 50
        }
      ]
    }
  ]
}