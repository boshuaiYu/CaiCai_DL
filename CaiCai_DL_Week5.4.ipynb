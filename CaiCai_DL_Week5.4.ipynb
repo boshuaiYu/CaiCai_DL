{
  "nbformat": 4,
  "nbformat_minor": 0,
  "metadata": {
    "colab": {
      "provenance": [],
      "mount_file_id": "1eOTIW9q8slRGPE4_BtCLBQwRmdbCij0T",
      "authorship_tag": "ABX9TyPqBkwtSJ3boZNqeyF0WIpY",
      "include_colab_link": true
    },
    "kernelspec": {
      "name": "python3",
      "display_name": "Python 3"
    },
    "language_info": {
      "name": "python"
    }
  },
  "cells": [
    {
      "cell_type": "markdown",
      "metadata": {
        "id": "view-in-github",
        "colab_type": "text"
      },
      "source": [
        "<a href=\"https://colab.research.google.com/github/boshuaiYu/CaiCai_DL/blob/main/CaiCai_DL_Week5.4.ipynb\" target=\"_parent\"><img src=\"https://colab.research.google.com/assets/colab-badge.svg\" alt=\"Open In Colab\"/></a>"
      ]
    },
    {
      "cell_type": "code",
      "execution_count": 10,
      "metadata": {
        "id": "qy0Pt9QuUXf2"
      },
      "outputs": [],
      "source": [
        "import torch\n",
        "from torch import nn,optim\n",
        "import sys\n",
        "sys.path.append(\"/content/drive/MyDrive/Colab Notebooks/week4_function\")\n",
        "from torchLearning import *\n",
        "\n",
        "import matplotlib.pyplot as plt"
      ]
    },
    {
      "cell_type": "code",
      "source": [
        "# 设置随机数种子\n",
        "torch.manual_seed(420)  \n",
        "\n",
        "# 创建最高项为2的多项式回归数据集\n",
        "features, labels = tensorGenReg(w=[2, -1], bias=False, deg=2)\n",
        "\n",
        "# 进行数据集切分与加载\n",
        "train_loader, test_loader = split_loader(features, labels)"
      ],
      "metadata": {
        "id": "e0xQ3KPO8lmu"
      },
      "execution_count": 11,
      "outputs": []
    },
    {
      "cell_type": "code",
      "source": [
        "class Relu_class3(nn.Module):\n",
        "  def __init__(self,in_features=2,n_hidden1=4,n_hidden2=4,n_hidden3=4,out_features=1,bias=True):\n",
        "    super(Relu_class3,self).__init__()\n",
        "    self.linear1 = nn.Linear(in_features,n_hidden1)\n",
        "    self.linear2 = nn.Linear(n_hidden1,n_hidden2)\n",
        "    self.linear3 = nn.Linear(n_hidden2,n_hidden3)\n",
        "    self.linear4 = nn.Linear(n_hidden3,out_features)\n",
        "\n",
        "  def forward(self,x):\n",
        "    z1 = self.linear1(x)\n",
        "    p1 = torch.relu(z1)\n",
        "    z2 = self.linear2(p1)\n",
        "    p2 = torch.relu(z2)\n",
        "    z3 = self.linear3(p2)\n",
        "    p3 = torch.relu(z3)\n",
        "    out = self.linear4(p3)\n",
        "    return out"
      ],
      "metadata": {
        "id": "JxY9Yo3a5_7P"
      },
      "execution_count": 12,
      "outputs": []
    },
    {
      "cell_type": "code",
      "source": [
        "torch.manual_seed(24)\n",
        "\n",
        "num_epochs = 20\n",
        "lr = 0.03\n",
        "\n",
        "relu_model3 = Relu_class3()\n",
        "\n",
        "train_l, test_l = model_train_test(\n",
        "    relu_model3,\n",
        "    train_loader,\n",
        "    test_loader,\n",
        "    num_epochs=num_epochs,\n",
        "    criterion=nn.MSELoss(),\n",
        "    optimizer=optim.SGD,\n",
        "    lr=lr,\n",
        "    cla=False,\n",
        "    eva=mse_cal\n",
        "\n",
        ")\n",
        "plt.plot(list(range(num_epochs)),train_l,label=\"train_mse\")\n",
        "plt.plot(list(range(num_epochs)),test_l,label=\"test_mse\")\n",
        "plt.title(\"lr=0.03\")\n",
        "plt.legend(loc=1)"
      ],
      "metadata": {
        "colab": {
          "base_uri": "https://localhost:8080/",
          "height": 299
        },
        "id": "6L8iput469PY",
        "outputId": "81100257-eb48-4224-8ab1-acc3ea1ab36e"
      },
      "execution_count": 22,
      "outputs": [
        {
          "output_type": "execute_result",
          "data": {
            "text/plain": [
              "<matplotlib.legend.Legend at 0x7f9aed4c0580>"
            ]
          },
          "metadata": {},
          "execution_count": 22
        },
        {
          "output_type": "display_data",
          "data": {
            "text/plain": [
              "<Figure size 432x288 with 1 Axes>"
            ],
            "image/png": "[encoded data removed]"
          },
          "metadata": {
            "needs_background": "light"
          }
        }
      ]
    },
    {
      "cell_type": "code",
      "source": [
        "torch.manual_seed(24)\n",
        "\n",
        "num_epochs = 40\n",
        "lr = 0.001\n",
        "\n",
        "relu_model3 = Relu_class3()\n",
        "\n",
        "train_l, test_l = model_train_test(\n",
        "    relu_model3,\n",
        "    train_loader,\n",
        "    test_loader,\n",
        "    num_epochs=num_epochs,\n",
        "    criterion=nn.MSELoss(),\n",
        "    optimizer=optim.SGD,\n",
        "    lr=lr,\n",
        "    cla=False,\n",
        "    eva=mse_cal\n",
        "\n",
        ")\n",
        "plt.plot(list(range(num_epochs)),train_l,label=\"train_mse\")\n",
        "plt.plot(list(range(num_epochs)),test_l,label=\"test_mse\")\n",
        "plt.title(\"lr=0.001\")\n",
        "plt.legend(loc=1)"
      ],
      "metadata": {
        "colab": {
          "base_uri": "https://localhost:8080/",
          "height": 299
        },
        "id": "I-asgrBV78Z_",
        "outputId": "541d0a86-07af-41e1-83de-9cbf8177a957"
      },
      "execution_count": 21,
      "outputs": [
        {
          "output_type": "execute_result",
          "data": {
            "text/plain": [
              "<matplotlib.legend.Legend at 0x7f9aed5eae20>"
            ]
          },
          "metadata": {},
          "execution_count": 21
        },
        {
          "output_type": "display_data",
          "data": {
            "text/plain": [
              "<Figure size 432x288 with 1 Axes>"
            ],
            "image/png": "[encoded data removed]"
          },
          "metadata": {
            "needs_background": "light"
          }
        }
      ]
    },
    {
      "cell_type": "markdown",
      "source": [
        "降低学习率会防止神经元失活现象"
      ],
      "metadata": {
        "id": "ip-QpAycApXq"
      }
    },
    {
      "cell_type": "markdown",
      "source": [
        "##<font color =\"orange\">**nn.Sewuential快速建模方法及nn.init模型参数自定义方法**"
      ],
      "metadata": {
        "id": "COeMUYnY__Jz"
      }
    },
    {
      "cell_type": "markdown",
      "source": [
        "###**1. nn.Sequential快速建模方法介绍**"
      ],
      "metadata": {
        "id": "bzf8vvjzAZy8"
      }
    },
    {
      "cell_type": "code",
      "source": [
        "torch.manual_seed(25)\n",
        "\n",
        "relu_test = nn.Sequential(\n",
        "    nn.Linear(2,2,bias=False),\n",
        "    nn.ReLU(), # 必须调用nn模块中的函数进行处理\n",
        "    nn.Linear(2,1,bias=False)\n",
        ")   # 此时relu_test相当于已经实例化之后的模型\n",
        "\n",
        "# 不方便调用，且复杂结构Sequential可能会比较麻烦"
      ],
      "metadata": {
        "id": "cuZb3Lrc9cMA"
      },
      "execution_count": 23,
      "outputs": []
    },
    {
      "cell_type": "code",
      "source": [
        "list(relu_test.parameters())"
      ],
      "metadata": {
        "colab": {
          "base_uri": "https://localhost:8080/"
        },
        "id": "TXoIQUTmBUBu",
        "outputId": "9f0e86e1-4a04-4750-afb3-fa1931fb91fb"
      },
      "execution_count": 24,
      "outputs": [
        {
          "output_type": "execute_result",
          "data": {
            "text/plain": [
              "[Parameter containing:\n",
              " tensor([[ 0.3561, -0.4343],\n",
              "         [-0.6182,  0.5823]], requires_grad=True), Parameter containing:\n",
              " tensor([[-0.1658, -0.2843]], requires_grad=True)]"
            ]
          },
          "metadata": {},
          "execution_count": 24
        }
      ]
    },
    {
      "cell_type": "markdown",
      "source": [
        "###**2. 模型参数自定义方法**（适用于创建服从特殊、具备一定特性、能够辅助模型迭代收敛的初始参数）"
      ],
      "metadata": {
        "id": "mIJUjpePCOZ1"
      }
    },
    {
      "cell_type": "code",
      "source": [
        "relu_test.parameters() # parameters()返回的是一个生成器"
      ],
      "metadata": {
        "colab": {
          "base_uri": "https://localhost:8080/"
        },
        "id": "TTVk8ejEBjdY",
        "outputId": "26c76df6-51b7-4424-8a2e-2a5cefacf350"
      },
      "execution_count": 25,
      "outputs": [
        {
          "output_type": "execute_result",
          "data": {
            "text/plain": [
              "<generator object Module.parameters at 0x7f9ae9ef0820>"
            ]
          },
          "metadata": {},
          "execution_count": 25
        }
      ]
    },
    {
      "cell_type": "code",
      "source": [
        "list(relu_test.parameters())"
      ],
      "metadata": {
        "colab": {
          "base_uri": "https://localhost:8080/"
        },
        "id": "yTbv1smLCZdZ",
        "outputId": "d91e6534-dcdf-4d79-cfb2-098751793a6b"
      },
      "execution_count": 26,
      "outputs": [
        {
          "output_type": "execute_result",
          "data": {
            "text/plain": [
              "[Parameter containing:\n",
              " tensor([[ 0.3561, -0.4343],\n",
              "         [-0.6182,  0.5823]], requires_grad=True), Parameter containing:\n",
              " tensor([[-0.1658, -0.2843]], requires_grad=True)]"
            ]
          },
          "metadata": {},
          "execution_count": 26
        }
      ]
    },
    {
      "cell_type": "code",
      "source": [
        "list(relu_test.parameters())[0].data  # 可以对data直接修改，注意要转置"
      ],
      "metadata": {
        "colab": {
          "base_uri": "https://localhost:8080/"
        },
        "id": "KAZiwVkHCcRX",
        "outputId": "5f0d10fd-6dc0-4bfa-9a07-e08cc09317dc"
      },
      "execution_count": 29,
      "outputs": [
        {
          "output_type": "execute_result",
          "data": {
            "text/plain": [
              "tensor([[ 0.3561, -0.4343],\n",
              "        [-0.6182,  0.5823]])"
            ]
          },
          "metadata": {},
          "execution_count": 29
        }
      ]
    },
    {
      "cell_type": "code",
      "source": [
        "torch.manual_seed(25)\n",
        "\n",
        "relu_test = nn.Sequential(\n",
        "    nn.Linear(2,2,bias=False),\n",
        "    nn.ReLU(), \n",
        "    nn.Linear(2,1,bias=False)\n",
        ")   \n"
      ],
      "metadata": {
        "id": "NqUBqMTzCmg3"
      },
      "execution_count": 30,
      "outputs": []
    },
    {
      "cell_type": "code",
      "source": [
        "list(relu_test.parameters())"
      ],
      "metadata": {
        "colab": {
          "base_uri": "https://localhost:8080/"
        },
        "id": "FDZCxqurDE2h",
        "outputId": "9819d7ab-d10a-4a21-af7b-d8d21c4547e4"
      },
      "execution_count": 31,
      "outputs": [
        {
          "output_type": "execute_result",
          "data": {
            "text/plain": [
              "[Parameter containing:\n",
              " tensor([[ 0.3561, -0.4343],\n",
              "         [-0.6182,  0.5823]], requires_grad=True), Parameter containing:\n",
              " tensor([[-0.1658, -0.2843]], requires_grad=True)]"
            ]
          },
          "metadata": {},
          "execution_count": 31
        }
      ]
    },
    {
      "cell_type": "markdown",
      "source": [
        "####2.1 nn.init.uniform_方法，新生成的参数服从均匀分布"
      ],
      "metadata": {
        "id": "mcxEF0vwDRYT"
      }
    },
    {
      "cell_type": "code",
      "source": [
        "nn.init.uniform_(list(relu_test.parameters())[0],0,1)  # 输入的原参数必须是张量形式，设置参数为均匀分布0，1区间的随机数"
      ],
      "metadata": {
        "colab": {
          "base_uri": "https://localhost:8080/"
        },
        "id": "gINQlKwZDHdo",
        "outputId": "7442debf-893b-46af-c15d-63e9b02e6727"
      },
      "execution_count": 33,
      "outputs": [
        {
          "output_type": "execute_result",
          "data": {
            "text/plain": [
              "Parameter containing:\n",
              "tensor([[0.0481, 0.3497],\n",
              "        [0.3520, 0.9528]], requires_grad=True)"
            ]
          },
          "metadata": {},
          "execution_count": 33
        }
      ]
    },
    {
      "cell_type": "markdown",
      "source": [
        "带有下划线的函数都是能够直接修改对象本身的函数"
      ],
      "metadata": {
        "id": "Crl3QQKxD_Y6"
      }
    },
    {
      "cell_type": "markdown",
      "source": [
        "####2.2 nn.init.normal_方法，新生成的参数服从正态分布"
      ],
      "metadata": {
        "id": "G6h6g2ugEIND"
      }
    },
    {
      "cell_type": "code",
      "source": [
        "nn.init.normal_(list(relu_test.parameters())[0],0,1)"
      ],
      "metadata": {
        "colab": {
          "base_uri": "https://localhost:8080/"
        },
        "id": "CtFBt7qODxFT",
        "outputId": "a3e42648-ae8d-481d-97ef-a92cd6fe1475"
      },
      "execution_count": 34,
      "outputs": [
        {
          "output_type": "execute_result",
          "data": {
            "text/plain": [
              "Parameter containing:\n",
              "tensor([[ 0.0827,  0.5799],\n",
              "        [ 0.0578, -0.2979]], requires_grad=True)"
            ]
          },
          "metadata": {},
          "execution_count": 34
        }
      ]
    },
    {
      "cell_type": "markdown",
      "source": [
        "####2.3 nn.init.constant_方法，新生成的参数为常值"
      ],
      "metadata": {
        "id": "OFnXg9t4ERAv"
      }
    },
    {
      "cell_type": "code",
      "source": [
        "nn.init.constant_(list(relu_test.parameters())[0],1)"
      ],
      "metadata": {
        "colab": {
          "base_uri": "https://localhost:8080/"
        },
        "id": "-lDY0r6zENsg",
        "outputId": "228bd32a-7869-438e-eaaa-cd1fb0f8f5f0"
      },
      "execution_count": 35,
      "outputs": [
        {
          "output_type": "execute_result",
          "data": {
            "text/plain": [
              "Parameter containing:\n",
              "tensor([[1., 1.],\n",
              "        [1., 1.]], requires_grad=True)"
            ]
          },
          "metadata": {},
          "execution_count": 35
        }
      ]
    }
  ]
}