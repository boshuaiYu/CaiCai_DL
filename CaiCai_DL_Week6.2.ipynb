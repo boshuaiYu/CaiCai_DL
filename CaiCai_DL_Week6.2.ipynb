{
  "nbformat": 4,
  "nbformat_minor": 0,
  "metadata": {
    "colab": {
      "provenance": [],
      "mount_file_id": "1JUmMtdRkUuQXMJnm6nAD-r6lhhDDsW5y",
      "authorship_tag": "ABX9TyOCycr82UTge1dmvEo0JALM",
      "include_colab_link": true
    },
    "kernelspec": {
      "name": "python3",
      "display_name": "Python 3"
    },
    "language_info": {
      "name": "python"
    }
  },
  "cells": [
    {
      "cell_type": "markdown",
      "metadata": {
        "id": "view-in-github",
        "colab_type": "text"
      },
      "source": [
        "<a href=\"https://colab.research.google.com/github/boshuaiYu/CaiCai_DL/blob/main/CaiCai_DL_Week6.2.ipynb\" target=\"_parent\"><img src=\"https://colab.research.google.com/assets/colab-badge.svg\" alt=\"Open In Colab\"/></a>"
      ]
    },
    {
      "cell_type": "code",
      "execution_count": 2,
      "metadata": {
        "id": "XDmYOxSn6oqe"
      },
      "outputs": [],
      "source": [
        "import torch\n",
        "from torch import nn,optim\n",
        "import matplotlib.pyplot as plt\n",
        "import sys\n",
        "sys.path.append(\"/content/drive/MyDrive/Colab Notebooks/week4_function\")\n",
        "from torchLearning import *"
      ]
    },
    {
      "cell_type": "markdown",
      "source": [
        "$$y = \\frac{x - \\mathrm{E}[x]}{\\sqrt{\\mathrm{Var}[x] + \\epsilon}} * \\gamma + \\beta$$"
      ],
      "metadata": {
        "id": "_a5g6YoP7pTG"
      }
    },
    {
      "cell_type": "code",
      "source": [
        "nn.BatchNorm1d?"
      ],
      "metadata": {
        "id": "Q38gghAO7WrD"
      },
      "execution_count": 4,
      "outputs": []
    },
    {
      "cell_type": "markdown",
      "source": [
        "- num_features：输入数据的特征数量（假设为n），也就是前一层神经元数量或原始数据集特征数量，根据此前的论述，BN层最终构建的是一个n*n的对角矩阵，对角线元素包含$\\gamma$，并且截距项为$\\beta$；\n",
        "- eps：方差分母修正项，为了防止分母为0，一般取值为1e-5，也就是类默认值；\n",
        "- affine：是否进行仿射变换，需要注意的是，此时进行仿射变换时将使用无偏估计进行期望和方差的计算，并且初始条件下$\\gamma=1，\\beta=0$，当参数取值为True时，会显式设置$\\gamma和\\beta$参数并带入进行梯度下降迭代计算，取值为False时，参数不显示，实际的数据归一化过程就是对原数据进行无偏估计下的Z-Score变换。\n",
        "- momentum:关于momentum的设置，一般来说，为了尽可能获取到更加准确的训练集整体统计量，当每一个小批数据数据量比较小时，我们应该将历史数据比重调高，也就是降低momentum取值，以减少局部规律对获取总体规律的影响，当然，此时我们也需要增加遍历数据的次数epochs；而反之则可以考虑增大momentum取值。\n",
        "- track_running_stats:对于BN来说，最后一个参数就是track_running_stats，默认取值为True。当此参数为True时，BN层会在每次迭代过程中会结合历史记录更新running_mean/var，当track_running_stats=False时，BN层将running_mean/var为None，并且在进行预测时会根据输入的小批数据进行均值和方差计算。在大多数情况下，并不推荐修改该参数的默认取值。"
      ],
      "metadata": {
        "id": "pe8DYHE578oN"
      }
    },
    {
      "cell_type": "code",
      "source": [
        "f = torch.arange(9).reshape(3,3).float()\n",
        "f"
      ],
      "metadata": {
        "colab": {
          "base_uri": "https://localhost:8080/"
        },
        "id": "j4pIOJDd7fiR",
        "outputId": "56d2e4f3-0481-4f0d-9eda-a9948f224f17"
      },
      "execution_count": 19,
      "outputs": [
        {
          "output_type": "execute_result",
          "data": {
            "text/plain": [
              "tensor([[0., 1., 2.],\n",
              "        [3., 4., 5.],\n",
              "        [6., 7., 8.]])"
            ]
          },
          "metadata": {},
          "execution_count": 19
        }
      ]
    },
    {
      "cell_type": "code",
      "source": [
        "bn1 = nn.BatchNorm1d(3)"
      ],
      "metadata": {
        "id": "sPqGtvKx8kQy"
      },
      "execution_count": 6,
      "outputs": []
    },
    {
      "cell_type": "code",
      "source": [
        "bn1(f) # 样本方差"
      ],
      "metadata": {
        "colab": {
          "base_uri": "https://localhost:8080/"
        },
        "id": "y88xDuBR8ouB",
        "outputId": "503d6e2f-0ecd-43cd-d0b6-76325005db13"
      },
      "execution_count": 7,
      "outputs": [
        {
          "output_type": "execute_result",
          "data": {
            "text/plain": [
              "tensor([[-1.2247, -1.2247, -1.2247],\n",
              "        [ 0.0000,  0.0000,  0.0000],\n",
              "        [ 1.2247,  1.2247,  1.2247]], grad_fn=<NativeBatchNormBackward0>)"
            ]
          },
          "metadata": {},
          "execution_count": 7
        }
      ]
    },
    {
      "cell_type": "code",
      "source": [
        "# Z-Score计算(无偏估计算的)\n",
        "\n",
        "(f-torch.mean(f,0))/ torch.sqrt(torch.var(f,0))"
      ],
      "metadata": {
        "colab": {
          "base_uri": "https://localhost:8080/"
        },
        "id": "0f5b2L9c8qcy",
        "outputId": "e2b5cacc-2c4b-4e16-cd77-6bdae0acb8b6"
      },
      "execution_count": 8,
      "outputs": [
        {
          "output_type": "execute_result",
          "data": {
            "text/plain": [
              "tensor([[-1., -1., -1.],\n",
              "        [ 0.,  0.,  0.],\n",
              "        [ 1.,  1.,  1.]])"
            ]
          },
          "metadata": {},
          "execution_count": 8
        }
      ]
    },
    {
      "cell_type": "markdown",
      "source": [
        "> pytorch中默认的方差计算是样本无偏估计，而BN再进行归一化计算时实际上采用的是样本方差，二者区别如下，样本方差为：<font color=\"orange\">$$Var(x) = \\frac{\\sum^n_{i=1}(x_i-\\bar x)^2}{n}$$</font>但对样本整体方差的无偏估计为：$$Var_{unbiased}(x) = \\frac{\\sum^n_{i=1}(x_i-\\bar x)^2}{n-1}$$"
      ],
      "metadata": {
        "id": "kjnuSIEJ-RU2"
      }
    },
    {
      "cell_type": "code",
      "source": [
        "# 非无偏估计计算结果\n",
        "(f-torch.mean(f,0))/torch.sqrt(torch.var(f,0,unbiased=False))"
      ],
      "metadata": {
        "colab": {
          "base_uri": "https://localhost:8080/"
        },
        "id": "FXJFqXNS9i7r",
        "outputId": "42453f44-c19b-4448-ee1e-d6d569386b73"
      },
      "execution_count": 31,
      "outputs": [
        {
          "output_type": "execute_result",
          "data": {
            "text/plain": [
              "tensor([[-1.2247, -1.2247, -1.2247],\n",
              "        [ 0.0000,  0.0000,  0.0000],\n",
              "        [ 1.2247,  1.2247,  1.2247]])"
            ]
          },
          "metadata": {},
          "execution_count": 31
        }
      ]
    },
    {
      "cell_type": "code",
      "source": [
        "list(bn1.parameters())"
      ],
      "metadata": {
        "colab": {
          "base_uri": "https://localhost:8080/"
        },
        "id": "Jib-WdqZ9uGD",
        "outputId": "9c97988f-ce61-41fa-8875-3f50122af8e5"
      },
      "execution_count": 14,
      "outputs": [
        {
          "output_type": "execute_result",
          "data": {
            "text/plain": [
              "[Parameter containing:\n",
              " tensor([1., 1., 1.], requires_grad=True), Parameter containing:\n",
              " tensor([0., 0., 0.], requires_grad=True)]"
            ]
          },
          "metadata": {},
          "execution_count": 14
        }
      ]
    },
    {
      "cell_type": "code",
      "source": [
        "bn2 = nn.BatchNorm1d(3,affine=False) # 不可微\n",
        "bn2(f)"
      ],
      "metadata": {
        "colab": {
          "base_uri": "https://localhost:8080/"
        },
        "id": "NhUVLPrDGRWr",
        "outputId": "673fee72-ed34-4262-86a7-cbe97be6d281"
      },
      "execution_count": 20,
      "outputs": [
        {
          "output_type": "execute_result",
          "data": {
            "text/plain": [
              "tensor([[-1.2247, -1.2247, -1.2247],\n",
              "        [ 0.0000,  0.0000,  0.0000],\n",
              "        [ 1.2247,  1.2247,  1.2247]])"
            ]
          },
          "metadata": {},
          "execution_count": 20
        }
      ]
    },
    {
      "cell_type": "markdown",
      "source": [
        "&emsp;&emsp;为了能够获取训练数据整体均值和方差，BN采用了迭代累计计算的方法，通过类似动量法的方法对每一个小批数据的均值和方差进行累计统计，最终计算训练数据整体均值和方差"
      ],
      "metadata": {
        "id": "6PwXZwDnH2X4"
      }
    },
    {
      "cell_type": "code",
      "source": [
        "f = torch.arange(9).reshape(3,3).float()\n",
        "f"
      ],
      "metadata": {
        "colab": {
          "base_uri": "https://localhost:8080/"
        },
        "id": "U4-7BYzTGgLQ",
        "outputId": "7fc764f7-796e-4fd8-bdfb-29e002dd5737"
      },
      "execution_count": 21,
      "outputs": [
        {
          "output_type": "execute_result",
          "data": {
            "text/plain": [
              "tensor([[0., 1., 2.],\n",
              "        [3., 4., 5.],\n",
              "        [6., 7., 8.]])"
            ]
          },
          "metadata": {},
          "execution_count": 21
        }
      ]
    },
    {
      "cell_type": "code",
      "source": [
        "bn1 = nn.BatchNorm1d(3)"
      ],
      "metadata": {
        "id": "_xslRKBTHygB"
      },
      "execution_count": 25,
      "outputs": []
    },
    {
      "cell_type": "code",
      "source": [
        "bn1.running_mean,bn1.running_var"
      ],
      "metadata": {
        "colab": {
          "base_uri": "https://localhost:8080/"
        },
        "id": "F9iPDZwnIW4C",
        "outputId": "c7d6e4c9-e4f8-49ca-b6e2-6202c8a1f4ce"
      },
      "execution_count": 26,
      "outputs": [
        {
          "output_type": "execute_result",
          "data": {
            "text/plain": [
              "(tensor([0., 0., 0.]), tensor([1., 1., 1.]))"
            ]
          },
          "metadata": {},
          "execution_count": 26
        }
      ]
    },
    {
      "cell_type": "code",
      "source": [
        "bn1(f)"
      ],
      "metadata": {
        "colab": {
          "base_uri": "https://localhost:8080/"
        },
        "id": "hHLLehHzIUOY",
        "outputId": "6cdab6be-c8ab-435f-9f70-e633feb8894f"
      },
      "execution_count": 27,
      "outputs": [
        {
          "output_type": "execute_result",
          "data": {
            "text/plain": [
              "tensor([[-1.2247, -1.2247, -1.2247],\n",
              "        [ 0.0000,  0.0000,  0.0000],\n",
              "        [ 1.2247,  1.2247,  1.2247]], grad_fn=<NativeBatchNormBackward0>)"
            ]
          },
          "metadata": {},
          "execution_count": 27
        }
      ]
    },
    {
      "cell_type": "markdown",
      "source": [
        "<font color=\"orange\">$$running\\_mean = (1-momentum) * running\\_mean + momentum * sample\\_mean$$"
      ],
      "metadata": {
        "id": "26tiasnCJHax"
      }
    },
    {
      "cell_type": "code",
      "source": [
        "bn1.running_mean"
      ],
      "metadata": {
        "colab": {
          "base_uri": "https://localhost:8080/"
        },
        "id": "jBOXCRn0H7eo",
        "outputId": "4ffdc354-46e2-45c0-cf24-e0da6598904f"
      },
      "execution_count": 28,
      "outputs": [
        {
          "output_type": "execute_result",
          "data": {
            "text/plain": [
              "tensor([0.3000, 0.4000, 0.5000])"
            ]
          },
          "metadata": {},
          "execution_count": 28
        }
      ]
    },
    {
      "cell_type": "markdown",
      "source": [
        "<font color=\"orange\">$$running\\_var = (1-momentum) * running\\_var + momentum * sample\\_var$$"
      ],
      "metadata": {
        "id": "na4NOZ2NJLPs"
      }
    },
    {
      "cell_type": "code",
      "source": [
        "bn1.running_var"
      ],
      "metadata": {
        "colab": {
          "base_uri": "https://localhost:8080/"
        },
        "id": "IQLLcv_yIFRZ",
        "outputId": "fb395e6b-62d6-4e2b-9158-69be526d388b"
      },
      "execution_count": 29,
      "outputs": [
        {
          "output_type": "execute_result",
          "data": {
            "text/plain": [
              "tensor([1.8000, 1.8000, 1.8000])"
            ]
          },
          "metadata": {},
          "execution_count": 29
        }
      ]
    },
    {
      "cell_type": "code",
      "source": [
        "bn3 = nn.BatchNorm1d(3)"
      ],
      "metadata": {
        "id": "N3AYIWb4IITp"
      },
      "execution_count": 47,
      "outputs": []
    },
    {
      "cell_type": "code",
      "source": [
        "mean_l = []\n",
        "val_l = []\n",
        "\n",
        "for i in range(50):\n",
        "  temp = bn3(f)\n",
        "  mean_l.append(bn3.running_mean.clone().tolist())\n",
        "  val_l.append(bn3.running_var.clone().tolist())"
      ],
      "metadata": {
        "id": "yHaK2YRtKo3B"
      },
      "execution_count": 48,
      "outputs": []
    },
    {
      "cell_type": "code",
      "source": [
        "bn3.running_mean"
      ],
      "metadata": {
        "colab": {
          "base_uri": "https://localhost:8080/"
        },
        "id": "txAsCkubLa0q",
        "outputId": "2bfb5793-d051-44ac-84dd-f764b19d620b"
      },
      "execution_count": 49,
      "outputs": [
        {
          "output_type": "execute_result",
          "data": {
            "text/plain": [
              "tensor([2.9845, 3.9794, 4.9742])"
            ]
          },
          "metadata": {},
          "execution_count": 49
        }
      ]
    },
    {
      "cell_type": "code",
      "source": [
        "torch.mean(f,0)"
      ],
      "metadata": {
        "colab": {
          "base_uri": "https://localhost:8080/"
        },
        "id": "xHljtx15LGSx",
        "outputId": "9f5a9cfb-1f74-407e-c6ca-f2c58d2f7936"
      },
      "execution_count": 39,
      "outputs": [
        {
          "output_type": "execute_result",
          "data": {
            "text/plain": [
              "tensor([3., 4., 5.])"
            ]
          },
          "metadata": {},
          "execution_count": 39
        }
      ]
    },
    {
      "cell_type": "code",
      "source": [
        "bn3.running_var"
      ],
      "metadata": {
        "colab": {
          "base_uri": "https://localhost:8080/"
        },
        "id": "1GM0kLGBLRl4",
        "outputId": "efce99c9-fcca-48df-bdb8-50c1b88e1c8d"
      },
      "execution_count": 50,
      "outputs": [
        {
          "output_type": "execute_result",
          "data": {
            "text/plain": [
              "tensor([8.9588, 8.9588, 8.9588])"
            ]
          },
          "metadata": {},
          "execution_count": 50
        }
      ]
    },
    {
      "cell_type": "code",
      "source": [
        "torch.var(f,0)"
      ],
      "metadata": {
        "colab": {
          "base_uri": "https://localhost:8080/"
        },
        "id": "pKRJcEx1LkGg",
        "outputId": "06d14364-d6f1-4019-d284-bb6fd3980b55"
      },
      "execution_count": 51,
      "outputs": [
        {
          "output_type": "execute_result",
          "data": {
            "text/plain": [
              "tensor([9., 9., 9.])"
            ]
          },
          "metadata": {},
          "execution_count": 51
        }
      ]
    },
    {
      "cell_type": "code",
      "source": [
        "mean_t = torch.tensor(mean_l)\n",
        "plt.plot(range(50),mean_t[:,1],torch.full_like(mean_t[:,1],torch.mean(f,0)[1]));"
      ],
      "metadata": {
        "colab": {
          "base_uri": "https://localhost:8080/",
          "height": 265
        },
        "id": "t07TjbfOLsz3",
        "outputId": "c29a9e1a-4aaa-404b-d222-92b0fc66fbad"
      },
      "execution_count": 53,
      "outputs": [
        {
          "output_type": "display_data",
          "data": {
            "text/plain": [
              "<Figure size 432x288 with 1 Axes>"
            ],
            "image/png": "[encoded data removed]"
          },
          "metadata": {
            "needs_background": "light"
          }
        }
      ]
    },
    {
      "cell_type": "code",
      "source": [
        "torch.manual_seed(420)\n",
        "\n",
        "features,labels = tensorGenCla()\n",
        "plt.scatter(features[:,0],features[:,1],c=labels);"
      ],
      "metadata": {
        "colab": {
          "base_uri": "https://localhost:8080/",
          "height": 267
        },
        "id": "kBPjSH9ZMDsR",
        "outputId": "120421ab-8f3d-4393-b863-461285d447ca"
      },
      "execution_count": 55,
      "outputs": [
        {
          "output_type": "display_data",
          "data": {
            "text/plain": [
              "<Figure size 432x288 with 1 Axes>"
            ],
            "image/png": "[encoded data removed]"
          },
          "metadata": {
            "needs_background": "light"
          }
        }
      ]
    },
    {
      "cell_type": "code",
      "source": [
        "train_loader, test_loader = split_loader(features,labels)"
      ],
      "metadata": {
        "id": "dXCgBFkfMiZQ"
      },
      "execution_count": 56,
      "outputs": []
    },
    {
      "cell_type": "code",
      "source": [
        "train_loader.dataset[:] # 训练集，其中有特征有标签(1500条)"
      ],
      "metadata": {
        "colab": {
          "base_uri": "https://localhost:8080/"
        },
        "id": "nMzxaJLvM_Jt",
        "outputId": "2d1060c0-4ab8-4b77-a5ed-e6220f636968"
      },
      "execution_count": 59,
      "outputs": [
        {
          "output_type": "execute_result",
          "data": {
            "text/plain": [
              "(tensor([[-0.9717, -0.9087],\n",
              "         [-6.2780, -5.3359],\n",
              "         [ 2.3067, -2.8697],\n",
              "         ...,\n",
              "         [ 3.5654,  6.1413],\n",
              "         [-3.7873, -1.9385],\n",
              "         [-2.4863,  0.3824]]), tensor([[1],\n",
              "         [0],\n",
              "         [1],\n",
              "         ...,\n",
              "         [2],\n",
              "         [0],\n",
              "         [1]]))"
            ]
          },
          "metadata": {},
          "execution_count": 59
        }
      ]
    },
    {
      "cell_type": "code",
      "source": [
        "features_train = train_loader.dataset[:][0]\n",
        "features_train"
      ],
      "metadata": {
        "colab": {
          "base_uri": "https://localhost:8080/"
        },
        "id": "fGO8Z0uwMtrx",
        "outputId": "4eb5faa2-348e-40e7-dcb5-836ee66411fd"
      },
      "execution_count": 57,
      "outputs": [
        {
          "output_type": "execute_result",
          "data": {
            "text/plain": [
              "tensor([[-0.9717, -0.9087],\n",
              "        [-6.2780, -5.3359],\n",
              "        [ 2.3067, -2.8697],\n",
              "        ...,\n",
              "        [ 3.5654,  6.1413],\n",
              "        [-3.7873, -1.9385],\n",
              "        [-2.4863,  0.3824]])"
            ]
          },
          "metadata": {},
          "execution_count": 57
        }
      ]
    },
    {
      "cell_type": "code",
      "source": [
        "torch.mean(features_train,0),torch.var(features_train,0)"
      ],
      "metadata": {
        "colab": {
          "base_uri": "https://localhost:8080/"
        },
        "id": "0voGJvs5M0-w",
        "outputId": "9185b221-b4f9-4ac4-91c6-5377637fe96b"
      },
      "execution_count": 60,
      "outputs": [
        {
          "output_type": "execute_result",
          "data": {
            "text/plain": [
              "(tensor([0.0890, 0.0311]), tensor([14.7865, 14.2480]))"
            ]
          },
          "metadata": {},
          "execution_count": 60
        }
      ]
    },
    {
      "cell_type": "code",
      "source": [
        "bn4 = nn.BatchNorm1d(2)"
      ],
      "metadata": {
        "id": "pu7nqS-kNX84"
      },
      "execution_count": 85,
      "outputs": []
    },
    {
      "cell_type": "code",
      "source": [
        "bn4.running_mean, bn4.running_var"
      ],
      "metadata": {
        "colab": {
          "base_uri": "https://localhost:8080/"
        },
        "id": "iwzF8Uq2NdlJ",
        "outputId": "9e48957f-4344-4c74-adcc-5aaf914ef3cd"
      },
      "execution_count": 86,
      "outputs": [
        {
          "output_type": "execute_result",
          "data": {
            "text/plain": [
              "(tensor([0., 0.]), tensor([1., 1.]))"
            ]
          },
          "metadata": {},
          "execution_count": 86
        }
      ]
    },
    {
      "cell_type": "code",
      "source": [
        "for X,y in train_loader:\n",
        "  temp = bn4(X)"
      ],
      "metadata": {
        "id": "EftySdx_NjV4"
      },
      "execution_count": 77,
      "outputs": []
    },
    {
      "cell_type": "code",
      "source": [
        "bn4.running_mean, bn4.running_var"
      ],
      "metadata": {
        "colab": {
          "base_uri": "https://localhost:8080/"
        },
        "id": "kSeCE46ANyB3",
        "outputId": "fda6e091-62e7-4a6c-b140-4241a5bc03f4"
      },
      "execution_count": 78,
      "outputs": [
        {
          "output_type": "execute_result",
          "data": {
            "text/plain": [
              "(tensor([0.5245, 0.3264]), tensor([14.5724, 12.6958]))"
            ]
          },
          "metadata": {},
          "execution_count": 78
        }
      ]
    },
    {
      "cell_type": "markdown",
      "source": [
        "原始数据的均值和方差为<font color=\"orange\">tensor([0.0890, 0.0311]), tensor([14.7865, 14.2480]))"
      ],
      "metadata": {
        "id": "pgbfv6wrN_RL"
      }
    },
    {
      "cell_type": "code",
      "source": [
        "torch.manual_seed(420)\n",
        "for epochs in range(5):\n",
        "  for X,y in train_loader:\n",
        "    temp = bn4(X)"
      ],
      "metadata": {
        "id": "K0JiR16-N2pw"
      },
      "execution_count": 87,
      "outputs": []
    },
    {
      "cell_type": "code",
      "source": [
        "bn4.running_mean, bn4.running_var"
      ],
      "metadata": {
        "colab": {
          "base_uri": "https://localhost:8080/"
        },
        "id": "3H056oQqOUH-",
        "outputId": "efc4076d-6615-433b-8935-75de82ca2ade"
      },
      "execution_count": 88,
      "outputs": [
        {
          "output_type": "execute_result",
          "data": {
            "text/plain": [
              "(tensor([ 0.1794, -0.2990]), tensor([16.3008, 13.8976]))"
            ]
          },
          "metadata": {},
          "execution_count": 88
        }
      ]
    },
    {
      "cell_type": "markdown",
      "source": [
        "### model.train()和model.eval()"
      ],
      "metadata": {
        "id": "3oOcv-JgRJta"
      }
    },
    {
      "cell_type": "markdown",
      "source": [
        "PyTorch中适用于nn模块中所有模型的一种方法——model.train()与model.eval()。其中，model.train()表示开启模型训练模式，在默认情况下，我们实例化的每一个模型都是出于训练模式的，而model.eval()则表示将模型转化为测试模式"
      ],
      "metadata": {
        "id": "bEncbKXcR5Fp"
      }
    },
    {
      "cell_type": "code",
      "source": [
        "bn5 = nn.BatchNorm1d(3)\n",
        "bn5.train()"
      ],
      "metadata": {
        "colab": {
          "base_uri": "https://localhost:8080/"
        },
        "id": "ZcawXeOHOXir",
        "outputId": "0bfa9a94-313a-43ed-af8f-9a287fee710d"
      },
      "execution_count": 92,
      "outputs": [
        {
          "output_type": "execute_result",
          "data": {
            "text/plain": [
              "BatchNorm1d(3, eps=1e-05, momentum=0.1, affine=True, track_running_stats=True)"
            ]
          },
          "metadata": {},
          "execution_count": 92
        }
      ]
    },
    {
      "cell_type": "code",
      "source": [
        "f"
      ],
      "metadata": {
        "colab": {
          "base_uri": "https://localhost:8080/"
        },
        "id": "0imPLHdcSIEG",
        "outputId": "aad5ff3c-04da-4981-af89-541b9315260e"
      },
      "execution_count": 93,
      "outputs": [
        {
          "output_type": "execute_result",
          "data": {
            "text/plain": [
              "tensor([[0., 1., 2.],\n",
              "        [3., 4., 5.],\n",
              "        [6., 7., 8.]])"
            ]
          },
          "metadata": {},
          "execution_count": 93
        }
      ]
    },
    {
      "cell_type": "code",
      "source": [
        "bn5 = nn.BatchNorm1d(3)\n",
        "bn5.train()\n",
        "bn5.running_mean, bn5.running_var"
      ],
      "metadata": {
        "colab": {
          "base_uri": "https://localhost:8080/"
        },
        "id": "IC86jaZTSfqH",
        "outputId": "19d693e2-fb6f-4e67-a8b4-d6aacc43b347"
      },
      "execution_count": 95,
      "outputs": [
        {
          "output_type": "execute_result",
          "data": {
            "text/plain": [
              "(tensor([0., 0., 0.]), tensor([1., 1., 1.]))"
            ]
          },
          "metadata": {},
          "execution_count": 95
        }
      ]
    },
    {
      "cell_type": "code",
      "source": [
        "bn5(f)"
      ],
      "metadata": {
        "colab": {
          "base_uri": "https://localhost:8080/"
        },
        "id": "8QxBfgj_S5hY",
        "outputId": "f63e34de-b201-4148-e2f2-b85b250c6693"
      },
      "execution_count": 96,
      "outputs": [
        {
          "output_type": "execute_result",
          "data": {
            "text/plain": [
              "tensor([[-1.2247, -1.2247, -1.2247],\n",
              "        [ 0.0000,  0.0000,  0.0000],\n",
              "        [ 1.2247,  1.2247,  1.2247]], grad_fn=<NativeBatchNormBackward0>)"
            ]
          },
          "metadata": {},
          "execution_count": 96
        }
      ]
    },
    {
      "cell_type": "code",
      "source": [
        "bn5.running_mean, bn5.running_var"
      ],
      "metadata": {
        "colab": {
          "base_uri": "https://localhost:8080/"
        },
        "id": "2BPtpMaES_Q_",
        "outputId": "f0202706-bc2b-4492-990a-6c11235bfea6"
      },
      "execution_count": 97,
      "outputs": [
        {
          "output_type": "execute_result",
          "data": {
            "text/plain": [
              "(tensor([0.3000, 0.4000, 0.5000]), tensor([1.8000, 1.8000, 1.8000]))"
            ]
          },
          "metadata": {},
          "execution_count": 97
        }
      ]
    },
    {
      "cell_type": "code",
      "source": [
        "bn5 = nn.BatchNorm1d(3)\n",
        "bn5.eval()\n",
        "bn5.running_mean, bn5.running_var"
      ],
      "metadata": {
        "colab": {
          "base_uri": "https://localhost:8080/"
        },
        "id": "rbDw4FdGTBYn",
        "outputId": "283c3bc6-24b9-4c8f-81d3-d78e60aabbad"
      },
      "execution_count": 98,
      "outputs": [
        {
          "output_type": "execute_result",
          "data": {
            "text/plain": [
              "(tensor([0., 0., 0.]), tensor([1., 1., 1.]))"
            ]
          },
          "metadata": {},
          "execution_count": 98
        }
      ]
    },
    {
      "cell_type": "code",
      "source": [
        "bn5(f) # 进行归一化的是初始的mean和var(0,1),且始终不变"
      ],
      "metadata": {
        "colab": {
          "base_uri": "https://localhost:8080/"
        },
        "id": "OVgSkyhXTETv",
        "outputId": "b5c332ee-d25b-4ce8-a77f-6ae306dffdab"
      },
      "execution_count": 102,
      "outputs": [
        {
          "output_type": "execute_result",
          "data": {
            "text/plain": [
              "tensor([[0.0000, 1.0000, 2.0000],\n",
              "        [3.0000, 4.0000, 5.0000],\n",
              "        [6.0000, 7.0000, 8.0000]], grad_fn=<NativeBatchNormBackward0>)"
            ]
          },
          "metadata": {},
          "execution_count": 102
        }
      ]
    },
    {
      "cell_type": "code",
      "source": [
        "bn5.running_mean, bn5.running_var"
      ],
      "metadata": {
        "colab": {
          "base_uri": "https://localhost:8080/"
        },
        "id": "cjVPsOXLTGo3",
        "outputId": "043b50ae-5a21-42ab-af42-9311d0d88a25"
      },
      "execution_count": 103,
      "outputs": [
        {
          "output_type": "execute_result",
          "data": {
            "text/plain": [
              "(tensor([0., 0., 0.]), tensor([1., 1., 1.]))"
            ]
          },
          "metadata": {},
          "execution_count": 103
        }
      ]
    },
    {
      "cell_type": "code",
      "source": [
        "bn5.training"
      ],
      "metadata": {
        "colab": {
          "base_uri": "https://localhost:8080/"
        },
        "id": "6SOd8dhBUEzw",
        "outputId": "4d29bdab-3255-4490-951c-73c5e489fe26"
      },
      "execution_count": 104,
      "outputs": [
        {
          "output_type": "execute_result",
          "data": {
            "text/plain": [
              "False"
            ]
          },
          "metadata": {},
          "execution_count": 104
        }
      ]
    },
    {
      "cell_type": "markdown",
      "source": [
        "## **利用nn.BatchNorm构建带BN的神经网络**"
      ],
      "metadata": {
        "id": "2tO4lUrET5Ij"
      }
    },
    {
      "cell_type": "code",
      "source": [
        "class net_class1(nn.Module):\n",
        "  def __init__(self,act_fun=torch.relu,in_features=2,n_hidden=4,out_features=1,bias=True,BN_model=None,momentum=0.1):\n",
        "    super(net_class1,self).__init__()\n",
        "    self.linear1 = nn.Linear(in_features,n_hidden,bias=bias)\n",
        "    self.normalize1 = nn.BatchNorm1d(n_hidden,momentum=momentum)\n",
        "    self.linear2 = nn.Linear(n_hidden,out_features,bias=bias)\n",
        "    self.BN_model = BN_model # 两个属性\n",
        "    self.act_fun = act_fun\n",
        "  \n",
        "  def forward(self,x):\n",
        "    if self.BN_model == None:\n",
        "      z1 = self.linear1(x)\n",
        "      p1 = self.act_fun(z1)\n",
        "      out = self.linear2(p1)\n",
        "    elif self.BN_model == \"pre\":\n",
        "      z1 = self.normalize1(self.linear1(x))\n",
        "      p1 = self.act_fun(z1)\n",
        "      out = self.linear2(p1)\n",
        "    elif self.BN_model == \"post\":\n",
        "      z1 = self.linear(x)\n",
        "      p1 = self.act_fun(z1)\n",
        "      out = self.linear2(self.normalize1(p1))\n",
        "    return out"
      ],
      "metadata": {
        "id": "zQ_XlFRRTl51"
      },
      "execution_count": 105,
      "outputs": []
    },
    {
      "cell_type": "code",
      "source": [
        "torch.manual_seed(420)\n",
        "\n",
        "features,labels = tensorGenReg(w=[2,-1],bias=False,deg=2)\n",
        "\n",
        "train_loader,test_loader = split_loader(features,labels)"
      ],
      "metadata": {
        "id": "FOHvtzKYW9GO"
      },
      "execution_count": 106,
      "outputs": []
    },
    {
      "cell_type": "code",
      "source": [
        "torch.manual_seed(24)\n",
        "relu_model1_norm = net_class1(BN_model=\"pre\")"
      ],
      "metadata": {
        "id": "M1tdFG9mX3BG"
      },
      "execution_count": 107,
      "outputs": []
    },
    {
      "cell_type": "code",
      "source": [
        "# 设置模型为训练模式,每一个module都是training形式\n",
        "relu_model1_norm.train()"
      ],
      "metadata": {
        "colab": {
          "base_uri": "https://localhost:8080/"
        },
        "id": "SfieGKL5YDZG",
        "outputId": "a64e0e8f-8a2a-44cf-dbf3-b1f868b8c78c"
      },
      "execution_count": 108,
      "outputs": [
        {
          "output_type": "execute_result",
          "data": {
            "text/plain": [
              "net_class1(\n",
              "  (linear1): Linear(in_features=2, out_features=4, bias=True)\n",
              "  (normalize1): BatchNorm1d(4, eps=1e-05, momentum=0.1, affine=True, track_running_stats=True)\n",
              "  (linear2): Linear(in_features=4, out_features=1, bias=True)\n",
              ")"
            ]
          },
          "metadata": {},
          "execution_count": 108
        }
      ]
    },
    {
      "cell_type": "code",
      "source": [
        "list(relu_model1_norm.modules())[2].running_mean, list(relu_model1_norm.modules())[2].running_var"
      ],
      "metadata": {
        "colab": {
          "base_uri": "https://localhost:8080/"
        },
        "id": "y-2ygKhsYKwI",
        "outputId": "5383270e-72fe-4d4e-9fb2-b484aac679bf"
      },
      "execution_count": 112,
      "outputs": [
        {
          "output_type": "execute_result",
          "data": {
            "text/plain": [
              "(tensor([0., 0., 0., 0.]), tensor([1., 1., 1., 1.]))"
            ]
          },
          "metadata": {},
          "execution_count": 112
        }
      ]
    },
    {
      "cell_type": "code",
      "source": [
        "list(relu_model1_norm.modules())[2].weight, list(relu_model1_norm.modules())[2].bias"
      ],
      "metadata": {
        "colab": {
          "base_uri": "https://localhost:8080/"
        },
        "id": "fKfUEgX6ZoKB",
        "outputId": "05b6e4b7-e101-4071-bf34-bf641fe8d810"
      },
      "execution_count": 113,
      "outputs": [
        {
          "output_type": "execute_result",
          "data": {
            "text/plain": [
              "(Parameter containing:\n",
              " tensor([1., 1., 1., 1.], requires_grad=True), Parameter containing:\n",
              " tensor([0., 0., 0., 0.], requires_grad=True))"
            ]
          },
          "metadata": {},
          "execution_count": 113
        }
      ]
    },
    {
      "cell_type": "code",
      "source": [
        "fit(\n",
        "    net=relu_model1_norm,\n",
        "    criterion=nn.MSELoss(),\n",
        "    optimizer=optim.SGD(relu_model1_norm.parameters(),lr=0.03),\n",
        "    batchdata=train_loader,\n",
        "    epochs=20,\n",
        "    cla=False\n",
        ")"
      ],
      "metadata": {
        "id": "GOCVRMuAYmZO"
      },
      "execution_count": 115,
      "outputs": []
    },
    {
      "cell_type": "code",
      "source": [
        "list(relu_model1_norm.modules())[2].weight, list(relu_model1_norm.modules())[2].bias"
      ],
      "metadata": {
        "colab": {
          "base_uri": "https://localhost:8080/"
        },
        "id": "kF_3SNFjZxtY",
        "outputId": "b247eb9d-7e02-4182-eab1-ebe706411905"
      },
      "execution_count": 116,
      "outputs": [
        {
          "output_type": "execute_result",
          "data": {
            "text/plain": [
              "(Parameter containing:\n",
              " tensor([2.0457, 2.8368, 3.2382, 2.0761], requires_grad=True),\n",
              " Parameter containing:\n",
              " tensor([-1.7242, -1.4776, -2.0089, -1.4371], requires_grad=True))"
            ]
          },
          "metadata": {},
          "execution_count": 116
        }
      ]
    },
    {
      "cell_type": "code",
      "source": [
        "list(relu_model1_norm.modules())[2].running_mean, list(relu_model1_norm.modules())[2].running_var"
      ],
      "metadata": {
        "colab": {
          "base_uri": "https://localhost:8080/"
        },
        "id": "uF6gfvQwZ1en",
        "outputId": "c4e4d1b3-cd37-40b5-ba40-ab6c8d878346"
      },
      "execution_count": 117,
      "outputs": [
        {
          "output_type": "execute_result",
          "data": {
            "text/plain": [
              "(tensor([-0.1294, -0.2738, -0.1332,  0.0668]),\n",
              " tensor([4.4674, 6.4921, 7.3547, 4.8549]))"
            ]
          },
          "metadata": {},
          "execution_count": 117
        }
      ]
    },
    {
      "cell_type": "code",
      "source": [
        "relu_model1_norm.eval()"
      ],
      "metadata": {
        "colab": {
          "base_uri": "https://localhost:8080/"
        },
        "id": "wQBvxN8eZ6mP",
        "outputId": "3210dde2-2d1b-4a51-8e9a-d91eaabbfc3b"
      },
      "execution_count": 118,
      "outputs": [
        {
          "output_type": "execute_result",
          "data": {
            "text/plain": [
              "net_class1(\n",
              "  (linear1): Linear(in_features=2, out_features=4, bias=True)\n",
              "  (normalize1): BatchNorm1d(4, eps=1e-05, momentum=0.1, affine=True, track_running_stats=True)\n",
              "  (linear2): Linear(in_features=4, out_features=1, bias=True)\n",
              ")"
            ]
          },
          "metadata": {},
          "execution_count": 118
        }
      ]
    },
    {
      "cell_type": "code",
      "source": [
        "mse_cal(train_loader,relu_model1_norm)"
      ],
      "metadata": {
        "colab": {
          "base_uri": "https://localhost:8080/"
        },
        "id": "u1HpbYSHaMUv",
        "outputId": "5b271ccf-d657-47ed-a59d-0376c2f6c150"
      },
      "execution_count": 119,
      "outputs": [
        {
          "output_type": "execute_result",
          "data": {
            "text/plain": [
              "tensor(0.5253, grad_fn=<MseLossBackward0>)"
            ]
          },
          "metadata": {},
          "execution_count": 119
        }
      ]
    },
    {
      "cell_type": "code",
      "source": [
        "mse_cal(test_loader,relu_model1_norm)"
      ],
      "metadata": {
        "colab": {
          "base_uri": "https://localhost:8080/"
        },
        "id": "bbNIh3nGaXsm",
        "outputId": "a7268de2-fb16-4364-82bf-ec999326eba8"
      },
      "execution_count": 120,
      "outputs": [
        {
          "output_type": "execute_result",
          "data": {
            "text/plain": [
              "tensor(0.9437, grad_fn=<MseLossBackward0>)"
            ]
          },
          "metadata": {},
          "execution_count": 120
        }
      ]
    },
    {
      "cell_type": "code",
      "source": [
        "list(relu_model1_norm.modules())[2].weight, list(relu_model1_norm.modules())[2].bias,list(relu_model1_norm.modules())[2].running_mean, list(relu_model1_norm.modules())[2].running_var"
      ],
      "metadata": {
        "colab": {
          "base_uri": "https://localhost:8080/"
        },
        "id": "WHQt4dK4aa3_",
        "outputId": "c35f6fb9-3b29-4910-9f91-da7e2bdfead7"
      },
      "execution_count": 121,
      "outputs": [
        {
          "output_type": "execute_result",
          "data": {
            "text/plain": [
              "(Parameter containing:\n",
              " tensor([2.0457, 2.8368, 3.2382, 2.0761], requires_grad=True),\n",
              " Parameter containing:\n",
              " tensor([-1.7242, -1.4776, -2.0089, -1.4371], requires_grad=True),\n",
              " tensor([-0.1294, -0.2738, -0.1332,  0.0668]),\n",
              " tensor([4.4674, 6.4921, 7.3547, 4.8549]))"
            ]
          },
          "metadata": {},
          "execution_count": 121
        }
      ]
    },
    {
      "cell_type": "code",
      "source": [
        "torch.manual_seed(420)\n",
        "\n",
        "features,labels = tensorGenReg(w=[2,-1],bias=False,deg=2)\n",
        "\n",
        "train_loader,test_loader = split_loader(features,labels)"
      ],
      "metadata": {
        "id": "cVnX0PGRalIN"
      },
      "execution_count": 123,
      "outputs": []
    },
    {
      "cell_type": "code",
      "source": [
        "torch.manual_seed(24)\n",
        "\n",
        "sigmoid_model1 = net_class1(act_fun=torch.sigmoid)\n",
        "sigmoid_model1_norm = net_class1(act_fun=torch.sigmoid,BN_model=\"pre\")\n",
        "\n",
        "model_l = [sigmoid_model1,sigmoid_model1_norm]\n",
        "name_l = [\"sigmoid_model1\",\"sigmoid_model1_norm\"]\n",
        "\n",
        "lr = 0.03\n",
        "num_epochs = 40\n",
        "\n",
        "train_l, test_l = model_comparison(\n",
        "    model_l=model_l,\n",
        "    name_l=name_l,\n",
        "    train_data=train_loader,\n",
        "    test_data=test_loader,\n",
        "    criterion=nn.MSELoss(),\n",
        "    num_epochs=num_epochs,\n",
        "    optimizer=optim.SGD,\n",
        "    lr=lr,\n",
        "    cla=False,\n",
        "    eva=mse_cal\n",
        ")"
      ],
      "metadata": {
        "id": "B6sua2Ixa_6F"
      },
      "execution_count": 126,
      "outputs": []
    },
    {
      "cell_type": "code",
      "source": [
        "for i, name in enumerate(name_l):\n",
        "    plt.plot(list(range(num_epochs)), train_l[i], label=name)\n",
        "plt.legend(loc = 1)\n",
        "plt.title('mse_train');"
      ],
      "metadata": {
        "colab": {
          "base_uri": "https://localhost:8080/",
          "height": 281
        },
        "id": "f-XCcVRBcOz2",
        "outputId": "4f8cfbcc-0c43-4ca9-ce0b-f5b6d53be83a"
      },
      "execution_count": 128,
      "outputs": [
        {
          "output_type": "display_data",
          "data": {
            "text/plain": [
              "<Figure size 432x288 with 1 Axes>"
            ],
            "image/png": "[encoded data removed]"
          },
          "metadata": {
            "needs_background": "light"
          }
        }
      ]
    },
    {
      "cell_type": "code",
      "source": [
        "# 测试误差\n",
        "for i, name in enumerate(name_l):\n",
        "    plt.plot(list(range(num_epochs)), test_l[i], label=name)\n",
        "plt.legend(loc = 1)\n",
        "plt.title('mse_test');"
      ],
      "metadata": {
        "colab": {
          "base_uri": "https://localhost:8080/",
          "height": 281
        },
        "id": "4Z-tbXRacjQw",
        "outputId": "6c2d77ec-c2ec-4a59-dbd5-79f9dcbb75c3"
      },
      "execution_count": 130,
      "outputs": [
        {
          "output_type": "display_data",
          "data": {
            "text/plain": [
              "<Figure size 432x288 with 1 Axes>"
            ],
            "image/png": "[encoded data removed]"
          },
          "metadata": {
            "needs_background": "light"
          }
        }
      ]
    },
    {
      "cell_type": "code",
      "source": [
        "class net_class3(nn.Module):\n",
        "  def __init__(self,act_fun=torch.relu,in_features=2,n_hidden1=4,n_hidden2=4,n_hidden3=4,out_features=1,bias=True,BN_model=None,momentum=0.1):\n",
        "    super(net_class3,self).__init__()\n",
        "    self.linear1 = nn.Linear(in_features,n_hidden1,bias=bias)\n",
        "    self.normalize1 = nn.BatchNorm1d(n_hidden1,momentum=momentum)\n",
        "    self.linear2 = nn.Linear(n_hidden1,n_hidden2,bias=bias)\n",
        "    self.normalize2 = nn.BatchNorm1d(n_hidden2,momentum=momentum)\n",
        "    self.linear3 = nn.Linear(n_hidden2,n_hidden3,bias=bias)\n",
        "    self.normalize3 = nn.BatchNorm1d(n_hidden3,momentum=momentum)\n",
        "    self.linear4 = nn.Linear(n_hidden3,out_features,bias=bias)\n",
        "    self.BN_model = BN_model\n",
        "    self.act_fun = act_fun\n",
        "\n",
        "  def forward(self,x):\n",
        "    if self.BN_model == None:\n",
        "      z1 = self.linear1(x)\n",
        "      p1 = self.act_fun(z1)\n",
        "      z2 = self.linear2(p1)\n",
        "      p2 = self.act_fun(z2)\n",
        "      z3 = self.linear3(p2)\n",
        "      p3 = self.act_fun(z3)\n",
        "      out = self.linear4(p3)\n",
        "    if self.BN_model == \"pre\":\n",
        "      z1 = self.normalize1(self.linear1(x))\n",
        "      p1 = self.act_fun(z1)\n",
        "      z2 = self.normalize2(self.linear2(p1))\n",
        "      p2 = self.act_fun(z2)\n",
        "      z3 = self.normalize3(self.linear3(p2))\n",
        "      p3 = self.act_fun(z3)\n",
        "      out = self.linear4(p3)\n",
        "    if self.BN_model == \"post\":\n",
        "      z1 = self.linear1(x)\n",
        "      p1 = self.act_fun(z1)\n",
        "      z2 = self.normalize1(self.linear2(p1))\n",
        "      p2 = self.act_fun(z2)\n",
        "      z3 = self.normalize2(self.linear3(p2))\n",
        "      p3 = self.act_fun(z3)\n",
        "      out = self.normalize3(self.linear4(p3))\n",
        "    return out"
      ],
      "metadata": {
        "id": "X2_xaqgCcy4O"
      },
      "execution_count": null,
      "outputs": []
    }
  ]
}