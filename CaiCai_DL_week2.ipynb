{
  "nbformat": 4,
  "nbformat_minor": 0,
  "metadata": {
    "colab": {
      "provenance": [],
      "authorship_tag": "ABX9TyN4bEBNkuTS99v+Q2d+39LW",
      "include_colab_link": true
    },
    "kernelspec": {
      "name": "python3",
      "display_name": "Python 3"
    },
    "language_info": {
      "name": "python"
    }
  },
  "cells": [
    {
      "cell_type": "markdown",
      "metadata": {
        "id": "view-in-github",
        "colab_type": "text"
      },
      "source": [
        "<a href=\"https://colab.research.google.com/github/boshuaiYu/CaiCai_DL/blob/main/CaiCai_DL_week2.ipynb\" target=\"_parent\"><img src=\"https://colab.research.google.com/assets/colab-badge.svg\" alt=\"Open In Colab\"/></a>"
      ]
    },
    {
      "cell_type": "markdown",
      "source": [
        "# 实现单层回归神经网络"
      ],
      "metadata": {
        "id": "Skz0plKJZi3M"
      }
    },
    {
      "cell_type": "code",
      "source": [
        "import torch\n",
        "print(torch.__version__)"
      ],
      "metadata": {
        "colab": {
          "base_uri": "https://localhost:8080/"
        },
        "id": "oyBFuJYzDetg",
        "outputId": "daa8a925-5a8a-43dc-d7ee-a13fb7e5a170"
      },
      "execution_count": null,
      "outputs": [
        {
          "output_type": "stream",
          "name": "stdout",
          "text": [
            "1.12.1+cu113\n"
          ]
        }
      ]
    },
    {
      "cell_type": "code",
      "source": [
        "X = torch.tensor([[1,0,0],[1,1,0],[1,0,1],[1,1,1]],dtype=torch.float32) # 需要保证两个矩阵计算的数据类型要一致\n",
        "z = torch.tensor([-0.2,-0.05,-0.05,0.1])\n",
        "X.shape,z"
      ],
      "metadata": {
        "colab": {
          "base_uri": "https://localhost:8080/"
        },
        "id": "UvBQhcviZx0w",
        "outputId": "914b4823-74cb-4cf6-ba30-8a701ba293f0"
      },
      "execution_count": null,
      "outputs": [
        {
          "output_type": "execute_result",
          "data": {
            "text/plain": [
              "(torch.Size([4, 3]), tensor([-0.2000, -0.0500, -0.0500,  0.1000]))"
            ]
          },
          "metadata": {},
          "execution_count": 12
        }
      ]
    },
    {
      "cell_type": "code",
      "source": [
        "w = torch.tensor([-0.2,0.15,0.15])"
      ],
      "metadata": {
        "id": "XhqEdjPwaNrB"
      },
      "execution_count": null,
      "outputs": []
    },
    {
      "cell_type": "code",
      "source": [
        "def LinearR(X,w):\n",
        "  zhat = torch.mv(X,w)\n",
        "  return zhat"
      ],
      "metadata": {
        "id": "HTlQTVGvazNG"
      },
      "execution_count": null,
      "outputs": []
    },
    {
      "cell_type": "code",
      "source": [
        "zhat = LinearR(X,w)\n",
        "zhat"
      ],
      "metadata": {
        "colab": {
          "base_uri": "https://localhost:8080/"
        },
        "id": "0dqo3K0MbI4k",
        "outputId": "77c05ce3-0a19-4fa4-fac2-ecfe332550f9"
      },
      "execution_count": null,
      "outputs": [
        {
          "output_type": "execute_result",
          "data": {
            "text/plain": [
              "tensor([-0.2000, -0.0500, -0.0500,  0.1000])"
            ]
          },
          "metadata": {},
          "execution_count": 20
        }
      ]
    },
    {
      "cell_type": "markdown",
      "source": [
        "torch.tensor - 判断输入数据的类型，根据输入类型决定数据类型\n",
        "\n",
        "torch.Tensor - 将输入数据完全变为float32"
      ],
      "metadata": {
        "id": "LT-aRn-7cMpg"
      }
    },
    {
      "cell_type": "code",
      "source": [
        "zhat == z"
      ],
      "metadata": {
        "colab": {
          "base_uri": "https://localhost:8080/"
        },
        "id": "LglJmm_ubLXa",
        "outputId": "fa806934-33ed-47c0-c59e-9df9bcf0f63e"
      },
      "execution_count": null,
      "outputs": [
        {
          "output_type": "execute_result",
          "data": {
            "text/plain": [
              "tensor([ True, False, False, False])"
            ]
          },
          "metadata": {},
          "execution_count": 21
        }
      ]
    },
    {
      "cell_type": "markdown",
      "source": [
        "发现z与zhat不是完全相等"
      ],
      "metadata": {
        "id": "tyJ4toFJd2Fb"
      }
    },
    {
      "cell_type": "code",
      "source": [
        "SSE = sum((zhat-z)**2)\n",
        "SSE"
      ],
      "metadata": {
        "colab": {
          "base_uri": "https://localhost:8080/"
        },
        "id": "gPxqHsQcdsOo",
        "outputId": "e3b3c3b4-fcee-4cc4-8230-c26c1d25ff3e"
      },
      "execution_count": null,
      "outputs": [
        {
          "output_type": "execute_result",
          "data": {
            "text/plain": [
              "tensor(8.3267e-17)"
            ]
          },
          "metadata": {},
          "execution_count": 22
        }
      ]
    },
    {
      "cell_type": "code",
      "source": [
        "torch.set_printoptions(precision=30)"
      ],
      "metadata": {
        "id": "W8QbKL4seOBS"
      },
      "execution_count": null,
      "outputs": []
    },
    {
      "cell_type": "code",
      "source": [
        "zhat"
      ],
      "metadata": {
        "colab": {
          "base_uri": "https://localhost:8080/"
        },
        "id": "3YOnX2PdeX1A",
        "outputId": "bf9ef028-3c36-4784-f25f-ee53ca774fc6"
      },
      "execution_count": null,
      "outputs": [
        {
          "output_type": "execute_result",
          "data": {
            "text/plain": [
              "tensor([-0.200000002980232238769531250000, -0.049999997019767761230468750000,\n",
              "        -0.049999997019767761230468750000,  0.100000008940696716308593750000])"
            ]
          },
          "metadata": {},
          "execution_count": 24
        }
      ]
    },
    {
      "cell_type": "code",
      "source": [
        "z"
      ],
      "metadata": {
        "colab": {
          "base_uri": "https://localhost:8080/"
        },
        "id": "ysuQ_E5LeY9R",
        "outputId": "f5a9a2a9-635d-4dca-dc61-8e9d602ad2c9"
      },
      "execution_count": null,
      "outputs": [
        {
          "output_type": "execute_result",
          "data": {
            "text/plain": [
              "tensor([-0.200000002980232238769531250000, -0.050000000745058059692382812500,\n",
              "        -0.050000000745058059692382812500,  0.100000001490116119384765625000])"
            ]
          },
          "metadata": {},
          "execution_count": 25
        }
      ]
    },
    {
      "cell_type": "markdown",
      "source": [
        "发现zhat与z有精度差异\n",
        "\n",
        "1. float32只保留32位，所以精确性会有问题\n",
        "2. torch.mv在计算的时候，内部计算会出现微小的精度问题"
      ],
      "metadata": {
        "id": "RKpBdzT_ee4X"
      }
    },
    {
      "cell_type": "code",
      "source": [
        "preds = torch.ones(300,68,64,64) * 0.1\n",
        "preds.sum()*10\n",
        "# 精度是float32"
      ],
      "metadata": {
        "colab": {
          "base_uri": "https://localhost:8080/"
        },
        "id": "Lzy5CFL-ecHz",
        "outputId": "bd8aba56-268e-411c-e468-f5426d957619"
      },
      "execution_count": null,
      "outputs": [
        {
          "output_type": "execute_result",
          "data": {
            "text/plain": [
              "tensor(83558328.)"
            ]
          },
          "metadata": {},
          "execution_count": 26
        }
      ]
    },
    {
      "cell_type": "code",
      "source": [
        "preds = torch.ones(300,68,64,64)\n",
        "preds.sum()"
      ],
      "metadata": {
        "colab": {
          "base_uri": "https://localhost:8080/"
        },
        "id": "UqXzeVk2foyD",
        "outputId": "69dc80d0-fa1a-446d-da11-7fdc7edbcfbc"
      },
      "execution_count": null,
      "outputs": [
        {
          "output_type": "execute_result",
          "data": {
            "text/plain": [
              "tensor(83558400.)"
            ]
          },
          "metadata": {},
          "execution_count": 29
        }
      ]
    },
    {
      "cell_type": "code",
      "source": [
        "preds = preds = torch.ones(300,68,64,64,dtype = torch.float64)\n",
        "preds.sum()\n",
        "# 精度是float64（但64位很占内存）"
      ],
      "metadata": {
        "colab": {
          "base_uri": "https://localhost:8080/"
        },
        "id": "zOr2_JPrfrTs",
        "outputId": "b38c5a38-2c88-4965-9f22-d343af85993c"
      },
      "execution_count": null,
      "outputs": [
        {
          "output_type": "execute_result",
          "data": {
            "text/plain": [
              "tensor(83558400., dtype=torch.float64)"
            ]
          },
          "metadata": {},
          "execution_count": 31
        }
      ]
    },
    {
      "cell_type": "code",
      "source": [
        "torch.allclose(z,zhat) # 可以无视很小的区别"
      ],
      "metadata": {
        "colab": {
          "base_uri": "https://localhost:8080/"
        },
        "id": "7iaGkc_RgCMY",
        "outputId": "8756db6c-b5d2-4b3d-c542-be2c6ce84d3c"
      },
      "execution_count": null,
      "outputs": [
        {
          "output_type": "execute_result",
          "data": {
            "text/plain": [
              "True"
            ]
          },
          "metadata": {},
          "execution_count": 33
        }
      ]
    },
    {
      "cell_type": "markdown",
      "source": [
        "# torch.nn.Linear实现单层回归神经网络的正向传播"
      ],
      "metadata": {
        "id": "Eb74Cn55g_Gr"
      }
    },
    {
      "cell_type": "code",
      "source": [
        "import torch"
      ],
      "metadata": {
        "id": "hHZbcMFInQIO"
      },
      "execution_count": null,
      "outputs": []
    },
    {
      "cell_type": "code",
      "source": [
        "X = torch.tensor([[0,0],[1,0],[0,1],[1,1]],dtype=torch.float32)\n",
        "# 只需要输入特征矩阵即可，不用加上bias那一列"
      ],
      "metadata": {
        "id": "F5hsjbwnggRn"
      },
      "execution_count": null,
      "outputs": []
    },
    {
      "cell_type": "code",
      "source": [
        "# 实例化nn.Linear\n",
        "output = torch.nn.Linear(2,1)\n",
        "# 若不想生成bias则 output = torch.nn.Linear(2,1,bias=False)"
      ],
      "metadata": {
        "id": "AZxynnBEnKLB"
      },
      "execution_count": null,
      "outputs": []
    },
    {
      "cell_type": "markdown",
      "source": [
        "传输的两个参数分别是：\n",
        "1. 上一层的神经元个数（上一层神经元给下一层神经元传输数据的神经元的个数）\n",
        "2. 下一层的神经元的个数\n",
        "\n",
        "神经元的个数由特征个数决定"
      ],
      "metadata": {
        "id": "rJ_r4yKonqhv"
      }
    },
    {
      "cell_type": "code",
      "source": [
        "zhat = output(X)\n",
        "zhat"
      ],
      "metadata": {
        "colab": {
          "base_uri": "https://localhost:8080/"
        },
        "id": "90CifFuRnOgj",
        "outputId": "d0eca148-312d-4315-a402-bd72afa4910d"
      },
      "execution_count": null,
      "outputs": [
        {
          "output_type": "execute_result",
          "data": {
            "text/plain": [
              "tensor([[-0.4686],\n",
              "        [ 0.0716],\n",
              "        [-1.0232],\n",
              "        [-0.4830]], grad_fn=<AddmmBackward0>)"
            ]
          },
          "metadata": {},
          "execution_count": 13
        }
      ]
    },
    {
      "cell_type": "code",
      "source": [
        "output.weight"
      ],
      "metadata": {
        "colab": {
          "base_uri": "https://localhost:8080/"
        },
        "id": "pZCe-hc7naLU",
        "outputId": "27b9ea55-d69f-4b55-c4de-2c4faeddb363"
      },
      "execution_count": null,
      "outputs": [
        {
          "output_type": "execute_result",
          "data": {
            "text/plain": [
              "Parameter containing:\n",
              "tensor([[ 0.5402, -0.5547]], requires_grad=True)"
            ]
          },
          "metadata": {},
          "execution_count": 14
        }
      ]
    },
    {
      "cell_type": "code",
      "source": [
        "output.bias"
      ],
      "metadata": {
        "colab": {
          "base_uri": "https://localhost:8080/"
        },
        "id": "tA-Zak3SoWNC",
        "outputId": "e0824e91-bb63-48a5-b27c-6130d5388962"
      },
      "execution_count": null,
      "outputs": [
        {
          "output_type": "execute_result",
          "data": {
            "text/plain": [
              "Parameter containing:\n",
              "tensor([-0.4686], requires_grad=True)"
            ]
          },
          "metadata": {},
          "execution_count": 15
        }
      ]
    },
    {
      "cell_type": "markdown",
      "source": [
        "通过设置随机数种子来实现随机化"
      ],
      "metadata": {
        "id": "VxEFlWqUpHQb"
      }
    },
    {
      "cell_type": "code",
      "source": [
        "torch.random.manual_seed(420) # 认为设置随机数种子\n",
        "output = torch.nn.Linear(2,1)\n",
        "zhat = output(X)\n",
        "zhat,zhat.shape"
      ],
      "metadata": {
        "colab": {
          "base_uri": "https://localhost:8080/"
        },
        "id": "D6L7_agLpGJ1",
        "outputId": "cf038662-9ca8-48f3-d605-2729fa1eb1ca"
      },
      "execution_count": null,
      "outputs": [
        {
          "output_type": "execute_result",
          "data": {
            "text/plain": [
              "(tensor([[0.6730],\n",
              "         [1.1048],\n",
              "         [0.2473],\n",
              "         [0.6792]], grad_fn=<AddmmBackward0>), torch.Size([4, 1]))"
            ]
          },
          "metadata": {},
          "execution_count": 21
        }
      ]
    },
    {
      "cell_type": "code",
      "source": [
        "output.weight"
      ],
      "metadata": {
        "colab": {
          "base_uri": "https://localhost:8080/"
        },
        "id": "uFK-HRuroX_B",
        "outputId": "ffe715b3-8e9f-4da7-b666-771a89250037"
      },
      "execution_count": null,
      "outputs": [
        {
          "output_type": "execute_result",
          "data": {
            "text/plain": [
              "Parameter containing:\n",
              "tensor([[ 0.4318, -0.4256]], requires_grad=True)"
            ]
          },
          "metadata": {},
          "execution_count": 19
        }
      ]
    },
    {
      "cell_type": "code",
      "source": [
        "output.bias"
      ],
      "metadata": {
        "colab": {
          "base_uri": "https://localhost:8080/"
        },
        "id": "iEgoLH2mpwUo",
        "outputId": "48f44dd2-348f-48ed-c675-ee8a6af6f220"
      },
      "execution_count": null,
      "outputs": [
        {
          "output_type": "execute_result",
          "data": {
            "text/plain": [
              "Parameter containing:\n",
              "tensor([0.6730], requires_grad=True)"
            ]
          },
          "metadata": {},
          "execution_count": 20
        }
      ]
    },
    {
      "cell_type": "markdown",
      "source": [
        "# 二分类神经网络：逻辑回归"
      ],
      "metadata": {
        "id": "FNXj3RSUqZq6"
      }
    },
    {
      "cell_type": "code",
      "source": [
        "import matplotlib.pyplot as plt\n",
        "import numpy as np\n",
        "\n",
        "x = np.linspace(-10,10)"
      ],
      "metadata": {
        "id": "9xWDMLxRpzML"
      },
      "execution_count": 22,
      "outputs": []
    },
    {
      "cell_type": "code",
      "source": [
        "def sigmoid(x):\n",
        "  return 1/(1+np.exp(-x))\n",
        "y = sigmoid(x)\n",
        "plt.figure(figsize=(9,6))\n",
        "plt.plot(x,y,\"ro-\",)\n",
        "plt.title(\"Sigmoid\")"
      ],
      "metadata": {
        "colab": {
          "base_uri": "https://localhost:8080/",
          "height": 408
        },
        "id": "aMo7THj-rrCO",
        "outputId": "cd59e71e-b88d-4b74-a70f-682b5020d224"
      },
      "execution_count": null,
      "outputs": [
        {
          "output_type": "execute_result",
          "data": {
            "text/plain": [
              "Text(0.5, 1.0, 'Sigmoid')"
            ]
          },
          "metadata": {},
          "execution_count": 44
        },
        {
          "output_type": "display_data",
          "data": {
            "text/plain": [
              "<Figure size 648x432 with 1 Axes>"
            ],
            "image/png": "[encoded data removed]"
          },
          "metadata": {
            "needs_background": "light"
          }
        }
      ]
    },
    {
      "cell_type": "markdown",
      "source": [
        "tensor 实现与门"
      ],
      "metadata": {
        "id": "M-gsgHFfuCi5"
      }
    },
    {
      "cell_type": "code",
      "source": [
        "X = torch.tensor([[1,0,0],[1,1,0],[1,0,1],[1,1,1]],dtype=torch.float32)"
      ],
      "metadata": {
        "id": "IYZewWT0rAXZ"
      },
      "execution_count": null,
      "outputs": []
    },
    {
      "cell_type": "code",
      "source": [
        "andgate = torch.tensor([0,0,0,1],dtype=torch.float32).reshape(-1,1)"
      ],
      "metadata": {
        "id": "o_iUvB1CuTPy"
      },
      "execution_count": null,
      "outputs": []
    },
    {
      "cell_type": "code",
      "source": [
        "w = torch.tensor([-0.2,0.15,0.15],dtype=torch.float32)"
      ],
      "metadata": {
        "id": "zarWOFaeurfR"
      },
      "execution_count": null,
      "outputs": []
    },
    {
      "cell_type": "code",
      "source": [
        "def LogistcR(X,w):\n",
        "  zhat = torch.mv(X,w)\n",
        "  sigma = torch.sigmoid(zhat)\n",
        "  andhat = torch.tensor([int(x) for x in sigma >= 0.5],dtype=torch.float32)\n",
        "  return sigma, andhat\n",
        "sigma, andhat = LogistcR(X,w)\n",
        "sigma, andhat "
      ],
      "metadata": {
        "colab": {
          "base_uri": "https://localhost:8080/"
        },
        "id": "UZXCKDJpu4BJ",
        "outputId": "dc03b77d-61cb-40fc-b6f0-7e3f9f492d11"
      },
      "execution_count": null,
      "outputs": [
        {
          "output_type": "execute_result",
          "data": {
            "text/plain": [
              "(tensor([0.4502, 0.4875, 0.4875, 0.5250]), tensor([0., 0., 0., 1.]))"
            ]
          },
          "metadata": {},
          "execution_count": 52
        }
      ]
    },
    {
      "cell_type": "code",
      "source": [
        "andhat.reshape(-1,1) == andgate"
      ],
      "metadata": {
        "colab": {
          "base_uri": "https://localhost:8080/"
        },
        "id": "AD0JUXvKvkH2",
        "outputId": "db87b7ca-d1ad-4b6c-f4c8-40a81ed66c93"
      },
      "execution_count": null,
      "outputs": [
        {
          "output_type": "execute_result",
          "data": {
            "text/plain": [
              "tensor([[True],\n",
              "        [True],\n",
              "        [True],\n",
              "        [True]])"
            ]
          },
          "metadata": {},
          "execution_count": 54
        }
      ]
    },
    {
      "cell_type": "markdown",
      "source": [
        "tanh函数"
      ],
      "metadata": {
        "id": "f0QmxrCazL85"
      }
    },
    {
      "cell_type": "code",
      "source": [
        "x = np.linspace(-10,10)\n",
        "x = torch.tensor(x)\n",
        "def tanh(x):\n",
        "  return (torch.exp(2*x)-1)/(torch.exp(2*x)+1)\n",
        "def tanh1(x):\n",
        "  return (torch.exp(x)-1)/(torch.exp(x)+1)\n",
        "y = tanh(x)\n",
        "y1 = tanh1(x)\n",
        "y2 = torch.sigmoid(x)\n",
        "y3 = torch.softmax(x,0)\n",
        "plt.figure(figsize=(9,6))\n",
        "plt.plot(x,y,\"o-\")\n",
        "plt.plot(x,y1,\"ro-\")\n",
        "plt.plot(x,y2,\"go-\")\n",
        "plt.plot(x,y3,\"yo-\")"
      ],
      "metadata": {
        "colab": {
          "base_uri": "https://localhost:8080/",
          "height": 392
        },
        "id": "vGClygL7wJDJ",
        "outputId": "d20fa6fa-2518-46ea-cf79-05fd74073976"
      },
      "execution_count": 23,
      "outputs": [
        {
          "output_type": "execute_result",
          "data": {
            "text/plain": [
              "[<matplotlib.lines.Line2D at 0x7f943a72ec70>]"
            ]
          },
          "metadata": {},
          "execution_count": 23
        },
        {
          "output_type": "display_data",
          "data": {
            "text/plain": [
              "<Figure size 648x432 with 1 Axes>"
            ],
            "image/png": "[encoded data removed]"
          },
          "metadata": {
            "needs_background": "light"
          }
        }
      ]
    },
    {
      "cell_type": "markdown",
      "source": [
        "torch.function实现单层二分类神经网络的正向传播"
      ],
      "metadata": {
        "id": "sA9tpCMZ2I51"
      }
    },
    {
      "cell_type": "code",
      "source": [
        "import torch\n",
        "from torch.nn import functional as F"
      ],
      "metadata": {
        "id": "hJIP5NZsxy2W"
      },
      "execution_count": null,
      "outputs": []
    },
    {
      "cell_type": "code",
      "source": [
        "X = torch.tensor([[0,0],[1,0],[0,1],[1,1]],dtype=torch.float32)\n",
        "torch.random.manual_seed(420)\n",
        "dense = torch.nn.Linear(2,1)\n",
        "zhat = dense(X)\n",
        "sigma = F.sigmoid(zhat)\n",
        "y = [int(x) for x in sigma >= 0.5]\n",
        "zhat,y"
      ],
      "metadata": {
        "id": "-DTd2FcuxEXO",
        "colab": {
          "base_uri": "https://localhost:8080/"
        },
        "outputId": "636e097d-aeb7-4754-8872-e4a02456ca27"
      },
      "execution_count": 6,
      "outputs": [
        {
          "output_type": "stream",
          "name": "stderr",
          "text": [
            "/usr/local/lib/python3.8/dist-packages/torch/nn/functional.py:1960: UserWarning: nn.functional.sigmoid is deprecated. Use torch.sigmoid instead.\n",
            "  warnings.warn(\"nn.functional.sigmoid is deprecated. Use torch.sigmoid instead.\")\n"
          ]
        },
        {
          "output_type": "execute_result",
          "data": {
            "text/plain": [
              "(tensor([[0.6730],\n",
              "         [1.1048],\n",
              "         [0.2473],\n",
              "         [0.6792]], grad_fn=<AddmmBackward0>), [1, 1, 1, 1])"
            ]
          },
          "metadata": {},
          "execution_count": 6
        }
      ]
    },
    {
      "cell_type": "code",
      "source": [
        "F.relu(zhat)"
      ],
      "metadata": {
        "colab": {
          "base_uri": "https://localhost:8080/"
        },
        "id": "jSmvMjU-ZVNO",
        "outputId": "49c4c08c-3419-4da9-c7a3-b5d8e7a4ab3d"
      },
      "execution_count": 9,
      "outputs": [
        {
          "output_type": "execute_result",
          "data": {
            "text/plain": [
              "tensor([[0.6730],\n",
              "        [1.1048],\n",
              "        [0.2473],\n",
              "        [0.6792]], grad_fn=<ReluBackward0>)"
            ]
          },
          "metadata": {},
          "execution_count": 9
        }
      ]
    },
    {
      "cell_type": "code",
      "source": [
        "torch.tanh(zhat)"
      ],
      "metadata": {
        "colab": {
          "base_uri": "https://localhost:8080/"
        },
        "id": "1eyej9DTZ-6m",
        "outputId": "0047f3b5-4847-47c9-b02e-0c935b50c82b"
      },
      "execution_count": 17,
      "outputs": [
        {
          "output_type": "execute_result",
          "data": {
            "text/plain": [
              "tensor([[0.5869],\n",
              "        [0.8022],\n",
              "        [0.2424],\n",
              "        [0.5910]], grad_fn=<TanhBackward0>)"
            ]
          },
          "metadata": {},
          "execution_count": 17
        }
      ]
    },
    {
      "cell_type": "code",
      "source": [
        "torch.sign(zhat)"
      ],
      "metadata": {
        "colab": {
          "base_uri": "https://localhost:8080/"
        },
        "id": "HfYYrnyKaF7E",
        "outputId": "48eb68fa-44c2-404b-955c-a11e8e99bdfc"
      },
      "execution_count": 18,
      "outputs": [
        {
          "output_type": "execute_result",
          "data": {
            "text/plain": [
              "tensor([[1.],\n",
              "        [1.],\n",
              "        [1.],\n",
              "        [1.]], grad_fn=<SignBackward0>)"
            ]
          },
          "metadata": {},
          "execution_count": 18
        }
      ]
    },
    {
      "cell_type": "markdown",
      "source": [
        "# 多分类问题：Softmax回归"
      ],
      "metadata": {
        "id": "CraZuMiXactd"
      }
    },
    {
      "cell_type": "code",
      "source": [
        "z = torch.tensor([1010,1000,990],dtype=torch.float32)\n",
        "torch.softmax(z,0)\n",
        "# pytorch中softmax不会发生溢出现象  "
      ],
      "metadata": {
        "colab": {
          "base_uri": "https://localhost:8080/"
        },
        "id": "m1XN3yM6aRs9",
        "outputId": "bdf7590b-22a3-4e10-d9ca-efa171e0f82d"
      },
      "execution_count": 20,
      "outputs": [
        {
          "output_type": "execute_result",
          "data": {
            "text/plain": [
              "tensor([9.9995e-01, 4.5398e-05, 2.0611e-09])"
            ]
          },
          "metadata": {},
          "execution_count": 20
        }
      ]
    },
    {
      "cell_type": "markdown",
      "source": [
        "Softmax第一个参数输入的是用来计算的参数\n",
        "第二个参数是计算的维度的索引"
      ],
      "metadata": {
        "id": "mG55QpnghbnU"
      }
    },
    {
      "cell_type": "code",
      "source": [
        "s = torch.tensor([[[1,2,4,5],[3,4,4,5],[5,6,4,5]],[[5,6,4,5],[7,8,4,5],[9,10,4,5]]],dtype=torch.float32)\n",
        "s.ndim,s.shape"
      ],
      "metadata": {
        "colab": {
          "base_uri": "https://localhost:8080/"
        },
        "id": "XCA5_I9Ef1aV",
        "outputId": "872315a9-7615-4be2-f446-a372bf747aa7"
      },
      "execution_count": 30,
      "outputs": [
        {
          "output_type": "execute_result",
          "data": {
            "text/plain": [
              "(3, torch.Size([2, 3, 4]))"
            ]
          },
          "metadata": {},
          "execution_count": 30
        }
      ]
    },
    {
      "cell_type": "code",
      "source": [
        "s.shape[0] # = s.shape[-3]"
      ],
      "metadata": {
        "colab": {
          "base_uri": "https://localhost:8080/"
        },
        "id": "H3aePcaGiAJe",
        "outputId": "886a4b46-bece-47b2-c689-71238639b372"
      },
      "execution_count": 32,
      "outputs": [
        {
          "output_type": "execute_result",
          "data": {
            "text/plain": [
              "2"
            ]
          },
          "metadata": {},
          "execution_count": 32
        }
      ]
    },
    {
      "cell_type": "code",
      "source": [
        "s.shape[1] # = s.shape[-2]"
      ],
      "metadata": {
        "colab": {
          "base_uri": "https://localhost:8080/"
        },
        "id": "iiss79sEiSAt",
        "outputId": "cb96f2f3-42dc-4942-ae83-0dece8168a25"
      },
      "execution_count": 33,
      "outputs": [
        {
          "output_type": "execute_result",
          "data": {
            "text/plain": [
              "3"
            ]
          },
          "metadata": {},
          "execution_count": 33
        }
      ]
    },
    {
      "cell_type": "code",
      "source": [
        "s.shape[2] # = s.shape[-1]"
      ],
      "metadata": {
        "colab": {
          "base_uri": "https://localhost:8080/"
        },
        "id": "l7DQ2JWWiVY-",
        "outputId": "24945c19-469a-41b3-c62d-7e2e3c1c07d0"
      },
      "execution_count": 34,
      "outputs": [
        {
          "output_type": "execute_result",
          "data": {
            "text/plain": [
              "4"
            ]
          },
          "metadata": {},
          "execution_count": 34
        }
      ]
    },
    {
      "cell_type": "code",
      "source": [
        "torch.softmax(s,0) # 每一个二维张量就是一类"
      ],
      "metadata": {
        "colab": {
          "base_uri": "https://localhost:8080/"
        },
        "id": "lYGTRjaxiZ7l",
        "outputId": "0bd611db-852e-44bc-fb38-2e75fb69e12a"
      },
      "execution_count": 36,
      "outputs": [
        {
          "output_type": "execute_result",
          "data": {
            "text/plain": [
              "tensor([[[0.0180, 0.0180, 0.5000, 0.5000],\n",
              "         [0.0180, 0.0180, 0.5000, 0.5000],\n",
              "         [0.0180, 0.0180, 0.5000, 0.5000]],\n",
              "\n",
              "        [[0.9820, 0.9820, 0.5000, 0.5000],\n",
              "         [0.9820, 0.9820, 0.5000, 0.5000],\n",
              "         [0.9820, 0.9820, 0.5000, 0.5000]]])"
            ]
          },
          "metadata": {},
          "execution_count": 36
        }
      ]
    },
    {
      "cell_type": "code",
      "source": [
        "torch.softmax(s,1) # 每一行就是一类"
      ],
      "metadata": {
        "colab": {
          "base_uri": "https://localhost:8080/"
        },
        "id": "UtqpGRyliwPO",
        "outputId": "f372987c-486b-4384-f30a-15ad04e45e11"
      },
      "execution_count": 37,
      "outputs": [
        {
          "output_type": "execute_result",
          "data": {
            "text/plain": [
              "tensor([[[0.0159, 0.0159, 0.3333, 0.3333],\n",
              "         [0.1173, 0.1173, 0.3333, 0.3333],\n",
              "         [0.8668, 0.8668, 0.3333, 0.3333]],\n",
              "\n",
              "        [[0.0159, 0.0159, 0.3333, 0.3333],\n",
              "         [0.1173, 0.1173, 0.3333, 0.3333],\n",
              "         [0.8668, 0.8668, 0.3333, 0.3333]]])"
            ]
          },
          "metadata": {},
          "execution_count": 37
        }
      ]
    },
    {
      "cell_type": "code",
      "source": [
        "torch.softmax(s,2) # 每一列就是一类"
      ],
      "metadata": {
        "colab": {
          "base_uri": "https://localhost:8080/"
        },
        "id": "3dOIZe6ajJvd",
        "outputId": "a501fc4f-efff-4f11-c838-0b3834d0cdec"
      },
      "execution_count": 38,
      "outputs": [
        {
          "output_type": "execute_result",
          "data": {
            "text/plain": [
              "tensor([[[0.0128, 0.0347, 0.2562, 0.6964],\n",
              "         [0.0723, 0.1966, 0.1966, 0.5344],\n",
              "         [0.1966, 0.5344, 0.0723, 0.1966]],\n",
              "\n",
              "        [[0.1966, 0.5344, 0.0723, 0.1966],\n",
              "         [0.2562, 0.6964, 0.0128, 0.0347],\n",
              "         [0.2671, 0.7262, 0.0018, 0.0049]]])"
            ]
          },
          "metadata": {},
          "execution_count": 38
        }
      ]
    },
    {
      "cell_type": "markdown",
      "source": [
        "使用nn.Linear与function实现多分类神经网络的正向传播"
      ],
      "metadata": {
        "id": "xIxHrrkHkQYa"
      }
    },
    {
      "cell_type": "code",
      "source": [
        "X = torch.tensor([[0,0],[1,0],[0,1],[1,1]],dtype=torch.float32)\n",
        "torch.random.manual_seed(420)\n",
        "output = torch.nn.Linear(2,3)\n",
        "zhat = output(X)\n",
        "torch.softmax(zhat,1)"
      ],
      "metadata": {
        "colab": {
          "base_uri": "https://localhost:8080/"
        },
        "id": "0pi_NphRjL8m",
        "outputId": "2651433d-a226-4abd-b344-606b93475f07"
      },
      "execution_count": 43,
      "outputs": [
        {
          "output_type": "execute_result",
          "data": {
            "text/plain": [
              "tensor([[0.4623, 0.3494, 0.1883],\n",
              "        [0.4598, 0.4422, 0.0980],\n",
              "        [0.4896, 0.3229, 0.1875],\n",
              "        [0.4902, 0.4115, 0.0983]], grad_fn=<SoftmaxBackward0>)"
            ]
          },
          "metadata": {},
          "execution_count": 43
        }
      ]
    }
  ]
}