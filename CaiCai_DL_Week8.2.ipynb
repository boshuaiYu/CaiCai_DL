{
  "nbformat": 4,
  "nbformat_minor": 0,
  "metadata": {
    "colab": {
      "provenance": [],
      "mount_file_id": "1u2OdR01CiU-drcMCENclH_VcEexU3TNP",
      "authorship_tag": "ABX9TyNv+EVFheLlKXEg5mXPbNzJ",
      "include_colab_link": true
    },
    "kernelspec": {
      "name": "python3",
      "display_name": "Python 3"
    },
    "language_info": {
      "name": "python"
    }
  },
  "cells": [
    {
      "cell_type": "markdown",
      "metadata": {
        "id": "view-in-github",
        "colab_type": "text"
      },
      "source": [
        "<a href=\"https://colab.research.google.com/github/boshuaiYu/CaiCai_DL/blob/main/CaiCai_DL_Week8.2.ipynb\" target=\"_parent\"><img src=\"https://colab.research.google.com/assets/colab-badge.svg\" alt=\"Open In Colab\"/></a>"
      ]
    },
    {
      "cell_type": "markdown",
      "source": [
        "# **构筑自己的卷积神经网络模型**"
      ],
      "metadata": {
        "id": "d6FVB4_Uknwp"
      }
    },
    {
      "cell_type": "markdown",
      "source": [
        "## **VGG16的复现**"
      ],
      "metadata": {
        "id": "WsNIEVF_sIK4"
      }
    },
    {
      "cell_type": "code",
      "execution_count": null,
      "metadata": {
        "id": "kqmTYy4PklMR"
      },
      "outputs": [],
      "source": [
        "import torch\n",
        "from torch import nn,optim"
      ]
    },
    {
      "cell_type": "code",
      "source": [
        "data = torch.ones(size=(100,3,224,224))"
      ],
      "metadata": {
        "id": "CzFsLRTavYZu"
      },
      "execution_count": null,
      "outputs": []
    },
    {
      "cell_type": "code",
      "source": [
        "class VGG16(nn.Module):\n",
        "  def __init__(self):\n",
        "    super(VGG16,self).__init__()\n",
        "    # block1\n",
        "    self.conv1 = nn.Conv2d(3,64,kernel_size=3,stride=1,padding=1)\n",
        "    self.conv2 = nn.Conv2d(64,64,3,stride=1,padding=1)\n",
        "    self.pool1 = nn.MaxPool2d(2)\n",
        "    # block2\n",
        "    self.conv3 = nn.Conv2d(64,128,kernel_size=3,stride=1,padding=1)\n",
        "    self.conv4 = nn.Conv2d(128,128,kernel_size=3,stride=1,padding=1)\n",
        "    self.pool2 = nn.MaxPool2d(2)\n",
        "    # block3\n",
        "    self.conv5 = nn.Conv2d(128,256,kernel_size=3,stride=1,padding=1)\n",
        "    self.conv6 = nn.Conv2d(256,256,kernel_size=3,stride=1,padding=1)\n",
        "    self.conv7 = nn.Conv2d(256,256,kernel_size=3,stride=1,padding=1)\n",
        "    self.pool3 = nn.MaxPool2d(2)\n",
        "    # block4\n",
        "    self.conv8 = nn.Conv2d(256,512,kernel_size=3,stride=1,padding=1)\n",
        "    self.conv9 = nn.Conv2d(512,512,kernel_size=3,stride=1,padding=1)\n",
        "    self.conv10 = nn.Conv2d(512,512,kernel_size=3,stride=1,padding=1)\n",
        "    self.pool4 = nn.MaxPool2d(2)\n",
        "    # block5\n",
        "    self.conv11 = nn.Conv2d(512,512,kernel_size=3,stride=1,padding=1)\n",
        "    self.conv12 = nn.Conv2d(512,512,kernel_size=3,stride=1,padding=1)\n",
        "    self.conv13 = nn.Conv2d(512,512,kernel_size=3,stride=1,padding=1)\n",
        "    self.pool5 = nn.MaxPool2d(2)\n",
        "    # FC层\n",
        "    self.fc1 = nn.Linear(7*7*512,4096)\n",
        "    self.fc2 = nn.Linear(4096,4096)\n",
        "    self.fc3 = nn.Linear(4096,10)\n",
        "    self.dropout = nn.Dropout(p=0.5)\n",
        "\n",
        "  def forward(self,x):\n",
        "    # block1\n",
        "    x = torch.relu(self.conv1(x))\n",
        "    x = torch.relu(self.conv2(x))\n",
        "    x = self.pool1(x)\n",
        "    # block2\n",
        "    x = torch.relu(self.conv3(x))\n",
        "    x = torch.relu(self.conv4(x))\n",
        "    x = self.pool2(x)\n",
        "    # block3\n",
        "    x = torch.relu(self.conv5(x))\n",
        "    x = torch.relu(self.conv6(x))\n",
        "    x = torch.relu(self.conv7(x))\n",
        "    x = self.pool3(x)\n",
        "    # block4\n",
        "    x = torch.relu(self.conv8(x))\n",
        "    x = torch.relu(self.conv9(x))\n",
        "    x = torch.relu(self.conv10(x))\n",
        "    x = self.pool4(x)\n",
        "    # block5\n",
        "    x = torch.relu(self.conv11(x))\n",
        "    x = torch.relu(self.conv12(x))\n",
        "    x = torch.relu(self.conv13(x))\n",
        "    x = self.pool5(x)\n",
        "    # FC层\n",
        "    x = x.reshape(-1,7*7*512)\n",
        "    x = torch.relu(self.fc1(self.dropout(x)))\n",
        "    x = torch.relu(self.fc2(self.dropout(x)))\n",
        "    out = torch.softmax(self.fc3(x),1)"
      ],
      "metadata": {
        "id": "IhZe1f-uvlZt"
      },
      "execution_count": null,
      "outputs": []
    },
    {
      "cell_type": "code",
      "source": [
        "net = VGG16()"
      ],
      "metadata": {
        "id": "Bm9KZ1xN0HCv"
      },
      "execution_count": null,
      "outputs": []
    },
    {
      "cell_type": "code",
      "source": [
        "!pip install torchinfo"
      ],
      "metadata": {
        "colab": {
          "base_uri": "https://localhost:8080/"
        },
        "id": "_PN0fwWy0TR8",
        "outputId": "ffa88706-37c8-4847-c4f3-743a0f52fb33"
      },
      "execution_count": null,
      "outputs": [
        {
          "output_type": "stream",
          "name": "stdout",
          "text": [
            "Looking in indexes: https://pypi.org/simple, https://us-python.pkg.dev/colab-wheels/public/simple/\n",
            "Collecting torchinfo\n",
            "  Downloading torchinfo-1.7.1-py3-none-any.whl (22 kB)\n",
            "Installing collected packages: torchinfo\n",
            "Successfully installed torchinfo-1.7.1\n"
          ]
        }
      ]
    },
    {
      "cell_type": "code",
      "source": [
        "from torchinfo import summary"
      ],
      "metadata": {
        "id": "R-zmAR1s1U8N"
      },
      "execution_count": null,
      "outputs": []
    },
    {
      "cell_type": "code",
      "source": [
        "summary(net,input_size=(10,3,224,224),device=\"cpu\")"
      ],
      "metadata": {
        "colab": {
          "base_uri": "https://localhost:8080/"
        },
        "id": "6dLpJq5S1ZFU",
        "outputId": "fe1ed96f-787a-4e6c-e958-64f5963afddd"
      },
      "execution_count": null,
      "outputs": [
        {
          "output_type": "execute_result",
          "data": {
            "text/plain": [
              "==========================================================================================\n",
              "Layer (type:depth-idx)                   Output Shape              Param #\n",
              "==========================================================================================\n",
              "VGG16                                    --                        --\n",
              "├─Conv2d: 1-1                            [10, 64, 224, 224]        1,792\n",
              "├─Conv2d: 1-2                            [10, 64, 224, 224]        36,928\n",
              "├─MaxPool2d: 1-3                         [10, 64, 112, 112]        --\n",
              "├─Conv2d: 1-4                            [10, 128, 112, 112]       73,856\n",
              "├─Conv2d: 1-5                            [10, 128, 112, 112]       147,584\n",
              "├─MaxPool2d: 1-6                         [10, 128, 56, 56]         --\n",
              "├─Conv2d: 1-7                            [10, 256, 56, 56]         295,168\n",
              "├─Conv2d: 1-8                            [10, 256, 56, 56]         590,080\n",
              "├─Conv2d: 1-9                            [10, 256, 56, 56]         590,080\n",
              "├─MaxPool2d: 1-10                        [10, 256, 28, 28]         --\n",
              "├─Conv2d: 1-11                           [10, 512, 28, 28]         1,180,160\n",
              "├─Conv2d: 1-12                           [10, 512, 28, 28]         2,359,808\n",
              "├─Conv2d: 1-13                           [10, 512, 28, 28]         2,359,808\n",
              "├─MaxPool2d: 1-14                        [10, 512, 14, 14]         --\n",
              "├─Conv2d: 1-15                           [10, 512, 14, 14]         2,359,808\n",
              "├─Conv2d: 1-16                           [10, 512, 14, 14]         2,359,808\n",
              "├─Conv2d: 1-17                           [10, 512, 14, 14]         2,359,808\n",
              "├─MaxPool2d: 1-18                        [10, 512, 7, 7]           --\n",
              "├─Dropout: 1-19                          [10, 25088]               --\n",
              "├─Linear: 1-20                           [10, 4096]                102,764,544\n",
              "├─Dropout: 1-21                          [10, 4096]                --\n",
              "├─Linear: 1-22                           [10, 4096]                16,781,312\n",
              "├─Linear: 1-23                           [10, 10]                  40,970\n",
              "==========================================================================================\n",
              "Total params: 134,301,514\n",
              "Trainable params: 134,301,514\n",
              "Non-trainable params: 0\n",
              "Total mult-adds (G): 154.80\n",
              "==========================================================================================\n",
              "Input size (MB): 6.02\n",
              "Forward/backward pass size (MB): 1084.46\n",
              "Params size (MB): 537.21\n",
              "Estimated Total Size (MB): 1627.68\n",
              "=========================================================================================="
            ]
          },
          "metadata": {},
          "execution_count": 25
        }
      ]
    },
    {
      "cell_type": "markdown",
      "source": [
        "每一层的感受野计算公式：\n",
        "<font color=\"orange\">这一层的感受野 = 上一层的感受野+(这一层的核尺寸-1)*连乘(从最初的一层到上一层的步长)"
      ],
      "metadata": {
        "id": "DqWcm6vTU-H3"
      }
    },
    {
      "cell_type": "markdown",
      "source": [
        "### **用receptive_field自动计算感受野大小**"
      ],
      "metadata": {
        "id": "2GS1WOWgaqgP"
      }
    },
    {
      "cell_type": "code",
      "source": [
        "import sys\n",
        "sys.path.append(\"/content/drive/MyDrive\")"
      ],
      "metadata": {
        "id": "UpCvBT2h1gpV"
      },
      "execution_count": null,
      "outputs": []
    },
    {
      "cell_type": "code",
      "source": [
        "from torch_receptive_field import receptive_field"
      ],
      "metadata": {
        "id": "fmBp7_dtXs2g"
      },
      "execution_count": null,
      "outputs": []
    },
    {
      "cell_type": "code",
      "source": [
        "data = torch.ones(size=(10,1,32,32))"
      ],
      "metadata": {
        "id": "qaUR8kMaaQfx"
      },
      "execution_count": null,
      "outputs": []
    },
    {
      "cell_type": "code",
      "source": [
        "class LeNet5(nn.Module):\n",
        "   def __init__(self):\n",
        "     super(LeNet5,self).__init__()\n",
        "     self.conv1 = nn.Conv2d(1,6,5)\n",
        "     self.pool1 = nn.MaxPool2d(kernel_size=2,stride=2) # nn.Avgpool2d(2)\n",
        "     self.conv2 = nn.Conv2d(6,16,5)\n",
        "     self.pool2 = nn.MaxPool2d(kernel_size=2,stride=2) # nn.Avgpool2d(2)\n",
        "     # self.fc1 = nn.Linear(5*5*16,120)\n",
        "     # self.fc2 = nn.Linear(120,84)\n",
        "\n",
        "   def forward(self,x):\n",
        "     x = torch.tanh(self.conv1(x))\n",
        "     x = self.pool1(x)\n",
        "     x = torch.tanh(self.conv2(x))\n",
        "     x = self.pool2(x)\n",
        "     x = x.view(-1,5*5*16)\n",
        "     # x = torch.tanh(self.fc1(x))\n",
        "     out = torch.softmax(x,dim=1)"
      ],
      "metadata": {
        "id": "O-_HWpHWXx05"
      },
      "execution_count": null,
      "outputs": []
    },
    {
      "cell_type": "code",
      "source": [
        "net1 = LeNet5()\n",
        "net1(data)"
      ],
      "metadata": {
        "id": "ycn1EUX8YLN7"
      },
      "execution_count": null,
      "outputs": []
    },
    {
      "cell_type": "code",
      "source": [
        "receptive = receptive_field(net1,(1,32,32))"
      ],
      "metadata": {
        "colab": {
          "base_uri": "https://localhost:8080/"
        },
        "id": "2P6NzLzeYxJa",
        "outputId": "93ebbe58-582c-41e7-a758-400573160217"
      },
      "execution_count": null,
      "outputs": [
        {
          "output_type": "stream",
          "name": "stdout",
          "text": [
            "------------------------------------------------------------------------------\n",
            "        Layer (type)    map size      start       jump receptive_field \n",
            "==============================================================================\n",
            "        0               [32, 32]        0.5        1.0             1.0 \n",
            "        1               [28, 28]        2.5        1.0             5.0 \n",
            "        2               [14, 14]        3.0        2.0             6.0 \n",
            "        3               [10, 10]        7.0        2.0            14.0 \n",
            "        4                 [5, 5]        8.0        4.0            16.0 \n",
            "==============================================================================\n"
          ]
        }
      ]
    },
    {
      "cell_type": "code",
      "source": [
        "import torch\n",
        "from torch import nn"
      ],
      "metadata": {
        "id": "Pq0gHHNRU_vL"
      },
      "execution_count": null,
      "outputs": []
    },
    {
      "cell_type": "code",
      "source": [
        "conv1 = nn.Conv2d(3,6,3) # 3*3*3*6+6=168\n",
        "conv2 = nn.Conv2d(6,4,3) # 3*3*6*4+4=220"
      ],
      "metadata": {
        "id": "2tWnWyFWPAVj"
      },
      "execution_count": null,
      "outputs": []
    },
    {
      "cell_type": "code",
      "source": [
        "conv1.weight.numel()"
      ],
      "metadata": {
        "colab": {
          "base_uri": "https://localhost:8080/"
        },
        "id": "Nf7GKVS4PNfz",
        "outputId": "17c67c64-a933-45e5-f557-6cc046127dd7"
      },
      "execution_count": null,
      "outputs": [
        {
          "output_type": "execute_result",
          "data": {
            "text/plain": [
              "162"
            ]
          },
          "metadata": {},
          "execution_count": 8
        }
      ]
    },
    {
      "cell_type": "code",
      "source": [
        "conv1.bias.numel()"
      ],
      "metadata": {
        "colab": {
          "base_uri": "https://localhost:8080/"
        },
        "id": "YdrGn4xHPP2V",
        "outputId": "e706030a-f9a0-4eb7-9a6a-35a26b468c98"
      },
      "execution_count": null,
      "outputs": [
        {
          "output_type": "execute_result",
          "data": {
            "text/plain": [
              "6"
            ]
          },
          "metadata": {},
          "execution_count": 9
        }
      ]
    },
    {
      "cell_type": "code",
      "source": [
        "conv2.weight.numel()"
      ],
      "metadata": {
        "colab": {
          "base_uri": "https://localhost:8080/"
        },
        "id": "15iAnJjNPfYT",
        "outputId": "0965a7cc-223a-4623-8a89-1770c4cc1f6b"
      },
      "execution_count": null,
      "outputs": [
        {
          "output_type": "execute_result",
          "data": {
            "text/plain": [
              "216"
            ]
          },
          "metadata": {},
          "execution_count": 10
        }
      ]
    },
    {
      "cell_type": "code",
      "source": [
        "conv2.bias.numel()"
      ],
      "metadata": {
        "colab": {
          "base_uri": "https://localhost:8080/"
        },
        "id": "5fCWoPlEPrx7",
        "outputId": "3a34635e-34f9-4659-ed5b-a63a6b617ec4"
      },
      "execution_count": null,
      "outputs": [
        {
          "output_type": "execute_result",
          "data": {
            "text/plain": [
              "4"
            ]
          },
          "metadata": {},
          "execution_count": 11
        }
      ]
    },
    {
      "cell_type": "code",
      "source": [
        "conv1 = nn.Conv2d(4,8,3) # 9*32+8=296\n",
        "conv2 = nn.Conv2d(4,8,3,groups=2) # (9*32)/2+8=152"
      ],
      "metadata": {
        "id": "ucorQEP7Pudt"
      },
      "execution_count": null,
      "outputs": []
    },
    {
      "cell_type": "code",
      "source": [
        "conv1.weight.numel()"
      ],
      "metadata": {
        "colab": {
          "base_uri": "https://localhost:8080/"
        },
        "id": "NliTZOMTwUvU",
        "outputId": "c246b34c-91f6-4eb7-d917-f34d39827941"
      },
      "execution_count": null,
      "outputs": [
        {
          "output_type": "execute_result",
          "data": {
            "text/plain": [
              "288"
            ]
          },
          "metadata": {},
          "execution_count": 4
        }
      ]
    },
    {
      "cell_type": "code",
      "source": [
        "conv1.bias.numel()"
      ],
      "metadata": {
        "colab": {
          "base_uri": "https://localhost:8080/"
        },
        "id": "2gmqhehmwfRz",
        "outputId": "ad9044cc-e26c-4c93-c657-be594b4b57b2"
      },
      "execution_count": null,
      "outputs": [
        {
          "output_type": "execute_result",
          "data": {
            "text/plain": [
              "8"
            ]
          },
          "metadata": {},
          "execution_count": 5
        }
      ]
    },
    {
      "cell_type": "code",
      "source": [
        "conv2.weight.numel()"
      ],
      "metadata": {
        "colab": {
          "base_uri": "https://localhost:8080/"
        },
        "id": "RqeYMm9owiI-",
        "outputId": "087bca96-41e2-4ad0-9847-605cc2747859"
      },
      "execution_count": null,
      "outputs": [
        {
          "output_type": "execute_result",
          "data": {
            "text/plain": [
              "144"
            ]
          },
          "metadata": {},
          "execution_count": 8
        }
      ]
    },
    {
      "cell_type": "code",
      "source": [
        "conv2.bias.numel()"
      ],
      "metadata": {
        "colab": {
          "base_uri": "https://localhost:8080/"
        },
        "id": "Bw-Qa31kwkMu",
        "outputId": "bb5d96b3-226a-44af-95b5-044039fb033e"
      },
      "execution_count": null,
      "outputs": [
        {
          "output_type": "execute_result",
          "data": {
            "text/plain": [
              "8"
            ]
          },
          "metadata": {},
          "execution_count": 9
        }
      ]
    },
    {
      "cell_type": "code",
      "source": [
        "# 普通卷积 = (ksh * ksw)*c_in*c_out\n",
        "# 深度可分离卷积 = (ksh * ksw)*c_in_depth + c_in_pair * c_out_pair\n",
        "# 比例 = 1/c_in_depth + c_out_pair/(ksh * ksw)*c_in_depth"
      ],
      "metadata": {
        "id": "5gYf66pMwo1u"
      },
      "execution_count": null,
      "outputs": []
    },
    {
      "cell_type": "code",
      "source": [
        "conv1 = nn.Conv2d(4,8,3,bias=False) # 3*3*4*8=288"
      ],
      "metadata": {
        "id": "bcWVWobnzn3n"
      },
      "execution_count": null,
      "outputs": []
    },
    {
      "cell_type": "code",
      "source": [
        "conv1_depthwise = nn.Conv2d(4,8,3,groups=4,bias=False) # 1/4*288=72\n",
        "conv11_pairwise = nn.Conv2d(8,8,1,bias=False) # 8*8=64\n",
        "# ratio = 1/4 + 8/(3*3*4)= 0.4722222222222222"
      ],
      "metadata": {
        "id": "pwfIdSy8ztlc"
      },
      "execution_count": null,
      "outputs": []
    },
    {
      "cell_type": "code",
      "source": [
        "from torch.nn import functional as F"
      ],
      "metadata": {
        "id": "_Nnxd2V58fx5"
      },
      "execution_count": null,
      "outputs": []
    },
    {
      "cell_type": "code",
      "source": [
        "!pip install torchinfo"
      ],
      "metadata": {
        "colab": {
          "base_uri": "https://localhost:8080/"
        },
        "id": "QBKw0kxj-LE7",
        "outputId": "b2b61b99-6236-440a-96a3-9eb6171e2c9e"
      },
      "execution_count": null,
      "outputs": [
        {
          "output_type": "stream",
          "name": "stdout",
          "text": [
            "Looking in indexes: https://pypi.org/simple, https://us-python.pkg.dev/colab-wheels/public/simple/\n",
            "Collecting torchinfo\n",
            "  Downloading torchinfo-1.7.1-py3-none-any.whl (22 kB)\n",
            "Installing collected packages: torchinfo\n",
            "Successfully installed torchinfo-1.7.1\n"
          ]
        }
      ]
    },
    {
      "cell_type": "code",
      "source": [
        "from torchinfo import summary"
      ],
      "metadata": {
        "id": "Wcbybxrf-Oxs"
      },
      "execution_count": null,
      "outputs": []
    },
    {
      "cell_type": "code",
      "source": [
        "data = torch.ones(size=(10,3,229,229))\n",
        "class Model(nn.Module):\n",
        "  def __init__(self):\n",
        "    super().__init__()\n",
        "    #block1\n",
        "    self.conv1 = nn.Conv2d(3,6,3)\n",
        "    self.conv2 = nn.Conv2d(6,4,3)\n",
        "    self.pool1 = nn.MaxPool2d(2)\n",
        "    #block2\n",
        "    self.conv3 = nn.Conv2d(4,16,5,stride=2,padding=1)\n",
        "    self.conv4 = nn.Conv2d(16,3,5,stride=3,padding=2)\n",
        "    self.pool2 = nn.MaxPool2d(2)\n",
        "    #FC层\n",
        "    self.linear1 = nn.Linear(9*9*3,256)\n",
        "    self.linear2 = nn.Linear(256,256)\n",
        "    self.linear3 = nn.Linear(256,10)\n",
        "  def forward(self,x):\n",
        "    x = F.relu(self.conv1(x))\n",
        "    x = self.pool1(F.relu(self.conv2(x)))\n",
        "    x = F.relu(self.conv3(x))\n",
        "    x = self.pool2(F.relu(self.conv4(x)))\n",
        "    x = x.view(-1,9*9*3)\n",
        "    x = F.relu(self.linear1(F.dropout(x,p=0.5)))\n",
        "    x = F.relu(self.linear2(F.dropout(x,p=0.5)))\n",
        "    output = F.softmax(self.linear3(x),dim=1)"
      ],
      "metadata": {
        "id": "9DF6KFFxz5Vd"
      },
      "execution_count": null,
      "outputs": []
    },
    {
      "cell_type": "code",
      "source": [
        "net = Model()"
      ],
      "metadata": {
        "id": "Iy3k7J3f0iMN"
      },
      "execution_count": null,
      "outputs": []
    },
    {
      "cell_type": "code",
      "source": [
        "summary(net,input_size=(10,3,229,229))"
      ],
      "metadata": {
        "colab": {
          "base_uri": "https://localhost:8080/"
        },
        "id": "VlffWMAc-ThY",
        "outputId": "b6985989-005b-4df3-c2fd-c61b876fcf07"
      },
      "execution_count": null,
      "outputs": [
        {
          "output_type": "execute_result",
          "data": {
            "text/plain": [
              "==========================================================================================\n",
              "Layer (type:depth-idx)                   Output Shape              Param #\n",
              "==========================================================================================\n",
              "Model                                    --                        --\n",
              "├─Conv2d: 1-1                            [10, 6, 227, 227]         168\n",
              "├─Conv2d: 1-2                            [10, 4, 225, 225]         220\n",
              "├─MaxPool2d: 1-3                         [10, 4, 112, 112]         --\n",
              "├─Conv2d: 1-4                            [10, 16, 55, 55]          1,616\n",
              "├─Conv2d: 1-5                            [10, 3, 19, 19]           1,203\n",
              "├─MaxPool2d: 1-6                         [10, 3, 9, 9]             --\n",
              "├─Linear: 1-7                            [10, 256]                 62,464\n",
              "├─Linear: 1-8                            [10, 256]                 65,792\n",
              "├─Linear: 1-9                            [10, 10]                  2,570\n",
              "==========================================================================================\n",
              "Total params: 134,033\n",
              "Trainable params: 134,033\n",
              "Non-trainable params: 0\n",
              "Total mult-adds (M): 252.48\n",
              "==========================================================================================\n",
              "Input size (MB): 6.29\n",
              "Forward/backward pass size (MB): 44.93\n",
              "Params size (MB): 0.54\n",
              "Estimated Total Size (MB): 51.76\n",
              "=========================================================================================="
            ]
          },
          "metadata": {},
          "execution_count": 25
        }
      ]
    },
    {
      "cell_type": "markdown",
      "source": [
        "## **nn.Sequential构建神经网络写法(类似于pipeline)**"
      ],
      "metadata": {
        "id": "srAkYwtw_Tk1"
      }
    },
    {
      "cell_type": "code",
      "source": [
        "data = torch.ones(size=(10,3,229,229))"
      ],
      "metadata": {
        "id": "k1SjneiP_TTX"
      },
      "execution_count": null,
      "outputs": []
    },
    {
      "cell_type": "code",
      "source": [
        "net = nn.Sequential(\n",
        "            nn.Conv2d(3,6,3)\n",
        "            ,nn.ReLU(inplace=True)\n",
        "            ,nn.Conv2d(6,4,3)\n",
        "            ,nn.ReLU(inplace=True)\n",
        "            ,nn.MaxPool2d(2)\n",
        "            ,nn.Conv2d(4,16,5,stride=2,padding=1)\n",
        "            ,nn.ReLU(inplace=True)\n",
        "            ,nn.Conv2d(16,3,5,stride=3,padding=2)\n",
        "            ,nn.ReLU(inplace=True)\n",
        "            ,nn.MaxPool2d(2) \n",
        ")"
      ],
      "metadata": {
        "id": "XX_Gc4ZB8xhk"
      },
      "execution_count": null,
      "outputs": []
    },
    {
      "cell_type": "code",
      "source": [
        "net(data).shape # 卷积+池化操作之后的特征图尺寸的大小及特征图的数目"
      ],
      "metadata": {
        "colab": {
          "base_uri": "https://localhost:8080/"
        },
        "id": "QMQjZxuz8zKM",
        "outputId": "22bc0ac1-4323-4660-d637-ff2915998200"
      },
      "execution_count": null,
      "outputs": [
        {
          "output_type": "execute_result",
          "data": {
            "text/plain": [
              "torch.Size([10, 3, 9, 9])"
            ]
          },
          "metadata": {},
          "execution_count": 34
        }
      ]
    },
    {
      "cell_type": "code",
      "source": [
        "import sys\n",
        "sys.path.append(\"/content/drive/MyDrive\")\n",
        "from torch_receptive_field import receptive_field"
      ],
      "metadata": {
        "id": "lVIimnMyAqdr"
      },
      "execution_count": null,
      "outputs": []
    },
    {
      "cell_type": "code",
      "source": [
        "rfdict = receptive_field(net,(3,229,229))"
      ],
      "metadata": {
        "colab": {
          "base_uri": "https://localhost:8080/"
        },
        "id": "tLKQ0Zr8CCGS",
        "outputId": "99b89d18-909d-4da7-9f26-da70e4fbaa71"
      },
      "execution_count": null,
      "outputs": [
        {
          "output_type": "stream",
          "name": "stdout",
          "text": [
            "------------------------------------------------------------------------------\n",
            "        Layer (type)    map size      start       jump receptive_field \n",
            "==============================================================================\n",
            "        0             [229, 229]        0.5        1.0             1.0 \n",
            "        1             [227, 227]        1.5        1.0             3.0 \n",
            "        2             [227, 227]        1.5        1.0             3.0 \n",
            "        3             [225, 225]        2.5        1.0             5.0 \n",
            "        4             [225, 225]        2.5        1.0             5.0 \n",
            "        5             [112, 112]        3.0        2.0             6.0 \n",
            "        6               [55, 55]        5.0        4.0            14.0 \n",
            "        7               [55, 55]        5.0        4.0            14.0 \n",
            "        8               [19, 19]        5.0       12.0            30.0 \n",
            "        9               [19, 19]        5.0       12.0            30.0 \n",
            "        10                [9, 9]       11.0       24.0            42.0 \n",
            "==============================================================================\n"
          ]
        }
      ]
    },
    {
      "cell_type": "code",
      "source": [
        "class VGG16(nn.Module):\n",
        "  def __init__(self):\n",
        "    super(VGG16,self).__init__()\n",
        "    self.features_ = nn.Sequential(nn.Conv2d(3,64,3,padding=1),nn.ReLU(inplace=True)\n",
        "                    ,nn.Conv2d(64,64,3,padding=1),nn.ReLU(inplace=True)\n",
        "                    ,nn.MaxPool2d(2)\n",
        "                    \n",
        "                    ,nn.Conv2d(64,128,3,padding=1),nn.ReLU(inplace=True)\n",
        "                    ,nn.Conv2d(128,128,3,padding=1),nn.ReLU(inplace=True)\n",
        "                    ,nn.MaxPool2d(2)\n",
        "                    \n",
        "                    ,nn.Conv2d(128,256,3,padding=1),nn.ReLU(inplace=True)\n",
        "                    ,nn.Conv2d(256,256,3,padding=1),nn.ReLU(inplace=True)\n",
        "                    ,nn.Conv2d(256,256,3,padding=1),nn.ReLU(inplace=True)\n",
        "                    ,nn.MaxPool2d(2)\n",
        "\n",
        "                    ,nn.Conv2d(256,512,3,padding=1),nn.ReLU(inplace=True)\n",
        "                    ,nn.Conv2d(512,512,3,padding=1),nn.ReLU(inplace=True)\n",
        "                    ,nn.Conv2d(512,512,3,padding=1),nn.ReLU(inplace=True)\n",
        "                    ,nn.MaxPool2d(2)\n",
        "                    \n",
        "                    ,nn.Conv2d(512,512,3,padding=1),nn.ReLU(inplace=True)\n",
        "                    ,nn.Conv2d(512,512,3,padding=1),nn.ReLU(inplace=True)\n",
        "                    ,nn.Conv2d(512,512,3,padding=1),nn.ReLU(inplace=True)\n",
        "                    ,nn.MaxPool2d(2)\n",
        "                    )\n",
        "    self.clf_ = nn.Sequential(nn.Dropout(0.5)\n",
        "                  ,nn.Linear(512*7*7,4096),nn.ReLU(inplace=True)\n",
        "                  ,nn.Dropout(0.5)\n",
        "                  ,nn.Linear(4096,4096),nn.ReLU(inplace=True)\n",
        "                  ,nn.Linear(4096,1000),nn.Softmax(dim=1)\n",
        "                  )\n",
        "  def forward(self,x):\n",
        "    x = self.features_(x) # 用特征提取的架构提取特征\n",
        "    x = x.view(-1,512*7*7) # 调整数据结构，拉平数据\n",
        "    output = self.clf_(x)\n",
        "    return output"
      ],
      "metadata": {
        "id": "5MRo1VBqCIva"
      },
      "execution_count": null,
      "outputs": []
    },
    {
      "cell_type": "code",
      "source": [
        "vgg = VGG16()"
      ],
      "metadata": {
        "id": "sQ8BaMScHavg"
      },
      "execution_count": null,
      "outputs": []
    },
    {
      "cell_type": "code",
      "source": [
        "summary(vgg,input_size=(10,3,229,229),device=\"cpu\")"
      ],
      "metadata": {
        "colab": {
          "base_uri": "https://localhost:8080/"
        },
        "id": "CPGPgbNvHd0k",
        "outputId": "63e666de-40f2-4902-faf7-360c879e0b99"
      },
      "execution_count": null,
      "outputs": [
        {
          "output_type": "execute_result",
          "data": {
            "text/plain": [
              "==========================================================================================\n",
              "Layer (type:depth-idx)                   Output Shape              Param #\n",
              "==========================================================================================\n",
              "VGG16                                    [10, 1000]                --\n",
              "├─Sequential: 1-1                        [10, 512, 7, 7]           --\n",
              "│    └─Conv2d: 2-1                       [10, 64, 229, 229]        1,792\n",
              "│    └─ReLU: 2-2                         [10, 64, 229, 229]        --\n",
              "│    └─Conv2d: 2-3                       [10, 64, 229, 229]        36,928\n",
              "│    └─ReLU: 2-4                         [10, 64, 229, 229]        --\n",
              "│    └─MaxPool2d: 2-5                    [10, 64, 114, 114]        --\n",
              "│    └─Conv2d: 2-6                       [10, 128, 114, 114]       73,856\n",
              "│    └─ReLU: 2-7                         [10, 128, 114, 114]       --\n",
              "│    └─Conv2d: 2-8                       [10, 128, 114, 114]       147,584\n",
              "│    └─ReLU: 2-9                         [10, 128, 114, 114]       --\n",
              "│    └─MaxPool2d: 2-10                   [10, 128, 57, 57]         --\n",
              "│    └─Conv2d: 2-11                      [10, 256, 57, 57]         295,168\n",
              "│    └─ReLU: 2-12                        [10, 256, 57, 57]         --\n",
              "│    └─Conv2d: 2-13                      [10, 256, 57, 57]         590,080\n",
              "│    └─ReLU: 2-14                        [10, 256, 57, 57]         --\n",
              "│    └─Conv2d: 2-15                      [10, 256, 57, 57]         590,080\n",
              "│    └─ReLU: 2-16                        [10, 256, 57, 57]         --\n",
              "│    └─MaxPool2d: 2-17                   [10, 256, 28, 28]         --\n",
              "│    └─Conv2d: 2-18                      [10, 512, 28, 28]         1,180,160\n",
              "│    └─ReLU: 2-19                        [10, 512, 28, 28]         --\n",
              "│    └─Conv2d: 2-20                      [10, 512, 28, 28]         2,359,808\n",
              "│    └─ReLU: 2-21                        [10, 512, 28, 28]         --\n",
              "│    └─Conv2d: 2-22                      [10, 512, 28, 28]         2,359,808\n",
              "│    └─ReLU: 2-23                        [10, 512, 28, 28]         --\n",
              "│    └─MaxPool2d: 2-24                   [10, 512, 14, 14]         --\n",
              "│    └─Conv2d: 2-25                      [10, 512, 14, 14]         2,359,808\n",
              "│    └─ReLU: 2-26                        [10, 512, 14, 14]         --\n",
              "│    └─Conv2d: 2-27                      [10, 512, 14, 14]         2,359,808\n",
              "│    └─ReLU: 2-28                        [10, 512, 14, 14]         --\n",
              "│    └─Conv2d: 2-29                      [10, 512, 14, 14]         2,359,808\n",
              "│    └─ReLU: 2-30                        [10, 512, 14, 14]         --\n",
              "│    └─MaxPool2d: 2-31                   [10, 512, 7, 7]           --\n",
              "├─Sequential: 1-2                        [10, 1000]                --\n",
              "│    └─Dropout: 2-32                     [10, 25088]               --\n",
              "│    └─Linear: 2-33                      [10, 4096]                102,764,544\n",
              "│    └─ReLU: 2-34                        [10, 4096]                --\n",
              "│    └─Dropout: 2-35                     [10, 4096]                --\n",
              "│    └─Linear: 2-36                      [10, 4096]                16,781,312\n",
              "│    └─ReLU: 2-37                        [10, 4096]                --\n",
              "│    └─Linear: 2-38                      [10, 1000]                4,097,000\n",
              "│    └─Softmax: 2-39                     [10, 1000]                --\n",
              "==========================================================================================\n",
              "Total params: 138,357,544\n",
              "Trainable params: 138,357,544\n",
              "Non-trainable params: 0\n",
              "Total mult-adds (G): 158.38\n",
              "==========================================================================================\n",
              "Input size (MB): 6.29\n",
              "Forward/backward pass size (MB): 1123.93\n",
              "Params size (MB): 553.43\n",
              "Estimated Total Size (MB): 1683.65\n",
              "=========================================================================================="
            ]
          },
          "metadata": {},
          "execution_count": 47
        }
      ]
    },
    {
      "cell_type": "code",
      "source": [
        "net = nn.Sequential(nn.Conv2d(3,64,3,padding=1),nn.ReLU(inplace=True)\n",
        "                    ,nn.Conv2d(64,64,3,padding=1),nn.ReLU(inplace=True)\n",
        "                    ,nn.MaxPool2d(2)\n",
        "                    \n",
        "                    ,nn.Conv2d(64,128,3,padding=1),nn.ReLU(inplace=True)\n",
        "                    ,nn.Conv2d(128,128,3,padding=1),nn.ReLU(inplace=True)\n",
        "                    ,nn.MaxPool2d(2)\n",
        "                    \n",
        "                    ,nn.Conv2d(128,256,3,padding=1),nn.ReLU(inplace=True)\n",
        "                    ,nn.Conv2d(256,256,3,padding=1),nn.ReLU(inplace=True)\n",
        "                    ,nn.Conv2d(256,256,3,padding=1),nn.ReLU(inplace=True)\n",
        "                    ,nn.MaxPool2d(2)\n",
        "\n",
        "                    ,nn.Conv2d(256,512,3,padding=1),nn.ReLU(inplace=True)\n",
        "                    ,nn.Conv2d(512,512,3,padding=1),nn.ReLU(inplace=True)\n",
        "                    ,nn.Conv2d(512,512,3,padding=1),nn.ReLU(inplace=True)\n",
        "                    ,nn.MaxPool2d(2)\n",
        "                    \n",
        "                    ,nn.Conv2d(512,512,3,padding=1),nn.ReLU(inplace=True)\n",
        "                    ,nn.Conv2d(512,512,3,padding=1),nn.ReLU(inplace=True)\n",
        "                    ,nn.Conv2d(512,512,3,padding=1),nn.ReLU(inplace=True)\n",
        "                    ,nn.MaxPool2d(2)\n",
        "                    )"
      ],
      "metadata": {
        "id": "uUvm0IL3F8S8"
      },
      "execution_count": null,
      "outputs": []
    },
    {
      "cell_type": "code",
      "source": [
        "data = torch.ones(size=(10,3,224,224))"
      ],
      "metadata": {
        "id": "r12tCCP6GAcC"
      },
      "execution_count": null,
      "outputs": []
    },
    {
      "cell_type": "code",
      "source": [
        "net(data).shape # 512个特征图，特征图尺寸为7*7"
      ],
      "metadata": {
        "colab": {
          "base_uri": "https://localhost:8080/"
        },
        "id": "tzz5WFzLGFaZ",
        "outputId": "b06efe1e-2361-4e91-cff8-8876ab3274d8"
      },
      "execution_count": null,
      "outputs": [
        {
          "output_type": "execute_result",
          "data": {
            "text/plain": [
              "torch.Size([10, 512, 7, 7])"
            ]
          },
          "metadata": {},
          "execution_count": 43
        }
      ]
    },
    {
      "cell_type": "markdown",
      "source": [
        "## **NiN网络架构**"
      ],
      "metadata": {
        "id": "q3eAoDOeiXDl"
      }
    },
    {
      "cell_type": "code",
      "source": [
        "!pip install torchinfo"
      ],
      "metadata": {
        "colab": {
          "base_uri": "https://localhost:8080/"
        },
        "id": "8sl6vrEhjPg1",
        "outputId": "748008df-f1f6-4bab-c579-af8e41f30b1d"
      },
      "execution_count": 3,
      "outputs": [
        {
          "output_type": "stream",
          "name": "stdout",
          "text": [
            "Looking in indexes: https://pypi.org/simple, https://us-python.pkg.dev/colab-wheels/public/simple/\n",
            "Collecting torchinfo\n",
            "  Downloading torchinfo-1.7.1-py3-none-any.whl (22 kB)\n",
            "Installing collected packages: torchinfo\n",
            "Successfully installed torchinfo-1.7.1\n"
          ]
        }
      ]
    },
    {
      "cell_type": "code",
      "source": [
        "import torch\n",
        "from torch import nn"
      ],
      "metadata": {
        "id": "tJKbiiCmjE6y"
      },
      "execution_count": 1,
      "outputs": []
    },
    {
      "cell_type": "code",
      "source": [
        "from torchinfo import summary"
      ],
      "metadata": {
        "id": "f-m7wmDDjI_K"
      },
      "execution_count": 4,
      "outputs": []
    },
    {
      "cell_type": "code",
      "source": [
        "data = torch.ones(size=(10,3,32,32))"
      ],
      "metadata": {
        "id": "7QScGwZrjV1E"
      },
      "execution_count": 7,
      "outputs": []
    },
    {
      "cell_type": "code",
      "source": [
        "class NiN(nn.Module):\n",
        "  def __init__(self):\n",
        "    super(NiN,self).__init__()\n",
        "    # block1\n",
        "    self.block1 = nn.Sequential(nn.Conv2d(3,192,5,padding=2),nn.ReLU(inplace=True)\n",
        "                  ,nn.Conv2d(192,160,1),nn.ReLU(inplace=True)\n",
        "                  ,nn.Conv2d(160,96,1),nn.ReLU(inplace=True)\n",
        "                  ,nn.MaxPool2d(3,stride=2),nn.Dropout(p=0.25)) # dropout在卷积层p可以小一点，线性层大一点\n",
        "    # block2\n",
        "    self.block2 = nn.Sequential(nn.Conv2d(96,192,5,padding=2),nn.ReLU(inplace=True)\n",
        "                   ,nn.Conv2d(192,192,1),nn.ReLU(inplace=True)\n",
        "                   ,nn.Conv2d(192,192,1),nn.ReLU(inplace=True)\n",
        "                   ,nn.MaxPool2d(3,stride=2),nn.Dropout(p=0.25))\n",
        "    # block3\n",
        "    self.block3 = nn.Sequential(nn.Conv2d(192,192,3,padding=1),nn.ReLU(inplace=True)\n",
        "                   ,nn.Conv2d(192,192,1),nn.ReLU(inplace=True)\n",
        "                   ,nn.Conv2d(192,10,1),nn.ReLU(inplace=True)\n",
        "                   ,nn.AvgPool2d(7,stride=1),nn.Softmax(dim=1))\n",
        "    \n",
        "  def forward(self,x):\n",
        "    out = self.block3(self.block2(self.block1(x)))\n",
        "    return out\n",
        "\n",
        "net = NiN()"
      ],
      "metadata": {
        "id": "W96qCMAIGaIj"
      },
      "execution_count": 8,
      "outputs": []
    },
    {
      "cell_type": "code",
      "source": [
        "net(data).shape # 10个特征图，每个特征图尺寸是1x1"
      ],
      "metadata": {
        "colab": {
          "base_uri": "https://localhost:8080/"
        },
        "id": "LBrzKh1QjC9Y",
        "outputId": "0933b22a-952c-4360-a12d-392d7491affd"
      },
      "execution_count": 9,
      "outputs": [
        {
          "output_type": "execute_result",
          "data": {
            "text/plain": [
              "torch.Size([10, 10, 1, 1])"
            ]
          },
          "metadata": {},
          "execution_count": 9
        }
      ]
    },
    {
      "cell_type": "code",
      "source": [
        "summary(net,input_size=(10,3,32,32))"
      ],
      "metadata": {
        "colab": {
          "base_uri": "https://localhost:8080/"
        },
        "id": "yUwW_Kn4iT3z",
        "outputId": "86296753-e50b-4610-ef69-060bb094d6ad"
      },
      "execution_count": 10,
      "outputs": [
        {
          "output_type": "execute_result",
          "data": {
            "text/plain": [
              "==========================================================================================\n",
              "Layer (type:depth-idx)                   Output Shape              Param #\n",
              "==========================================================================================\n",
              "NiN                                      [10, 10, 1, 1]            --\n",
              "├─Sequential: 1-1                        [10, 96, 15, 15]          --\n",
              "│    └─Conv2d: 2-1                       [10, 192, 32, 32]         14,592\n",
              "│    └─ReLU: 2-2                         [10, 192, 32, 32]         --\n",
              "│    └─Conv2d: 2-3                       [10, 160, 32, 32]         30,880\n",
              "│    └─ReLU: 2-4                         [10, 160, 32, 32]         --\n",
              "│    └─Conv2d: 2-5                       [10, 96, 32, 32]          15,456\n",
              "│    └─ReLU: 2-6                         [10, 96, 32, 32]          --\n",
              "│    └─MaxPool2d: 2-7                    [10, 96, 15, 15]          --\n",
              "│    └─Dropout: 2-8                      [10, 96, 15, 15]          --\n",
              "├─Sequential: 1-2                        [10, 192, 7, 7]           --\n",
              "│    └─Conv2d: 2-9                       [10, 192, 15, 15]         460,992\n",
              "│    └─ReLU: 2-10                        [10, 192, 15, 15]         --\n",
              "│    └─Conv2d: 2-11                      [10, 192, 15, 15]         37,056\n",
              "│    └─ReLU: 2-12                        [10, 192, 15, 15]         --\n",
              "│    └─Conv2d: 2-13                      [10, 192, 15, 15]         37,056\n",
              "│    └─ReLU: 2-14                        [10, 192, 15, 15]         --\n",
              "│    └─MaxPool2d: 2-15                   [10, 192, 7, 7]           --\n",
              "│    └─Dropout: 2-16                     [10, 192, 7, 7]           --\n",
              "├─Sequential: 1-3                        [10, 10, 1, 1]            --\n",
              "│    └─Conv2d: 2-17                      [10, 192, 7, 7]           331,968\n",
              "│    └─ReLU: 2-18                        [10, 192, 7, 7]           --\n",
              "│    └─Conv2d: 2-19                      [10, 192, 7, 7]           37,056\n",
              "│    └─ReLU: 2-20                        [10, 192, 7, 7]           --\n",
              "│    └─Conv2d: 2-21                      [10, 10, 7, 7]            1,930\n",
              "│    └─ReLU: 2-22                        [10, 10, 7, 7]            --\n",
              "│    └─AvgPool2d: 2-23                   [10, 10, 1, 1]            --\n",
              "│    └─Softmax: 2-24                     [10, 10, 1, 1]            --\n",
              "==========================================================================================\n",
              "Total params: 966,986\n",
              "Trainable params: 966,986\n",
              "Non-trainable params: 0\n",
              "Total mult-adds (G): 2.01\n",
              "==========================================================================================\n",
              "Input size (MB): 0.12\n",
              "Forward/backward pass size (MB): 48.61\n",
              "Params size (MB): 3.87\n",
              "Estimated Total Size (MB): 52.60\n",
              "=========================================================================================="
            ]
          },
          "metadata": {},
          "execution_count": 10
        }
      ]
    }
  ]
}