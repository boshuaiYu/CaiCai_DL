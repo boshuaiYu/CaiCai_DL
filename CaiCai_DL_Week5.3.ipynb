{
  "nbformat": 4,
  "nbformat_minor": 0,
  "metadata": {
    "colab": {
      "provenance": [],
      "mount_file_id": "18C6NaL3NVw11QTRk3HkeuSS1uiT7Md25",
      "authorship_tag": "ABX9TyOus2j3WZJj0HoOofwhBfIo",
      "include_colab_link": true
    },
    "kernelspec": {
      "name": "python3",
      "display_name": "Python 3"
    },
    "language_info": {
      "name": "python"
    }
  },
  "cells": [
    {
      "cell_type": "markdown",
      "metadata": {
        "id": "view-in-github",
        "colab_type": "text"
      },
      "source": [
        "<a href=\"https://colab.research.google.com/github/boshuaiYu/CaiCai_DL/blob/main/CaiCai_DL_Week5.3.ipynb\" target=\"_parent\"><img src=\"https://colab.research.google.com/assets/colab-badge.svg\" alt=\"Open In Colab\"/></a>"
      ]
    },
    {
      "cell_type": "markdown",
      "source": [
        "##**Sigmoid函数的梯度计算问题**"
      ],
      "metadata": {
        "id": "HPCkMu0TFHof"
      }
    },
    {
      "cell_type": "code",
      "execution_count": null,
      "metadata": {
        "id": "9K43FDCLOeLR"
      },
      "outputs": [],
      "source": [
        "import torch\n",
        "from torch import nn,optim\n",
        "import matplotlib.pyplot as plt"
      ]
    },
    {
      "cell_type": "code",
      "source": [
        "X = torch.arange(-5,5,0.1)\n",
        "X.requires_grad = True\n",
        "sigmoid_y = torch.sigmoid(X)"
      ],
      "metadata": {
        "id": "71goGqQvsoxr"
      },
      "execution_count": null,
      "outputs": []
    },
    {
      "cell_type": "code",
      "source": [
        "sigmoid_y.sum().backward()"
      ],
      "metadata": {
        "id": "PAM_WBGes2k4"
      },
      "execution_count": null,
      "outputs": []
    },
    {
      "cell_type": "code",
      "source": [
        "plt.subplot(121)\n",
        "plt.plot(X.detach(),sigmoid_y.detach())\n",
        "plt.title(\"Sigmoid Function\")\n",
        "plt.subplot(122)\n",
        "plt.plot(X.detach(),X.grad.detach())\n",
        "plt.title(\"Sigmoid Derivative function\");"
      ],
      "metadata": {
        "colab": {
          "base_uri": "https://localhost:8080/",
          "height": 281
        },
        "id": "XHoXbVO6s5x4",
        "outputId": "edb51450-6f8c-4e1c-be32-70c514c1e353"
      },
      "execution_count": null,
      "outputs": [
        {
          "output_type": "display_data",
          "data": {
            "text/plain": [
              "<Figure size 432x288 with 2 Axes>"
            ],
            "image/png": "[encoded data removed]"
          },
          "metadata": {
            "needs_background": "light"
          }
        }
      ]
    },
    {
      "cell_type": "code",
      "source": [
        "import sys\n",
        "sys.path.append(\"/content/drive/MyDrive/Colab Notebooks/week4_function\")\n",
        "from torchLearning import *"
      ],
      "metadata": {
        "id": "74Zk03bAtR2J"
      },
      "execution_count": null,
      "outputs": []
    },
    {
      "cell_type": "code",
      "source": [
        "torch.manual_seed(420)\n",
        "\n",
        "features,labels = tensorGenReg(w=[2,-1],bias=True,deg=2)\n",
        "\n",
        "train_loader,test_loader = split_loader(features,labels)"
      ],
      "metadata": {
        "id": "wF8dcs9iuemy"
      },
      "execution_count": null,
      "outputs": []
    },
    {
      "cell_type": "code",
      "source": [
        "torch.manual_seed(420)\n",
        "\n",
        "sigmoid_model3 = Sigmoid_class3()"
      ],
      "metadata": {
        "id": "d63Nwj2TuvoS"
      },
      "execution_count": null,
      "outputs": []
    },
    {
      "cell_type": "code",
      "source": [
        "p1 = list(sigmoid_model3.parameters())\n",
        "p1"
      ],
      "metadata": {
        "colab": {
          "base_uri": "https://localhost:8080/"
        },
        "id": "mkJWZrAmu49J",
        "outputId": "9348a60f-63d7-454c-fb18-b5bc9f9f8890"
      },
      "execution_count": null,
      "outputs": [
        {
          "output_type": "execute_result",
          "data": {
            "text/plain": [
              "[Parameter containing:\n",
              " tensor([[ 0.4318, -0.4256],\n",
              "         [ 0.6730, -0.5617],\n",
              "         [-0.2157, -0.4873],\n",
              "         [ 0.5453,  0.2653]], requires_grad=True), Parameter containing:\n",
              " tensor([-0.3527, -0.5469, -0.4094, -0.1364], requires_grad=True), Parameter containing:\n",
              " tensor([1., 1., 1., 1.], requires_grad=True), Parameter containing:\n",
              " tensor([0., 0., 0., 0.], requires_grad=True), Parameter containing:\n",
              " tensor([[-0.2552,  0.3644, -0.2104, -0.3271],\n",
              "         [-0.1542, -0.4883, -0.2428, -0.2728],\n",
              "         [ 0.1076,  0.4066,  0.0540, -0.2914],\n",
              "         [ 0.2058, -0.2129, -0.2367, -0.0958]], requires_grad=True), Parameter containing:\n",
              " tensor([-0.2609,  0.0550,  0.4059,  0.0682], requires_grad=True), Parameter containing:\n",
              " tensor([1., 1., 1., 1.], requires_grad=True), Parameter containing:\n",
              " tensor([0., 0., 0., 0.], requires_grad=True), Parameter containing:\n",
              " tensor([[ 3.0199e-01, -4.3436e-01, -3.9335e-01, -6.6525e-02],\n",
              "         [ 4.5806e-04,  3.1209e-01, -4.3974e-01,  2.0861e-01],\n",
              "         [-4.2916e-01,  8.0655e-02,  3.3044e-01,  6.8971e-02],\n",
              "         [ 1.5964e-01,  3.1789e-01,  4.9465e-01, -3.1377e-01]],\n",
              "        requires_grad=True), Parameter containing:\n",
              " tensor([ 0.1638,  0.4116,  0.2843, -0.4529], requires_grad=True), Parameter containing:\n",
              " tensor([1., 1., 1., 1.], requires_grad=True), Parameter containing:\n",
              " tensor([0., 0., 0., 0.], requires_grad=True), Parameter containing:\n",
              " tensor([[-0.3468, -0.4897,  0.2213,  0.4947]], requires_grad=True), Parameter containing:\n",
              " tensor([-0.4843], requires_grad=True)]"
            ]
          },
          "metadata": {},
          "execution_count": 11
        }
      ]
    },
    {
      "cell_type": "code",
      "source": [
        "f = torch.tensor([[1.,2]])\n",
        "sigmoid_model3(f)"
      ],
      "metadata": {
        "colab": {
          "base_uri": "https://localhost:8080/"
        },
        "id": "aRqOYDXVvQCB",
        "outputId": "dda83ae2-9981-48a3-fc8e-6e9ab5c9cb5a"
      },
      "execution_count": null,
      "outputs": [
        {
          "output_type": "execute_result",
          "data": {
            "text/plain": [
              "tensor([[-0.5715]], grad_fn=<AddmmBackward0>)"
            ]
          },
          "metadata": {},
          "execution_count": 12
        }
      ]
    },
    {
      "cell_type": "code",
      "source": [
        "ml= list(sigmoid_model3.modules())\n",
        "list(ml[1].parameters())  # 适合对数据的所有参数比较适用"
      ],
      "metadata": {
        "colab": {
          "base_uri": "https://localhost:8080/"
        },
        "id": "WQ63xvDNv0Qh",
        "outputId": "071e185e-3378-4068-b912-ef109408a2bc"
      },
      "execution_count": null,
      "outputs": [
        {
          "output_type": "execute_result",
          "data": {
            "text/plain": [
              "[Parameter containing:\n",
              " tensor([[ 0.4318, -0.4256],\n",
              "         [ 0.6730, -0.5617],\n",
              "         [-0.2157, -0.4873],\n",
              "         [ 0.5453,  0.2653]], requires_grad=True), Parameter containing:\n",
              " tensor([-0.3527, -0.5469, -0.4094, -0.1364], requires_grad=True)]"
            ]
          },
          "metadata": {},
          "execution_count": 28
        }
      ]
    },
    {
      "cell_type": "code",
      "source": [
        "ml[1].weight, ml[1].bias "
      ],
      "metadata": {
        "colab": {
          "base_uri": "https://localhost:8080/"
        },
        "id": "7Dl0_xvyyX9K",
        "outputId": "0cccbf5a-7e45-4408-8f04-65cd3bc674c7"
      },
      "execution_count": null,
      "outputs": [
        {
          "output_type": "execute_result",
          "data": {
            "text/plain": [
              "(Parameter containing:\n",
              " tensor([[ 0.4318, -0.4256],\n",
              "         [ 0.6730, -0.5617],\n",
              "         [-0.2157, -0.4873],\n",
              "         [ 0.5453,  0.2653]], requires_grad=True), Parameter containing:\n",
              " tensor([-0.3527, -0.5469, -0.4094, -0.1364], requires_grad=True))"
            ]
          },
          "metadata": {},
          "execution_count": 36
        }
      ]
    },
    {
      "cell_type": "code",
      "source": [
        "list(sigmoid_model3.modules())[1](f)  # 返回模型第一层输出结果"
      ],
      "metadata": {
        "colab": {
          "base_uri": "https://localhost:8080/"
        },
        "id": "aWHPt6Dtv4y6",
        "outputId": "935615fe-433b-4a71-c5c0-b66de757d6ef"
      },
      "execution_count": null,
      "outputs": [
        {
          "output_type": "execute_result",
          "data": {
            "text/plain": [
              "tensor([[-0.7721, -0.9973, -1.5997,  0.9395]], grad_fn=<AddmmBackward0>)"
            ]
          },
          "metadata": {},
          "execution_count": 19
        }
      ]
    },
    {
      "cell_type": "code",
      "source": [
        "torch.mm(f,p1[0].t()) + p1[1].t()  # 矩阵需要转置parameters中的权重矩阵"
      ],
      "metadata": {
        "colab": {
          "base_uri": "https://localhost:8080/"
        },
        "id": "qjhiSKmHwXy1",
        "outputId": "6f634bc3-2abe-413b-a214-56514660f902"
      },
      "execution_count": null,
      "outputs": [
        {
          "output_type": "execute_result",
          "data": {
            "text/plain": [
              "tensor([[-0.7721, -0.9973, -1.5997,  0.9395]], grad_fn=<AddBackward0>)"
            ]
          },
          "metadata": {},
          "execution_count": 21
        }
      ]
    },
    {
      "cell_type": "code",
      "source": [
        "for m in sigmoid_model3.modules():\n",
        "  if isinstance(m,nn.Linear):\n",
        "    print(m.weight)   # 各个层之间的权重值"
      ],
      "metadata": {
        "colab": {
          "base_uri": "https://localhost:8080/"
        },
        "id": "c9cpvJvkw09w",
        "outputId": "feca471f-2c51-428b-e5c3-cb1275d914c7"
      },
      "execution_count": null,
      "outputs": [
        {
          "output_type": "stream",
          "name": "stdout",
          "text": [
            "Parameter containing:\n",
            "tensor([[ 0.4318, -0.4256],\n",
            "        [ 0.6730, -0.5617],\n",
            "        [-0.2157, -0.4873],\n",
            "        [ 0.5453,  0.2653]], requires_grad=True)\n",
            "Parameter containing:\n",
            "tensor([[-0.2552,  0.3644, -0.2104, -0.3271],\n",
            "        [-0.1542, -0.4883, -0.2428, -0.2728],\n",
            "        [ 0.1076,  0.4066,  0.0540, -0.2914],\n",
            "        [ 0.2058, -0.2129, -0.2367, -0.0958]], requires_grad=True)\n",
            "Parameter containing:\n",
            "tensor([[ 3.0199e-01, -4.3436e-01, -3.9335e-01, -6.6525e-02],\n",
            "        [ 4.5806e-04,  3.1209e-01, -4.3974e-01,  2.0861e-01],\n",
            "        [-4.2916e-01,  8.0655e-02,  3.3044e-01,  6.8971e-02],\n",
            "        [ 1.5964e-01,  3.1789e-01,  4.9465e-01, -3.1377e-01]],\n",
            "       requires_grad=True)\n",
            "Parameter containing:\n",
            "tensor([[-0.3468, -0.4897,  0.2213,  0.4947]], requires_grad=True)\n"
          ]
        }
      ]
    },
    {
      "cell_type": "code",
      "source": [
        "fit(net=sigmoid_model3,\n",
        "  criterion=nn.MSELoss(),\n",
        "  optimizer=optim.SGD(sigmoid_model3.parameters(),lr=0.03),\n",
        "  batchdata=train_loader,\n",
        "  epochs=5)"
      ],
      "metadata": {
        "id": "5kkAkdBKyk0g"
      },
      "execution_count": null,
      "outputs": []
    },
    {
      "cell_type": "code",
      "source": [
        "for m in sigmoid_model3.modules():\n",
        "  if isinstance(m,nn.Linear):\n",
        "    print(m.weight)"
      ],
      "metadata": {
        "colab": {
          "base_uri": "https://localhost:8080/"
        },
        "id": "XZf0nAc2_I20",
        "outputId": "2cd68a88-621e-4c81-8b9e-6da6547aaa9f"
      },
      "execution_count": null,
      "outputs": [
        {
          "output_type": "stream",
          "name": "stdout",
          "text": [
            "Parameter containing:\n",
            "tensor([[ 0.4357, -0.4260],\n",
            "        [ 0.7099, -0.5654],\n",
            "        [-0.2172, -0.4865],\n",
            "        [ 0.5492,  0.2803]], requires_grad=True)\n",
            "Parameter containing:\n",
            "tensor([[-0.2606,  0.3550, -0.2129, -0.3310],\n",
            "        [-0.1453, -0.4643, -0.2409, -0.2757],\n",
            "        [ 0.1391,  0.4738,  0.0635, -0.2822],\n",
            "        [ 0.1943, -0.2343, -0.2410, -0.1027]], requires_grad=True)\n",
            "Parameter containing:\n",
            "tensor([[ 0.2688, -0.4683, -0.4468, -0.1076],\n",
            "        [-0.0468,  0.2679, -0.5163,  0.1525],\n",
            "        [-0.4125,  0.0575,  0.3616,  0.0668],\n",
            "        [ 0.2008,  0.3056,  0.5667, -0.2936]], requires_grad=True)\n",
            "Parameter containing:\n",
            "tensor([[ 0.0017, -0.0855,  0.6482,  0.8358]], requires_grad=True)\n"
          ]
        }
      ]
    },
    {
      "cell_type": "code",
      "source": [
        "for m in sigmoid_model3.modules():\n",
        "  if isinstance(m,nn.Linear):\n",
        "    print(m.weight.grad)"
      ],
      "metadata": {
        "colab": {
          "base_uri": "https://localhost:8080/"
        },
        "id": "04gBqWFS_RBt",
        "outputId": "c43724e3-c2b9-4cc4-c659-59551790e177"
      },
      "execution_count": null,
      "outputs": [
        {
          "output_type": "stream",
          "name": "stdout",
          "text": [
            "tensor([[-2.5572e-03, -2.9124e-04],\n",
            "        [-1.5477e-02, -2.2769e-03],\n",
            "        [-2.3698e-03,  2.8652e-05],\n",
            "        [ 9.3375e-03, -1.5299e-03]])\n",
            "tensor([[ 0.0028,  0.0040, -0.0004,  0.0034],\n",
            "        [-0.0083, -0.0122,  0.0016, -0.0099],\n",
            "        [-0.0235, -0.0343,  0.0040, -0.0284],\n",
            "        [ 0.0077,  0.0111, -0.0011,  0.0094]])\n",
            "tensor([[ 8.6394e-05,  1.4499e-05,  1.7788e-04,  9.4201e-05],\n",
            "        [ 2.9233e-03,  4.8348e-04,  6.0220e-03,  3.1860e-03],\n",
            "        [-1.9596e-02, -2.9274e-03, -4.0515e-02, -2.1293e-02],\n",
            "        [-2.6658e-02, -4.1402e-03, -5.5041e-02, -2.8999e-02]])\n",
            "tensor([[-0.1477, -0.1638, -0.2055, -0.1704]])\n"
          ]
        }
      ]
    },
    {
      "cell_type": "code",
      "source": [
        "import seaborn as sns\n",
        "import numpy as np"
      ],
      "metadata": {
        "id": "ZHou9WgQ_tK7"
      },
      "execution_count": null,
      "outputs": []
    },
    {
      "cell_type": "code",
      "source": [
        "vp = []\n",
        "for i,m in enumerate(sigmoid_model3.modules()):\n",
        "  if isinstance(m,nn.Linear):\n",
        "    vp_x = m.weight.grad.detach().reshape(-1,1).numpy()\n",
        "    vp_y = np.full_like(vp_x,i)\n",
        "    vp_a = np.concatenate((vp_x,vp_y),1)\n",
        "    vp.append(vp_a)"
      ],
      "metadata": {
        "id": "qkF6j5EaATQ9"
      },
      "execution_count": null,
      "outputs": []
    },
    {
      "cell_type": "code",
      "source": [
        "vp_r = np.concatenate(vp,0)\n",
        "ax = sns.violinplot(y=vp_r[:,0],x=vp_r[:,1])\n",
        "ax.set(xlabel=\"num_hidden\",title=\"Gradients\");"
      ],
      "metadata": {
        "colab": {
          "base_uri": "https://localhost:8080/",
          "height": 314
        },
        "id": "J_T7ZHqUA8Qc",
        "outputId": "e27e2158-b3b5-43b7-e7c7-f6fc8ab225c9"
      },
      "execution_count": null,
      "outputs": [
        {
          "output_type": "execute_result",
          "data": {
            "text/plain": [
              "[Text(0.5, 0, 'num_hidden'), Text(0.5, 1.0, 'Gradients')]"
            ]
          },
          "metadata": {},
          "execution_count": 57
        },
        {
          "output_type": "display_data",
          "data": {
            "text/plain": [
              "<Figure size 432x288 with 1 Axes>"
            ],
            "image/png": "[encoded data removed]"
          },
          "metadata": {
            "needs_background": "light"
          }
        }
      ]
    },
    {
      "cell_type": "code",
      "source": [
        "vp = []\n",
        "for i,m in enumerate(sigmoid_model3.modules()):\n",
        "  if isinstance(m,nn.Linear):\n",
        "    vp_x = m.weight.detach().reshape(-1,1).numpy()\n",
        "    vp_y = np.full_like(vp_x,i)\n",
        "    vp_a = np.concatenate((vp_x,vp_y),1)\n",
        "    vp.append(vp_a)\n",
        "vp_r = np.concatenate(vp,0)\n",
        "ax = sns.violinplot(y=vp_r[:,0],x=vp_r[:,1])\n",
        "ax.set(xlabel=\"num_hidden\",title=\"Weight\");"
      ],
      "metadata": {
        "colab": {
          "base_uri": "https://localhost:8080/",
          "height": 296
        },
        "id": "zY3A_euBBjeL",
        "outputId": "afd42222-a446-454c-d3f3-a7bd74f8deb1"
      },
      "execution_count": null,
      "outputs": [
        {
          "output_type": "display_data",
          "data": {
            "text/plain": [
              "<Figure size 432x288 with 1 Axes>"
            ],
            "image/png": "[encoded data removed]"
          },
          "metadata": {
            "needs_background": "light"
          }
        }
      ]
    },
    {
      "cell_type": "code",
      "source": [
        "fit(net=sigmoid_model3,\n",
        "  criterion=nn.MSELoss(),\n",
        "  optimizer=optim.SGD(sigmoid_model3.parameters(),lr=0.03),\n",
        "  batchdata=train_loader,\n",
        "  epochs=20,\n",
        "  cla=False)"
      ],
      "metadata": {
        "id": "iQSXO3HLDou8"
      },
      "execution_count": null,
      "outputs": []
    },
    {
      "cell_type": "code",
      "source": [
        "weights_vp(sigmoid_model3,att=\"grad\")"
      ],
      "metadata": {
        "colab": {
          "base_uri": "https://localhost:8080/",
          "height": 296
        },
        "id": "hcTRWBKIEJqk",
        "outputId": "cb71463d-79c3-476b-89c5-a024f55cedeb"
      },
      "execution_count": null,
      "outputs": [
        {
          "output_type": "display_data",
          "data": {
            "text/plain": [
              "<Figure size 432x288 with 1 Axes>"
            ],
            "image/png": "[encoded data removed]"
          },
          "metadata": {
            "needs_background": "light"
          }
        }
      ]
    },
    {
      "cell_type": "markdown",
      "source": [
        "##**Tanh函数的梯度计算问题**"
      ],
      "metadata": {
        "id": "p1gJVbuIFWsm"
      }
    },
    {
      "cell_type": "code",
      "source": [
        "class tanh_class4(nn.Module):                                   \n",
        "  def __init__(self, in_features=2, n_hidden1=4, n_hidden2=4, n_hidden3=4, n_hidden4=4, out_features=1):       \n",
        "      super(tanh_class4, self).__init__()\n",
        "      self.linear1 = nn.Linear(in_features, n_hidden1)\n",
        "      self.linear2 = nn.Linear(n_hidden1, n_hidden2)\n",
        "      self.linear3 = nn.Linear(n_hidden2, n_hidden3)\n",
        "      self.linear4 = nn.Linear(n_hidden3, n_hidden4)\n",
        "      self.linear5 = nn.Linear(n_hidden4, out_features) \n",
        "      \n",
        "  def forward(self, x):          \n",
        "      z1 = self.linear1(x)\n",
        "      p1 = torch.tanh(z1)\n",
        "      z2 = self.linear2(p1)\n",
        "      p2 = torch.tanh(z2)\n",
        "      z3 = self.linear3(p2)\n",
        "      p3 = torch.tanh(z3)\n",
        "      z4 = self.linear4(p3)\n",
        "      p4 = torch.tanh(z4)\n",
        "      out = self.linear5(p4)\n",
        "      return out"
      ],
      "metadata": {
        "id": "WH_0KfvTEPW7"
      },
      "execution_count": 65,
      "outputs": []
    },
    {
      "cell_type": "code",
      "source": [
        "torch.manual_seed(420)\n",
        "\n",
        "tanh_model4 = tanh_class4()"
      ],
      "metadata": {
        "id": "B4piPXBuFet2"
      },
      "execution_count": 81,
      "outputs": []
    },
    {
      "cell_type": "code",
      "source": [
        "list(tanh_model4.modules())"
      ],
      "metadata": {
        "id": "A88XLXVQGcXV"
      },
      "execution_count": null,
      "outputs": []
    },
    {
      "cell_type": "code",
      "source": [
        "for m in tanh_model4.modules():\n",
        "  if isinstance(m,nn.Linear):\n",
        "    print(m.weight)"
      ],
      "metadata": {
        "colab": {
          "base_uri": "https://localhost:8080/"
        },
        "id": "gImBjiYmGIuF",
        "outputId": "e6cf1f23-2c76-4c4a-d105-09bdd296b9e8"
      },
      "execution_count": 83,
      "outputs": [
        {
          "output_type": "stream",
          "name": "stdout",
          "text": [
            "Parameter containing:\n",
            "tensor([[ 0.4318, -0.4256],\n",
            "        [ 0.6730, -0.5617],\n",
            "        [-0.2157, -0.4873],\n",
            "        [ 0.5453,  0.2653]], requires_grad=True)\n",
            "Parameter containing:\n",
            "tensor([[-0.2552,  0.3644, -0.2104, -0.3271],\n",
            "        [-0.1542, -0.4883, -0.2428, -0.2728],\n",
            "        [ 0.1076,  0.4066,  0.0540, -0.2914],\n",
            "        [ 0.2058, -0.2129, -0.2367, -0.0958]], requires_grad=True)\n",
            "Parameter containing:\n",
            "tensor([[ 3.0199e-01, -4.3436e-01, -3.9335e-01, -6.6525e-02],\n",
            "        [ 4.5806e-04,  3.1209e-01, -4.3974e-01,  2.0861e-01],\n",
            "        [-4.2916e-01,  8.0655e-02,  3.3044e-01,  6.8971e-02],\n",
            "        [ 1.5964e-01,  3.1789e-01,  4.9465e-01, -3.1377e-01]],\n",
            "       requires_grad=True)\n",
            "Parameter containing:\n",
            "tensor([[-0.3468, -0.4897,  0.2213,  0.4947],\n",
            "        [-0.4843,  0.3998, -0.4678, -0.0610],\n",
            "        [ 0.4057, -0.0786,  0.0555,  0.3645],\n",
            "        [-0.4194,  0.1265, -0.2440,  0.4589]], requires_grad=True)\n",
            "Parameter containing:\n",
            "tensor([[-0.2952,  0.1712, -0.3926,  0.2928]], requires_grad=True)\n"
          ]
        }
      ]
    },
    {
      "cell_type": "code",
      "source": [
        "train_l, test_l = model_train_test(tanh_model4, \n",
        "                   train_loader,\n",
        "                   test_loader,\n",
        "                   num_epochs = 5, \n",
        "                   criterion = nn.MSELoss(), \n",
        "                   optimizer = optim.SGD, \n",
        "                   lr = 0.03, \n",
        "                   cla = False, \n",
        "                   eva = mse_cal)"
      ],
      "metadata": {
        "id": "aVumEoZQGR07"
      },
      "execution_count": 84,
      "outputs": []
    },
    {
      "cell_type": "code",
      "source": [
        "for m in tanh_model4.modules():\n",
        "  if isinstance(m, nn.Linear):\n",
        "    print(m.weight)"
      ],
      "metadata": {
        "colab": {
          "base_uri": "https://localhost:8080/"
        },
        "id": "jkOO0GnYGk_b",
        "outputId": "76eb81cd-6398-4c9d-91dd-8d1c9af9de46"
      },
      "execution_count": 85,
      "outputs": [
        {
          "output_type": "stream",
          "name": "stdout",
          "text": [
            "Parameter containing:\n",
            "tensor([[ 1.4839, -1.2525],\n",
            "        [ 0.0965, -0.3440],\n",
            "        [-0.3401, -0.2464],\n",
            "        [ 1.4738,  1.2353]], requires_grad=True)\n",
            "Parameter containing:\n",
            "tensor([[-1.2388,  0.3235, -0.3155,  0.5049],\n",
            "        [ 0.1208, -0.2847, -0.1933, -0.4100],\n",
            "        [ 0.6274,  0.5045,  0.1624, -0.6843],\n",
            "        [ 1.3054, -0.2037, -0.1091, -1.4094]], requires_grad=True)\n",
            "Parameter containing:\n",
            "tensor([[ 0.6659, -0.2446, -0.8782, -1.0968],\n",
            "        [-0.6992,  0.4826,  0.2194,  0.9251],\n",
            "        [-0.4141,  0.1407,  0.2448,  0.0618],\n",
            "        [ 0.5716,  0.3977, -0.0867, -1.0423]], requires_grad=True)\n",
            "Parameter containing:\n",
            "tensor([[-1.1501e-01, -7.5453e-01, -2.9874e-01,  7.9182e-01],\n",
            "        [-8.2338e-01,  5.9934e-01, -8.6214e-02, -3.4317e-01],\n",
            "        [ 1.2655e+00, -9.1910e-04, -3.4788e-01,  7.6040e-01],\n",
            "        [-7.0988e-01,  4.2752e-01,  2.9324e-02,  1.5254e-01]],\n",
            "       requires_grad=True)\n",
            "Parameter containing:\n",
            "tensor([[-2.0629,  1.4902, -2.3601,  0.5933]], requires_grad=True)\n"
          ]
        }
      ]
    },
    {
      "cell_type": "code",
      "source": [
        "for m in tanh_model4.modules():\n",
        "    if isinstance(m, nn.Linear):\n",
        "        print(m.weight.grad)"
      ],
      "metadata": {
        "colab": {
          "base_uri": "https://localhost:8080/"
        },
        "id": "xQSBOoluHA0M",
        "outputId": "b50ceb4a-67f2-43d1-bb3a-ea44f8867866"
      },
      "execution_count": 86,
      "outputs": [
        {
          "output_type": "stream",
          "name": "stdout",
          "text": [
            "tensor([[ 6.4397,  4.2417],\n",
            "        [-0.5297, -0.5953],\n",
            "        [ 0.0378,  0.1969],\n",
            "        [-0.5715,  0.3275]])\n",
            "tensor([[ 0.6898,  1.1730,  1.2211, -2.2291],\n",
            "        [-0.2758, -0.3855, -0.3755,  0.7054],\n",
            "        [ 0.3524, -0.6981, -0.9279,  1.3413],\n",
            "        [ 0.7791, -1.2236, -1.7457,  2.5026]])\n",
            "tensor([[ 0.8900,  0.1328,  0.6178,  0.0474],\n",
            "        [ 1.4413, -0.5989, -1.8211, -2.0032],\n",
            "        [ 0.2135, -0.1752, -0.5945, -0.5397],\n",
            "        [-0.8026,  0.4465,  1.4125,  1.4063]])\n",
            "tensor([[-2.3622,  1.1366,  0.7924, -1.3851],\n",
            "        [ 1.2869, -0.4316, -0.3436,  0.5445],\n",
            "        [-0.5565, -0.7401, -0.2579,  0.5970],\n",
            "        [ 0.6996, -0.1631, -0.1567,  0.2371]])\n",
            "tensor([[-0.9019, -0.8363,  1.5470, -0.7958]])\n"
          ]
        }
      ]
    },
    {
      "cell_type": "code",
      "source": [
        "weights_vp(tanh_model4,att=\"grad\")"
      ],
      "metadata": {
        "colab": {
          "base_uri": "https://localhost:8080/",
          "height": 296
        },
        "id": "ApmfGBU0Gm6D",
        "outputId": "94661b2c-4dc1-41d9-c4f8-6ba211bd9546"
      },
      "execution_count": 87,
      "outputs": [
        {
          "output_type": "display_data",
          "data": {
            "text/plain": [
              "<Figure size 432x288 with 1 Axes>"
            ],
            "image/png": "[encoded data removed]"
          },
          "metadata": {
            "needs_background": "light"
          }
        }
      ]
    },
    {
      "cell_type": "code",
      "source": [
        "torch.manual_seed(420)  \n",
        "\n",
        "# 实例化模型\n",
        "tanh_model4 = tanh_class4()\n",
        "\n",
        "\n",
        "train_l, test_l = model_train_test(tanh_model4, \n",
        "                  train_loader,\n",
        "                  test_loader,\n",
        "                  num_epochs = 20, \n",
        "                  criterion = nn.MSELoss(), \n",
        "                  optimizer = optim.SGD, \n",
        "                  lr = 0.03, \n",
        "                  cla = False, \n",
        "                  eva = mse_cal)"
      ],
      "metadata": {
        "id": "ufySsdLFG4pM"
      },
      "execution_count": 95,
      "outputs": []
    },
    {
      "cell_type": "code",
      "source": [
        "for m in tanh_model4.modules():\n",
        "    if isinstance(m, nn.Linear):\n",
        "        print(m.weight.grad)"
      ],
      "metadata": {
        "colab": {
          "base_uri": "https://localhost:8080/"
        },
        "id": "4EN63IMUHnkb",
        "outputId": "0e595f61-7e18-4d52-a4ca-d4e3964b5007"
      },
      "execution_count": 96,
      "outputs": [
        {
          "output_type": "stream",
          "name": "stdout",
          "text": [
            "tensor([[-0.0170, -0.0103],\n",
            "        [ 0.1094,  0.0081],\n",
            "        [-0.0157,  0.0101],\n",
            "        [-3.1891,  2.1460]])\n",
            "tensor([[-3.2009e-02, -2.3869e-02, -3.5422e-02,  3.5327e-02],\n",
            "        [ 3.4205e-01, -3.2467e-01,  3.4272e-01,  2.3019e-02],\n",
            "        [ 1.6659e-02, -1.6419e-02,  1.6632e-02, -5.9128e-03],\n",
            "        [ 5.1504e-05, -4.0607e-05,  5.2055e-05, -2.2655e-05]])\n",
            "tensor([[ 6.0294e-05,  2.8228e-05, -6.0369e-05, -6.0741e-05],\n",
            "        [ 2.3402e-01, -2.9510e-01, -2.3411e-01, -2.3402e-01],\n",
            "        [-7.9437e-01, -7.3400e-01,  7.9809e-01,  8.0484e-01],\n",
            "        [ 2.1566e-04,  2.1223e-04, -2.1656e-04, -2.1838e-04]])\n",
            "tensor([[-4.8012e-01,  3.3204e-01,  4.8076e-01, -4.8009e-01],\n",
            "        [-1.9925e-02, -1.9601e-02,  1.4374e-02, -1.9920e-02],\n",
            "        [ 4.8017e-04,  1.0636e-03, -2.9823e-04,  4.7999e-04],\n",
            "        [-1.1226e+00, -1.0629e+00,  8.9443e-01, -1.1223e+00]])\n",
            "tensor([[ 0.2820,  0.2029, -0.2058, -0.2413]])\n"
          ]
        }
      ]
    },
    {
      "cell_type": "code",
      "source": [
        "weights_vp(tanh_model4,att=\"grad\")"
      ],
      "metadata": {
        "colab": {
          "base_uri": "https://localhost:8080/",
          "height": 296
        },
        "id": "eAwEU43RHsq0",
        "outputId": "cd51c9b6-2cbc-428d-8c14-ed93a3c62359"
      },
      "execution_count": 97,
      "outputs": [
        {
          "output_type": "display_data",
          "data": {
            "text/plain": [
              "<Figure size 432x288 with 1 Axes>"
            ],
            "image/png": "[encoded data removed]"
          },
          "metadata": {
            "needs_background": "light"
          }
        }
      ]
    },
    {
      "cell_type": "markdown",
      "source": [
        "整体来看，针对梯度不平稳的解决方案（优化方法）总共分为五类，分别是<font color=\"orange\">参数初始化方法、输入数据的归一化方法、衍生激活函数使用方法、学习率调度方法以及梯度下降优化方法"
      ],
      "metadata": {
        "id": "SWogBIr9I3PU"
      }
    },
    {
      "cell_type": "markdown",
      "source": [
        "能否创建初始值全为0的参数？"
      ],
      "metadata": {
        "id": "nbibWRhKLdQz"
      }
    },
    {
      "cell_type": "code",
      "source": [
        "class Sigmoid_class1_test(nn.Module):\n",
        "  def __init__(self,in_features=2,n_hidden=2,out_features=1,bias=False):\n",
        "    super(Sigmoid_class1_test,self).__init__()\n",
        "    self.linear1 = nn.Linear(in_features,n_hidden,bias=bias)\n",
        "    self.linear2 = nn.Linear(n_hidden,out_features,bias=bias)\n",
        "\n",
        "  def forward(self,x):\n",
        "    z1 = self.linear1(x)\n",
        "    p1 = torch.sigmoid(z1)\n",
        "    out = self.linear2(p1)\n",
        "    return out"
      ],
      "metadata": {
        "id": "QCRa_NGuHudT"
      },
      "execution_count": 113,
      "outputs": []
    },
    {
      "cell_type": "code",
      "source": [
        "torch.manual_seed(420)\n",
        "sigmoid_test = Sigmoid_class1_test()"
      ],
      "metadata": {
        "id": "wGOpplciMQnt"
      },
      "execution_count": 114,
      "outputs": []
    },
    {
      "cell_type": "code",
      "source": [
        "list(sigmoid_test.parameters())"
      ],
      "metadata": {
        "colab": {
          "base_uri": "https://localhost:8080/"
        },
        "id": "lE2Lr28tMb10",
        "outputId": "071ed0f6-3c83-430b-9a67-618c774c37af"
      },
      "execution_count": 115,
      "outputs": [
        {
          "output_type": "execute_result",
          "data": {
            "text/plain": [
              "[Parameter containing:\n",
              " tensor([[ 0.4318, -0.4256],\n",
              "         [ 0.6730, -0.5617]], requires_grad=True), Parameter containing:\n",
              " tensor([[-0.2157, -0.4873]], requires_grad=True)]"
            ]
          },
          "metadata": {},
          "execution_count": 115
        }
      ]
    },
    {
      "cell_type": "code",
      "source": [
        "list(sigmoid_test.parameters())[0].data = torch.tensor([[0.,0],[0.,0]])\n",
        "list(sigmoid_test.parameters())[1].data = torch.tensor([[0.,0]])"
      ],
      "metadata": {
        "id": "qWRtBlmoMj4E"
      },
      "execution_count": 125,
      "outputs": []
    },
    {
      "cell_type": "code",
      "source": [
        "list(sigmoid_test.parameters())"
      ],
      "metadata": {
        "colab": {
          "base_uri": "https://localhost:8080/"
        },
        "id": "2fxMKK7lNMR0",
        "outputId": "53e910e3-7df4-461e-df4a-d9d1742faf93"
      },
      "execution_count": 126,
      "outputs": [
        {
          "output_type": "execute_result",
          "data": {
            "text/plain": [
              "[Parameter containing:\n",
              " tensor([[0., 0.],\n",
              "         [0., 0.]], requires_grad=True), Parameter containing:\n",
              " tensor([[0., 0.]], requires_grad=True)]"
            ]
          },
          "metadata": {},
          "execution_count": 126
        }
      ]
    },
    {
      "cell_type": "code",
      "source": [
        "fit(\n",
        "    net=sigmoid_test,\n",
        "    criterion=nn.MSELoss(),\n",
        "    optimizer=optim.SGD(sigmoid_test.parameters(),lr=0.03),\n",
        "    batchdata=train_loader,\n",
        "    epochs=5,\n",
        "    cla=False\n",
        ")"
      ],
      "metadata": {
        "id": "mSyt-Up6NPrc"
      },
      "execution_count": 127,
      "outputs": []
    },
    {
      "cell_type": "code",
      "source": [
        "list(sigmoid_test.parameters()) # 每一行都是同步变化的"
      ],
      "metadata": {
        "colab": {
          "base_uri": "https://localhost:8080/"
        },
        "id": "tcDVV1ocNlM1",
        "outputId": "413c96f3-d5e9-4a2d-8c75-8c80ea7359d4"
      },
      "execution_count": 128,
      "outputs": [
        {
          "output_type": "execute_result",
          "data": {
            "text/plain": [
              "[Parameter containing:\n",
              " tensor([[0.1282, 0.1305],\n",
              "         [0.1282, 0.1305]], requires_grad=True), Parameter containing:\n",
              " tensor([[0.8928, 0.8928]], requires_grad=True)]"
            ]
          },
          "metadata": {},
          "execution_count": 128
        }
      ]
    },
    {
      "cell_type": "markdown",
      "source": [
        "&emsp;&emsp;<font color=\"orange\">**而这种正向传播时数据方差保持一致、反向传播时参数梯度方差保持一致的条件，也被称为Glorot条件，满足该条件的模型能够进行有效平稳的训练，而为了满足该条件而创建的（当然也是由上述论文提出的）模型初始化参数值设计方法，也被称为Xavier方法。而在Xavier方法中，最核心解决的问题，也就是为了创建Zero-Centered的初始化参数时参数的方差。和我们从朴素的角度思考的方向是一致的。**"
      ],
      "metadata": {
        "id": "jDurPa0bQrMM"
      }
    },
    {
      "cell_type": "markdown",
      "source": [
        "我们发现，初始参数值的选取不仅会影响模型收敛速度，甚至在某些情况下还会影响模型的最终表现。造成此现象的根本原因还是在于神经网络模型在进行训练时，不确定性过多，而在一个拥有诸多不确定性的系统中再加上不确定的初始参数，初始参数的不确定性会被这个系统放大。并且，值得一提的是，每一个epoch中的每一次迭代并不是在一个损失函数上一步步下降的，当我们使用小批量梯度下降算法时，带入不同批的数据，实际创建的损失函数也会不同。"
      ],
      "metadata": {
        "id": "7chLQ078S0GJ"
      }
    }
  ]
}